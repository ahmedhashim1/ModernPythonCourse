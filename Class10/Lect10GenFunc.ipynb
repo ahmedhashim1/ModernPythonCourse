{
 "cells": [
  {
   "cell_type": "markdown",
   "source": [
    "# Generator Functions\n",
    "* iterate over element one-by-one\n",
    "* stop after each iteration\n",
    "* Store/remember old value from last iterate\n",
    "* next iterate:\n",
    "    * go forward from last iteration\n"
   ],
   "metadata": {
    "collapsed": false
   }
  },
  {
   "cell_type": "code",
   "execution_count": 13,
   "metadata": {
    "collapsed": true,
    "ExecuteTime": {
     "end_time": "2024-03-10T07:14:53.000915500Z",
     "start_time": "2024-03-10T07:14:52.984587700Z"
    }
   },
   "outputs": [
    {
     "name": "stdout",
     "output_type": "stream",
     "text": [
      "<generator object my_range at 0x0000023DB05C5300>\n"
     ]
    },
    {
     "data": {
      "text/plain": "[1, 2, 3, 4, 5, 6, 7, 8, 9, 10]"
     },
     "metadata": {},
     "output_type": "display_data"
    }
   ],
   "source": [
    "def my_range(start: int, end: int, step: int = 1):\n",
    "    for i in range(start, end + 1, step):\n",
    "        yield i  # use for generator function\n",
    "\n",
    "\n",
    "iter_a = my_range(1, 10)\n",
    "print(iter_a)\n",
    "display(list(iter_a))"
   ]
  },
  {
   "cell_type": "code",
   "execution_count": 14,
   "outputs": [
    {
     "name": "stdout",
     "output_type": "stream",
     "text": [
      "<generator object my_range at 0x0000023DB05C4D60>\n",
      "1\n",
      "2\n",
      "3\n",
      "4\n",
      "Pakistan\n",
      "5\n"
     ]
    }
   ],
   "source": [
    "# using next to iterate over elements one by one\n",
    "iter_a = my_range(1, 10)\n",
    "print(iter_a)\n",
    "print(next(iter_a))\n",
    "print(next(iter_a))\n",
    "print(next(iter_a))\n",
    "print(next(iter_a))\n",
    "print(\"Pakistan\")\n",
    "print(next(iter_a))"
   ],
   "metadata": {
    "collapsed": false,
    "ExecuteTime": {
     "end_time": "2024-03-10T07:15:09.687149500Z",
     "start_time": "2024-03-10T07:15:09.672822100Z"
    }
   }
  },
  {
   "cell_type": "code",
   "execution_count": 15,
   "outputs": [
    {
     "data": {
      "text/plain": "['__class__',\n '__del__',\n '__delattr__',\n '__dir__',\n '__doc__',\n '__eq__',\n '__format__',\n '__ge__',\n '__getattribute__',\n '__getstate__',\n '__gt__',\n '__hash__',\n '__init__',\n '__init_subclass__',\n '__iter__',\n '__le__',\n '__lt__',\n '__name__',\n '__ne__',\n '__new__',\n '__next__',\n '__qualname__',\n '__reduce__',\n '__reduce_ex__',\n '__repr__',\n '__setattr__',\n '__sizeof__',\n '__str__',\n '__subclasshook__',\n 'close',\n 'gi_code',\n 'gi_frame',\n 'gi_running',\n 'gi_suspended',\n 'gi_yieldfrom',\n 'send',\n 'throw']"
     },
     "execution_count": 15,
     "metadata": {},
     "output_type": "execute_result"
    }
   ],
   "source": [
    "dir(iter_a)"
   ],
   "metadata": {
    "collapsed": false,
    "ExecuteTime": {
     "end_time": "2024-03-10T07:15:15.054667800Z",
     "start_time": "2024-03-10T07:15:15.047702500Z"
    }
   }
  },
  {
   "cell_type": "code",
   "execution_count": 16,
   "outputs": [
    {
     "name": "stdout",
     "output_type": "stream",
     "text": [
      "6\n",
      "7\n",
      "8\n",
      "9\n",
      "10\n"
     ]
    }
   ],
   "source": [
    "for i in iter_a:\n",
    "    print(i)"
   ],
   "metadata": {
    "collapsed": false,
    "ExecuteTime": {
     "end_time": "2024-03-10T07:15:19.754744Z",
     "start_time": "2024-03-10T07:15:19.723144900Z"
    }
   }
  },
  {
   "cell_type": "markdown",
   "source": [
    "# Passing unlimited numbers of paramters"
   ],
   "metadata": {
    "collapsed": false
   }
  },
  {
   "cell_type": "code",
   "execution_count": 18,
   "outputs": [
    {
     "name": "stdout",
     "output_type": "stream",
     "text": [
      "Hello Ahmed\n",
      "Hello Saba\n",
      "Hello Maheen\n"
     ]
    }
   ],
   "source": [
    "from typing import Tuple\n",
    "\n",
    "\n",
    "def greet(*names: Tuple[str, ...]) -> None:\n",
    "    for name in names:\n",
    "        print(\"Hello\", name)\n",
    "\n",
    "\n",
    "greet('Ahmed', 'Saba', 'Maheen')"
   ],
   "metadata": {
    "collapsed": false,
    "ExecuteTime": {
     "end_time": "2024-03-10T07:27:21.864695600Z",
     "start_time": "2024-03-10T07:27:21.849234400Z"
    }
   }
  },
  {
   "cell_type": "code",
   "execution_count": 21,
   "outputs": [
    {
     "name": "stdout",
     "output_type": "stream",
     "text": [
      "Value of num1 is 5 and Value of num2 is 10\n"
     ]
    },
    {
     "data": {
      "text/plain": "15"
     },
     "execution_count": 21,
     "metadata": {},
     "output_type": "execute_result"
    }
   ],
   "source": [
    "# Keyword arguments\n",
    "def add_two_num(num1: int, num2: int) -> int:\n",
    "    print(f\"Value of num1 is {num1} and Value of num2 is {num2}\")\n",
    "    return num1 + num2\n",
    "\n",
    "\n",
    "add_two_num(num2=10, num1=5)"
   ],
   "metadata": {
    "collapsed": false,
    "ExecuteTime": {
     "end_time": "2024-03-10T07:36:23.283405100Z",
     "start_time": "2024-03-10T07:36:23.260594600Z"
    }
   }
  },
  {
   "cell_type": "code",
   "execution_count": 22,
   "outputs": [
    {
     "name": "stdout",
     "output_type": "stream",
     "text": [
      "{'a': 7, 'b': 10, 'c': 25, 'name': 'Ahmed'} <class 'dict'>\n"
     ]
    }
   ],
   "source": [
    "def xyz(**kargs):\n",
    "    print(kargs, type(kargs))\n",
    "\n",
    "\n",
    "xyz(a=7, b=10, c=25, name='Ahmed')"
   ],
   "metadata": {
    "collapsed": false,
    "ExecuteTime": {
     "end_time": "2024-03-10T07:38:50.245634700Z",
     "start_time": "2024-03-10T07:38:50.229983100Z"
    }
   }
  },
  {
   "cell_type": "code",
   "execution_count": 23,
   "outputs": [
    {
     "name": "stdout",
     "output_type": "stream",
     "text": [
      "1 2 (7, 9, 9, 9) {'c': 20, 'd': 30, 'x': 100}\n"
     ]
    }
   ],
   "source": [
    "def my_function(a, b, *abc, **xyz):\n",
    "    print(a, b, abc, xyz)\n",
    "\n",
    "\n",
    "my_function(1, 2, 7, 9, 9, 9, c=20, d=30, x=100)"
   ],
   "metadata": {
    "collapsed": false,
    "ExecuteTime": {
     "end_time": "2024-03-10T07:42:09.817320400Z",
     "start_time": "2024-03-10T07:42:09.798372100Z"
    }
   }
  },
  {
   "cell_type": "code",
   "execution_count": 24,
   "outputs": [
    {
     "name": "stdout",
     "output_type": "stream",
     "text": [
      "Hello Ahmed\n",
      "Hello Saba\n",
      "Hello Maheen\n"
     ]
    }
   ],
   "source": [
    "from typing import Tuple\n",
    "\n",
    "\n",
    "def greet(*names: Tuple[str, ...]) -> None:\n",
    "    for name in names:\n",
    "        print(\"Hello\", name)\n",
    "\n",
    "\n",
    "greet('Ahmed', 'Saba', 'Maheen')"
   ],
   "metadata": {
    "collapsed": false,
    "ExecuteTime": {
     "end_time": "2024-03-10T07:45:47.666381800Z",
     "start_time": "2024-03-10T07:45:47.630335800Z"
    }
   }
  },
  {
   "cell_type": "code",
   "execution_count": 30,
   "outputs": [
    {
     "name": "stdout",
     "output_type": "stream",
     "text": [
      "{'country': 'Pakistan', 'name': 'Ahmed'}\n"
     ]
    }
   ],
   "source": [
    "from typing import Dict\n",
    "\n",
    "\n",
    "#Using dictionary\n",
    "\n",
    "def greet(**xyz: Dict[str, str]) -> None:\n",
    "    print(xyz)\n",
    "\n",
    "\n",
    "greet(country=\"Pakistan\", name='Ahmed')"
   ],
   "metadata": {
    "collapsed": false,
    "ExecuteTime": {
     "end_time": "2024-03-10T07:53:56.952045400Z",
     "start_time": "2024-03-10T07:53:56.920937900Z"
    }
   }
  },
  {
   "cell_type": "code",
   "execution_count": 1,
   "outputs": [
    {
     "name": "stdout",
     "output_type": "stream",
     "text": [
      "1 2 (7, 8, 9, 9) {'c': 20, 'd': 30, 'x': 100}\n"
     ]
    }
   ],
   "source": [
    "def my_function(a: int, b: int, *abc: int, **xyz: int) -> None:\n",
    "    print(a, b, abc, xyz)\n",
    "\n",
    "\n",
    "my_function(1, 2, 7, 8, 9, 9, c=20, d=30, x=100)"
   ],
   "metadata": {
    "collapsed": false,
    "ExecuteTime": {
     "end_time": "2024-03-13T06:33:34.138422Z",
     "start_time": "2024-03-13T06:33:34.128389100Z"
    }
   }
  }
 ],
 "metadata": {
  "kernelspec": {
   "display_name": "Python 3",
   "language": "python",
   "name": "python3"
  },
  "language_info": {
   "codemirror_mode": {
    "name": "ipython",
    "version": 2
   },
   "file_extension": ".py",
   "mimetype": "text/x-python",
   "name": "python",
   "nbconvert_exporter": "python",
   "pygments_lexer": "ipython2",
   "version": "2.7.6"
  }
 },
 "nbformat": 4,
 "nbformat_minor": 0
}
