{
 "cells": [
  {
   "cell_type": "markdown",
   "source": [
    "# Function\n",
    "* Pre-defined function\n",
    "    * provided by builtin language\n",
    "* user defined function\n",
    "    * custom function made by user/programmer\n",
    "* Return and non-return functions\n",
    "    * Return\n",
    "        * we can assign this function return in any variable\n",
    "    * Non-return\n",
    "        * Only perform it's task, doesn't return anything\n",
    "\n",
    "## function component\n",
    "* function declaration\n",
    "* function body\n",
    "* function calling\n",
    "\n",
    "## Lambda function\n",
    "* 1 line function\n",
    "* without name\n",
    "* only use with 1 time"
   ],
   "metadata": {
    "collapsed": false
   }
  },
  {
   "cell_type": "markdown",
   "source": [
    "### Syntax\n",
    "def func_name(param1, param2.....) -> return type:\n",
    "    function body\n",
    "\n",
    "\n",
    "''' calling function\n",
    "func_name(arg1, arg2)"
   ],
   "metadata": {
    "collapsed": false
   }
  },
  {
   "cell_type": "code",
   "execution_count": 2,
   "metadata": {
    "collapsed": true,
    "ExecuteTime": {
     "end_time": "2024-03-08T07:03:23.097565900Z",
     "start_time": "2024-03-08T07:03:23.073566100Z"
    }
   },
   "outputs": [
    {
     "data": {
      "text/plain": "8"
     },
     "execution_count": 2,
     "metadata": {},
     "output_type": "execute_result"
    }
   ],
   "source": [
    "a: int = len(\"Pakistan\")\n",
    "a"
   ]
  },
  {
   "cell_type": "code",
   "execution_count": 4,
   "outputs": [
    {
     "name": "stdout",
     "output_type": "stream",
     "text": [
      "PIAIC Generative AI Course\n"
     ]
    }
   ],
   "source": [
    "def piaic() -> None:\n",
    "    print(\"PIAIC Generative AI Course\")\n",
    "\n",
    "\n",
    "piaic()"
   ],
   "metadata": {
    "collapsed": false,
    "ExecuteTime": {
     "end_time": "2024-03-08T07:09:27.097086100Z",
     "start_time": "2024-03-08T07:09:27.033169700Z"
    }
   }
  },
  {
   "cell_type": "markdown",
   "source": [
    "# Required Parameters in function"
   ],
   "metadata": {
    "collapsed": false
   }
  },
  {
   "cell_type": "code",
   "execution_count": 5,
   "outputs": [
    {
     "data": {
      "text/plain": "7"
     },
     "execution_count": 5,
     "metadata": {},
     "output_type": "execute_result"
    }
   ],
   "source": [
    "def add_two_num(num1: int, num2: int) -> int:\n",
    "    return num1 + num2\n",
    "\n",
    "\n",
    "add_two_num(2, 5)\n"
   ],
   "metadata": {
    "collapsed": false,
    "ExecuteTime": {
     "end_time": "2024-03-08T07:21:50.540497100Z",
     "start_time": "2024-03-08T07:21:50.464099200Z"
    }
   }
  },
  {
   "cell_type": "markdown",
   "source": [
    "# Optional parameters/values"
   ],
   "metadata": {
    "collapsed": false
   }
  },
  {
   "cell_type": "code",
   "execution_count": 7,
   "outputs": [
    {
     "data": {
      "text/plain": "12"
     },
     "execution_count": 7,
     "metadata": {},
     "output_type": "execute_result"
    }
   ],
   "source": [
    "def add_two_num_op(num1: int, num2: int = 0) -> int:\n",
    "    return num1 + num2\n",
    "\n",
    "\n",
    "add_two_num_op(7, 5)"
   ],
   "metadata": {
    "collapsed": false,
    "ExecuteTime": {
     "end_time": "2024-03-08T07:25:32.329550900Z",
     "start_time": "2024-03-08T07:25:32.245224800Z"
    }
   }
  },
  {
   "cell_type": "markdown",
   "source": [
    "# Lambda Function"
   ],
   "metadata": {
    "collapsed": false
   }
  },
  {
   "cell_type": "code",
   "execution_count": 10,
   "outputs": [
    {
     "data": {
      "text/plain": "15"
     },
     "execution_count": 10,
     "metadata": {},
     "output_type": "execute_result"
    }
   ],
   "source": [
    "a = lambda num3, num4: num3 + num4\n",
    "a(7, 8)"
   ],
   "metadata": {
    "collapsed": false,
    "ExecuteTime": {
     "end_time": "2024-03-08T07:31:27.751538300Z",
     "start_time": "2024-03-08T07:31:27.684119600Z"
    }
   }
  },
  {
   "cell_type": "code",
   "execution_count": 15,
   "outputs": [
    {
     "name": "stdout",
     "output_type": "stream",
     "text": [
      "[1, 4, 9, 16, 25, 36, 49, 64, 81, 100]\n"
     ]
    }
   ],
   "source": [
    "data: list[int] = [1, 2, 3, 4, 5, 6, 7, 8, 9, 10]\n",
    "\n",
    "data = list(map(lambda x: x ** 2, data))  #iterative type return, so need to convert to list\n",
    "print(data)"
   ],
   "metadata": {
    "collapsed": false,
    "ExecuteTime": {
     "end_time": "2024-03-08T07:34:31.688396300Z",
     "start_time": "2024-03-08T07:34:31.608944700Z"
    }
   }
  },
  {
   "cell_type": "code",
   "execution_count": 16,
   "outputs": [
    {
     "name": "stdout",
     "output_type": "stream",
     "text": [
      "[2, 4, 6, 8, 10]\n"
     ]
    }
   ],
   "source": [
    "data: list[int] = [1, 2, 3, 4, 5, 6, 7, 8, 9, 10]\n",
    "\n",
    "data = list(filter(lambda x: x % 2 == 0, data))  #iterative type return, so need to convert to list\n",
    "print(data)"
   ],
   "metadata": {
    "collapsed": false,
    "ExecuteTime": {
     "end_time": "2024-03-08T07:35:39.524651500Z",
     "start_time": "2024-03-08T07:35:39.455607100Z"
    }
   }
  },
  {
   "cell_type": "markdown",
   "source": [
    "from typing import Callable\n",
    "\n",
    "add:  #%% md\n",
    "# Function\n",
    "*Pre - defined\n",
    "function\n",
    "*provided\n",
    "by\n",
    "builtin\n",
    "language\n",
    "*user\n",
    "defined\n",
    "function\n",
    "*custom\n",
    "function\n",
    "made\n",
    "by\n",
    "user / programmer\n",
    "*Return and non -\n",
    "return functions\n",
    "*Return\n",
    "*we\n",
    "can\n",
    "assign\n",
    "this\n",
    "function\n",
    "return in any\n",
    "variable\n",
    "*Non -\n",
    "return\n",
    "*Only\n",
    "perform\n",
    "it\n",
    "'s task, doesn'\n",
    "t\n",
    "return anything\n",
    "\n",
    "## function component\n",
    "*function\n",
    "declaration\n",
    "*function\n",
    "body\n",
    "*function\n",
    "calling\n",
    "\n",
    "## Lambda function\n",
    "*1\n",
    "line\n",
    "function\n",
    "*without\n",
    "name\n",
    "*only\n",
    "use\n",
    "with 1 time"
   ],
   "metadata": {
    "collapsed": false
   }
  },
  {
   "cell_type": "markdown",
   "source": [
    "### Syntax\n",
    "def func_name(param1, param2.....) -> return type:\n",
    "    function body\n",
    "\n",
    "\n",
    "''' calling function\n",
    "func_name(arg1, arg2)"
   ],
   "metadata": {
    "collapsed": false
   }
  },
  {
   "cell_type": "code",
   "execution_count": null,
   "outputs": [],
   "source": [
    "a: int = len(\"Pakistan\")\n",
    "a"
   ],
   "metadata": {
    "collapsed": false
   }
  },
  {
   "cell_type": "code",
   "execution_count": null,
   "outputs": [],
   "source": [
    "def piaic() -> None:\n",
    "    print(\"PIAIC Generative AI Course\")\n",
    "\n",
    "\n",
    "piaic()"
   ],
   "metadata": {
    "collapsed": false
   }
  },
  {
   "cell_type": "markdown",
   "source": [
    "# Required Parameters in function"
   ],
   "metadata": {
    "collapsed": false
   }
  },
  {
   "cell_type": "code",
   "execution_count": null,
   "outputs": [],
   "source": [
    "def add_two_num(num1: int, num2: int) -> int:\n",
    "    return num1 + num2\n",
    "\n",
    "\n",
    "add_two_num(2, 5)\n"
   ],
   "metadata": {
    "collapsed": false
   }
  },
  {
   "cell_type": "markdown",
   "source": [
    "# Optional parameters/values"
   ],
   "metadata": {
    "collapsed": false
   }
  },
  {
   "cell_type": "code",
   "execution_count": null,
   "outputs": [],
   "source": [
    "def add_two_num_op(num1: int, num2: int = 0) -> int:\n",
    "    return num1 + num2\n",
    "\n",
    "\n",
    "add_two_num_op(7, 5)"
   ],
   "metadata": {
    "collapsed": false
   }
  },
  {
   "cell_type": "markdown",
   "source": [
    "# Lambda Function"
   ],
   "metadata": {
    "collapsed": false
   }
  },
  {
   "cell_type": "code",
   "execution_count": null,
   "outputs": [],
   "source": [
    "a = lambda num3, num4: num3 + num4\n",
    "a(7, 8)"
   ],
   "metadata": {
    "collapsed": false
   }
  },
  {
   "cell_type": "code",
   "execution_count": null,
   "outputs": [],
   "source": [
    "data: list[int] = [1, 2, 3, 4, 5, 6, 7, 8, 9, 10]\n",
    "\n",
    "data = list(map(lambda x: x ** 2, data))  #iterative type return, so need to convert to list\n",
    "print(data)"
   ],
   "metadata": {
    "collapsed": false
   }
  },
  {
   "cell_type": "code",
   "execution_count": null,
   "outputs": [],
   "source": [
    "data: list[int] = [1, 2, 3, 4, 5, 6, 7, 8, 9, 10]\n",
    "\n",
    "data = list(filter(lambda x: x % 2 == 0, data))  #iterative type return, so need to convert to list\n",
    "print(data)"
   ],
   "metadata": {
    "collapsed": false
   }
  },
  {
   "cell_type": "code",
   "execution_count": 1,
   "outputs": [
    {
     "ename": "SyntaxError",
     "evalue": "invalid syntax (2843795536.py, line 3)",
     "output_type": "error",
     "traceback": [
      "\u001B[1;36m  Cell \u001B[1;32mIn[1], line 3\u001B[1;36m\u001B[0m\n\u001B[1;33m    add: Callable[[int, int], int] = lambda x, y:  #%% md\u001B[0m\n\u001B[1;37m                                                   ^\u001B[0m\n\u001B[1;31mSyntaxError\u001B[0m\u001B[1;31m:\u001B[0m invalid syntax\n"
     ]
    }
   ],
   "source": [
    "from typing import Callable\n",
    "\n",
    "add: Callable[[int, int], int] = lambda x, y:  #%% md\n",
    "# Function\n"
   ],
   "metadata": {
    "collapsed": false,
    "ExecuteTime": {
     "end_time": "2024-03-10T06:30:23.451058300Z",
     "start_time": "2024-03-10T06:30:23.438073700Z"
    }
   }
  },
  {
   "cell_type": "markdown",
   "source": [
    "### Syntax\n",
    "def func_name(param1, param2.....) -> return type:\n",
    "    function body\n",
    "\n",
    "\n",
    "''' calling function\n",
    "func_name(arg1, arg2)"
   ],
   "metadata": {
    "collapsed": false
   }
  },
  {
   "cell_type": "code",
   "execution_count": null,
   "outputs": [],
   "source": [
    "a: int = len(\"Pakistan\")\n",
    "a"
   ],
   "metadata": {
    "collapsed": false
   }
  },
  {
   "cell_type": "code",
   "execution_count": null,
   "outputs": [],
   "source": [
    "def piaic() -> None:\n",
    "    print(\"PIAIC Generative AI Course\")\n",
    "\n",
    "\n",
    "piaic()"
   ],
   "metadata": {
    "collapsed": false
   }
  },
  {
   "cell_type": "markdown",
   "source": [
    "# Required Parameters in function"
   ],
   "metadata": {
    "collapsed": false
   }
  },
  {
   "cell_type": "code",
   "execution_count": null,
   "outputs": [],
   "source": [
    "def add_two_num(num1: int, num2: int) -> int:\n",
    "    return num1 + num2\n",
    "\n",
    "\n",
    "add_two_num(2, 5)\n"
   ],
   "metadata": {
    "collapsed": false
   }
  },
  {
   "cell_type": "markdown",
   "source": [
    "# Optional parameters/values"
   ],
   "metadata": {
    "collapsed": false
   }
  },
  {
   "cell_type": "code",
   "execution_count": null,
   "outputs": [],
   "source": [
    "def add_two_num_op(num1: int, num2: int = 0) -> int:\n",
    "    return num1 + num2\n",
    "\n",
    "\n",
    "add_two_num_op(7, 5)"
   ],
   "metadata": {
    "collapsed": false
   }
  },
  {
   "cell_type": "markdown",
   "source": [
    "# Lambda Function"
   ],
   "metadata": {
    "collapsed": false
   }
  },
  {
   "cell_type": "code",
   "execution_count": null,
   "outputs": [],
   "source": [
    "a = lambda num3, num4: num3 + num4\n",
    "a(7, 8)"
   ],
   "metadata": {
    "collapsed": false
   }
  },
  {
   "cell_type": "code",
   "execution_count": null,
   "outputs": [],
   "source": [
    "data: list[int] = [1, 2, 3, 4, 5, 6, 7, 8, 9, 10]\n",
    "\n",
    "data = list(map(lambda x: x ** 2, data))  #iterative type return, so need to convert to list\n",
    "print(data)"
   ],
   "metadata": {
    "collapsed": false
   }
  },
  {
   "cell_type": "code",
   "execution_count": null,
   "outputs": [],
   "source": [
    "data: list[int] = [1, 2, 3, 4, 5, 6, 7, 8, 9, 10]\n",
    "\n",
    "data = list(filter(lambda x: x % 2 == 0, data))  #iterative type return, so need to convert to list\n",
    "print(data)"
   ],
   "metadata": {
    "collapsed": false
   }
  },
  {
   "cell_type": "markdown",
   "source": [
    "### Syntax\n",
    "def func_name(param1, param2.....) -> return type:\n",
    "    function body\n",
    "\n",
    "\n",
    "''' calling function\n",
    "func_name(arg1, arg2)"
   ],
   "metadata": {
    "collapsed": false
   }
  },
  {
   "cell_type": "code",
   "execution_count": null,
   "outputs": [],
   "source": [
    "a: int = len(\"Pakistan\")\n",
    "a"
   ],
   "metadata": {
    "collapsed": false
   }
  },
  {
   "cell_type": "code",
   "execution_count": null,
   "outputs": [],
   "source": [
    "def piaic() -> None:\n",
    "    print(\"PIAIC Generative AI Course\")\n",
    "\n",
    "\n",
    "piaic()"
   ],
   "metadata": {
    "collapsed": false
   }
  },
  {
   "cell_type": "markdown",
   "source": [
    "# Required Parameters in function"
   ],
   "metadata": {
    "collapsed": false
   }
  },
  {
   "cell_type": "code",
   "execution_count": null,
   "outputs": [],
   "source": [
    "def add_two_num(num1: int, num2: int) -> int:\n",
    "    return num1 + num2\n",
    "\n",
    "\n",
    "add_two_num(2, 5)\n"
   ],
   "metadata": {
    "collapsed": false
   }
  },
  {
   "cell_type": "markdown",
   "source": [
    "# Optional parameters/values"
   ],
   "metadata": {
    "collapsed": false
   }
  },
  {
   "cell_type": "code",
   "execution_count": null,
   "outputs": [],
   "source": [
    "def add_two_num_op(num1: int, num2: int = 0) -> int:\n",
    "    return num1 + num2\n",
    "\n",
    "\n",
    "add_two_num_op(7, 5)"
   ],
   "metadata": {
    "collapsed": false
   }
  },
  {
   "cell_type": "markdown",
   "source": [
    "# Lambda Function"
   ],
   "metadata": {
    "collapsed": false
   }
  },
  {
   "cell_type": "code",
   "execution_count": null,
   "outputs": [],
   "source": [
    "a = lambda num3, num4: num3 + num4\n",
    "a(7, 8)"
   ],
   "metadata": {
    "collapsed": false
   }
  },
  {
   "cell_type": "code",
   "execution_count": null,
   "outputs": [],
   "source": [
    "data: list[int] = [1, 2, 3, 4, 5, 6, 7, 8, 9, 10]\n",
    "\n",
    "data = list(map(lambda x: x ** 2, data))  #iterative type return, so need to convert to list\n",
    "print(data)"
   ],
   "metadata": {
    "collapsed": false
   }
  },
  {
   "cell_type": "code",
   "execution_count": null,
   "outputs": [],
   "source": [
    "data: list[int] = [1, 2, 3, 4, 5, 6, 7, 8, 9, 10]\n",
    "\n",
    "data = list(filter(lambda x: x % 2 == 0, data))  #iterative type return, so need to convert to list\n",
    "print(data)"
   ],
   "metadata": {
    "collapsed": false
   }
  },
  {
   "cell_type": "code",
   "execution_count": null,
   "outputs": [],
   "source": [
    "from typing import Callable\n",
    "\n",
    "add: Callable[[int, int], int] = lambda x, y: x + y\n"
   ],
   "metadata": {
    "collapsed": false
   }
  },
  {
   "cell_type": "markdown",
   "source": [
    "# Generator Functions\n",
    "* iterate over element one-by-one\n",
    "* stop after each iteration\n",
    "* Store/remember old value from last iterate\n",
    "* next iterate:\n",
    "    * go forward from last iteration\n"
   ],
   "metadata": {
    "collapsed": false
   }
  },
  {
   "cell_type": "code",
   "execution_count": null,
   "outputs": [],
   "source": [
    "def my_range(start: int, end: int, step: int = 1):  #%% md\n",
    "\n",
    "\n",
    "# Function\n",
    "*Pre - defined\n",
    "function\n",
    "*provided\n",
    "by\n",
    "builtin\n",
    "language\n",
    "*user\n",
    "defined\n",
    "function\n",
    "*custom\n",
    "function\n",
    "made\n",
    "by\n",
    "user / programmer\n",
    "*Return and non -\n",
    "return functions\n",
    "*Return\n",
    "*we\n",
    "can\n",
    "assign\n",
    "this\n",
    "function\n",
    "return in any\n",
    "variable\n",
    "*Non -\n",
    "return\n",
    "*Only\n",
    "perform\n",
    "it\n",
    "'s task, doesn'\n",
    "t\n",
    "return anything\n",
    "\n",
    "## function component\n",
    "*function\n",
    "declaration\n",
    "*function\n",
    "body\n",
    "*function\n",
    "calling\n",
    "\n",
    "## Lambda function\n",
    "*1\n",
    "line\n",
    "function\n",
    "*without\n",
    "name\n",
    "*only\n",
    "use\n",
    "with 1 time"
   ],
   "metadata": {
    "collapsed": false
   }
  },
  {
   "cell_type": "markdown",
   "source": [
    "### Syntax\n",
    "def func_name(param1, param2.....) -> return type:\n",
    "    function body\n",
    "\n",
    "\n",
    "''' calling function\n",
    "func_name(arg1, arg2)"
   ],
   "metadata": {
    "collapsed": false
   }
  },
  {
   "cell_type": "code",
   "execution_count": null,
   "outputs": [],
   "source": [
    "a: int = len(\"Pakistan\")\n",
    "a"
   ],
   "metadata": {
    "collapsed": false
   }
  },
  {
   "cell_type": "code",
   "execution_count": null,
   "outputs": [],
   "source": [
    "def piaic() -> None:\n",
    "    print(\"PIAIC Generative AI Course\")\n",
    "\n",
    "\n",
    "piaic()"
   ],
   "metadata": {
    "collapsed": false
   }
  },
  {
   "cell_type": "markdown",
   "source": [
    "# Required Parameters in function"
   ],
   "metadata": {
    "collapsed": false
   }
  },
  {
   "cell_type": "code",
   "execution_count": null,
   "outputs": [],
   "source": [
    "def add_two_num(num1: int, num2: int) -> int:\n",
    "    return num1 + num2\n",
    "\n",
    "\n",
    "add_two_num(2, 5)\n"
   ],
   "metadata": {
    "collapsed": false
   }
  },
  {
   "cell_type": "markdown",
   "source": [
    "# Optional parameters/values"
   ],
   "metadata": {
    "collapsed": false
   }
  },
  {
   "cell_type": "code",
   "execution_count": null,
   "outputs": [],
   "source": [
    "def add_two_num_op(num1: int, num2: int = 0) -> int:\n",
    "    return num1 + num2\n",
    "\n",
    "\n",
    "add_two_num_op(7, 5)"
   ],
   "metadata": {
    "collapsed": false
   }
  },
  {
   "cell_type": "markdown",
   "source": [
    "# Lambda Function"
   ],
   "metadata": {
    "collapsed": false
   }
  },
  {
   "cell_type": "code",
   "execution_count": null,
   "outputs": [],
   "source": [
    "a = lambda num3, num4: num3 + num4\n",
    "a(7, 8)"
   ],
   "metadata": {
    "collapsed": false
   }
  },
  {
   "cell_type": "code",
   "execution_count": null,
   "outputs": [],
   "source": [
    "data: list[int] = [1, 2, 3, 4, 5, 6, 7, 8, 9, 10]\n",
    "\n",
    "data = list(map(lambda x: x ** 2, data))  #iterative type return, so need to convert to list\n",
    "print(data)"
   ],
   "metadata": {
    "collapsed": false
   }
  },
  {
   "cell_type": "code",
   "execution_count": null,
   "outputs": [],
   "source": [
    "data: list[int] = [1, 2, 3, 4, 5, 6, 7, 8, 9, 10]\n",
    "\n",
    "data = list(filter(lambda x: x % 2 == 0, data))  #iterative type return, so need to convert to list\n",
    "print(data)"
   ],
   "metadata": {
    "collapsed": false
   }
  },
  {
   "cell_type": "markdown",
   "source": [
    "from typing import Callable\n",
    "\n",
    "add:  #%% md\n",
    "# Function\n",
    "*Pre - defined\n",
    "function\n",
    "*provided\n",
    "by\n",
    "builtin\n",
    "language\n",
    "*user\n",
    "defined\n",
    "function\n",
    "*custom\n",
    "function\n",
    "made\n",
    "by\n",
    "user / programmer\n",
    "*Return and non -\n",
    "return functions\n",
    "*Return\n",
    "*we\n",
    "can\n",
    "assign\n",
    "this\n",
    "function\n",
    "return in any\n",
    "variable\n",
    "*Non -\n",
    "return\n",
    "*Only\n",
    "perform\n",
    "it\n",
    "'s task, doesn'\n",
    "t\n",
    "return anything\n",
    "\n",
    "## function component\n",
    "*function\n",
    "declaration\n",
    "*function\n",
    "body\n",
    "*function\n",
    "calling\n",
    "\n",
    "## Lambda function\n",
    "*1\n",
    "line\n",
    "function\n",
    "*without\n",
    "name\n",
    "*only\n",
    "use\n",
    "with 1 time"
   ],
   "metadata": {
    "collapsed": false
   }
  },
  {
   "cell_type": "markdown",
   "source": [
    "### Syntax\n",
    "def func_name(param1, param2.....) -> return type:\n",
    "    function body\n",
    "\n",
    "\n",
    "''' calling function\n",
    "func_name(arg1, arg2)"
   ],
   "metadata": {
    "collapsed": false
   }
  },
  {
   "cell_type": "code",
   "execution_count": null,
   "outputs": [],
   "source": [
    "a: int = len(\"Pakistan\")\n",
    "a"
   ],
   "metadata": {
    "collapsed": false
   }
  },
  {
   "cell_type": "code",
   "execution_count": null,
   "outputs": [],
   "source": [
    "def piaic() -> None:\n",
    "    print(\"PIAIC Generative AI Course\")\n",
    "\n",
    "\n",
    "piaic()"
   ],
   "metadata": {
    "collapsed": false
   }
  },
  {
   "cell_type": "markdown",
   "source": [
    "# Required Parameters in function"
   ],
   "metadata": {
    "collapsed": false
   }
  },
  {
   "cell_type": "code",
   "execution_count": null,
   "outputs": [],
   "source": [
    "def add_two_num(num1: int, num2: int) -> int:\n",
    "    return num1 + num2\n",
    "\n",
    "\n",
    "add_two_num(2, 5)\n"
   ],
   "metadata": {
    "collapsed": false
   }
  },
  {
   "cell_type": "markdown",
   "source": [
    "# Optional parameters/values"
   ],
   "metadata": {
    "collapsed": false
   }
  },
  {
   "cell_type": "code",
   "execution_count": null,
   "outputs": [],
   "source": [
    "def add_two_num_op(num1: int, num2: int = 0) -> int:\n",
    "    return num1 + num2\n",
    "\n",
    "\n",
    "add_two_num_op(7, 5)"
   ],
   "metadata": {
    "collapsed": false
   }
  },
  {
   "cell_type": "markdown",
   "source": [
    "# Lambda Function"
   ],
   "metadata": {
    "collapsed": false
   }
  },
  {
   "cell_type": "code",
   "execution_count": null,
   "outputs": [],
   "source": [
    "a = lambda num3, num4: num3 + num4\n",
    "a(7, 8)"
   ],
   "metadata": {
    "collapsed": false
   }
  },
  {
   "cell_type": "code",
   "execution_count": null,
   "outputs": [],
   "source": [
    "data: list[int] = [1, 2, 3, 4, 5, 6, 7, 8, 9, 10]\n",
    "\n",
    "data = list(map(lambda x: x ** 2, data))  #iterative type return, so need to convert to list\n",
    "print(data)"
   ],
   "metadata": {
    "collapsed": false
   }
  },
  {
   "cell_type": "code",
   "execution_count": null,
   "outputs": [],
   "source": [
    "data: list[int] = [1, 2, 3, 4, 5, 6, 7, 8, 9, 10]\n",
    "\n",
    "data = list(filter(lambda x: x % 2 == 0, data))  #iterative type return, so need to convert to list\n",
    "print(data)"
   ],
   "metadata": {
    "collapsed": false
   }
  },
  {
   "cell_type": "code",
   "execution_count": null,
   "outputs": [],
   "source": [
    "from typing import Callable\n",
    "\n",
    "add: Callable[[int, int], int] = lambda x, y:  #%% md\n",
    "# Function\n"
   ],
   "metadata": {
    "collapsed": false
   }
  },
  {
   "cell_type": "markdown",
   "source": [
    "### Syntax\n",
    "def func_name(param1, param2.....) -> return type:\n",
    "    function body\n",
    "\n",
    "\n",
    "''' calling function\n",
    "func_name(arg1, arg2)"
   ],
   "metadata": {
    "collapsed": false
   }
  },
  {
   "cell_type": "code",
   "execution_count": null,
   "outputs": [],
   "source": [
    "a: int = len(\"Pakistan\")\n",
    "a"
   ],
   "metadata": {
    "collapsed": false
   }
  },
  {
   "cell_type": "code",
   "execution_count": null,
   "outputs": [],
   "source": [
    "def piaic() -> None:\n",
    "    print(\"PIAIC Generative AI Course\")\n",
    "\n",
    "\n",
    "piaic()"
   ],
   "metadata": {
    "collapsed": false
   }
  },
  {
   "cell_type": "markdown",
   "source": [
    "# Required Parameters in function"
   ],
   "metadata": {
    "collapsed": false
   }
  },
  {
   "cell_type": "code",
   "execution_count": null,
   "outputs": [],
   "source": [
    "def add_two_num(num1: int, num2: int) -> int:\n",
    "    return num1 + num2\n",
    "\n",
    "\n",
    "add_two_num(2, 5)\n"
   ],
   "metadata": {
    "collapsed": false
   }
  },
  {
   "cell_type": "markdown",
   "source": [
    "# Optional parameters/values"
   ],
   "metadata": {
    "collapsed": false
   }
  },
  {
   "cell_type": "code",
   "execution_count": null,
   "outputs": [],
   "source": [
    "def add_two_num_op(num1: int, num2: int = 0) -> int:\n",
    "    return num1 + num2\n",
    "\n",
    "\n",
    "add_two_num_op(7, 5)"
   ],
   "metadata": {
    "collapsed": false
   }
  },
  {
   "cell_type": "markdown",
   "source": [
    "# Lambda Function"
   ],
   "metadata": {
    "collapsed": false
   }
  },
  {
   "cell_type": "code",
   "execution_count": null,
   "outputs": [],
   "source": [
    "a = lambda num3, num4: num3 + num4\n",
    "a(7, 8)"
   ],
   "metadata": {
    "collapsed": false
   }
  },
  {
   "cell_type": "code",
   "execution_count": null,
   "outputs": [],
   "source": [
    "data: list[int] = [1, 2, 3, 4, 5, 6, 7, 8, 9, 10]\n",
    "\n",
    "data = list(map(lambda x: x ** 2, data))  #iterative type return, so need to convert to list\n",
    "print(data)"
   ],
   "metadata": {
    "collapsed": false
   }
  },
  {
   "cell_type": "code",
   "execution_count": null,
   "outputs": [],
   "source": [
    "data: list[int] = [1, 2, 3, 4, 5, 6, 7, 8, 9, 10]\n",
    "\n",
    "data = list(filter(lambda x: x % 2 == 0, data))  #iterative type return, so need to convert to list\n",
    "print(data)"
   ],
   "metadata": {
    "collapsed": false
   }
  },
  {
   "cell_type": "markdown",
   "source": [
    "### Syntax\n",
    "def func_name(param1, param2.....) -> return type:\n",
    "    function body\n",
    "\n",
    "\n",
    "''' calling function\n",
    "func_name(arg1, arg2)"
   ],
   "metadata": {
    "collapsed": false
   }
  },
  {
   "cell_type": "code",
   "execution_count": null,
   "outputs": [],
   "source": [
    "a: int = len(\"Pakistan\")\n",
    "a"
   ],
   "metadata": {
    "collapsed": false
   }
  },
  {
   "cell_type": "code",
   "execution_count": null,
   "outputs": [],
   "source": [
    "def piaic() -> None:\n",
    "    print(\"PIAIC Generative AI Course\")\n",
    "\n",
    "\n",
    "piaic()"
   ],
   "metadata": {
    "collapsed": false
   }
  },
  {
   "cell_type": "markdown",
   "source": [
    "# Required Parameters in function"
   ],
   "metadata": {
    "collapsed": false
   }
  },
  {
   "cell_type": "code",
   "execution_count": null,
   "outputs": [],
   "source": [
    "def add_two_num(num1: int, num2: int) -> int:\n",
    "    return num1 + num2\n",
    "\n",
    "\n",
    "add_two_num(2, 5)\n"
   ],
   "metadata": {
    "collapsed": false
   }
  },
  {
   "cell_type": "markdown",
   "source": [
    "# Optional parameters/values"
   ],
   "metadata": {
    "collapsed": false
   }
  },
  {
   "cell_type": "code",
   "execution_count": null,
   "outputs": [],
   "source": [
    "def add_two_num_op(num1: int, num2: int = 0) -> int:\n",
    "    return num1 + num2\n",
    "\n",
    "\n",
    "add_two_num_op(7, 5)"
   ],
   "metadata": {
    "collapsed": false
   }
  },
  {
   "cell_type": "markdown",
   "source": [
    "# Lambda Function"
   ],
   "metadata": {
    "collapsed": false
   }
  },
  {
   "cell_type": "code",
   "execution_count": null,
   "outputs": [],
   "source": [
    "a = lambda num3, num4: num3 + num4\n",
    "a(7, 8)"
   ],
   "metadata": {
    "collapsed": false
   }
  },
  {
   "cell_type": "code",
   "execution_count": null,
   "outputs": [],
   "source": [
    "data: list[int] = [1, 2, 3, 4, 5, 6, 7, 8, 9, 10]\n",
    "\n",
    "data = list(map(lambda x: x ** 2, data))  #iterative type return, so need to convert to list\n",
    "print(data)"
   ],
   "metadata": {
    "collapsed": false
   }
  },
  {
   "cell_type": "code",
   "execution_count": null,
   "outputs": [],
   "source": [
    "data: list[int] = [1, 2, 3, 4, 5, 6, 7, 8, 9, 10]\n",
    "\n",
    "data = list(filter(lambda x: x % 2 == 0, data))  #iterative type return, so need to convert to list\n",
    "print(data)"
   ],
   "metadata": {
    "collapsed": false
   }
  },
  {
   "cell_type": "code",
   "execution_count": null,
   "outputs": [],
   "source": [
    "from typing import Callable\n",
    "\n",
    "add: Callable[[int, int], int] = lambda x, y: x + y\n"
   ],
   "metadata": {
    "collapsed": false
   }
  },
  {
   "cell_type": "markdown",
   "source": [
    "# Generator Functions\n",
    "* iterate over element one-by-one\n",
    "* stop after each iteration\n",
    "* Store/remember old value from last iterate\n",
    "* next iterate:\n",
    "    * go forward from last iteration\n"
   ],
   "metadata": {
    "collapsed": false
   }
  },
  {
   "cell_type": "code",
   "execution_count": null,
   "outputs": [],
   "source": [
    "def my_range(start: int, end: int, step: int = 1):\n",
    "    for i in in range(start, end+1, step):  #%% md\n",
    "\n",
    "\n",
    "# Function\n",
    "*Pre - defined\n",
    "function\n",
    "*provided\n",
    "by\n",
    "builtin\n",
    "language\n",
    "*user\n",
    "defined\n",
    "function\n",
    "*custom\n",
    "function\n",
    "made\n",
    "by\n",
    "user / programmer\n",
    "*Return and non -\n",
    "return functions\n",
    "*Return\n",
    "*we\n",
    "can\n",
    "assign\n",
    "this\n",
    "function\n",
    "return in any\n",
    "variable\n",
    "*Non -\n",
    "return\n",
    "*Only\n",
    "perform\n",
    "it\n",
    "'s task, doesn'\n",
    "t\n",
    "return anything\n",
    "\n",
    "## function component\n",
    "*function\n",
    "declaration\n",
    "*function\n",
    "body\n",
    "*function\n",
    "calling\n",
    "\n",
    "## Lambda function\n",
    "*1\n",
    "line\n",
    "function\n",
    "*without\n",
    "name\n",
    "*only\n",
    "use\n",
    "with 1 time"
   ],
   "metadata": {
    "collapsed": false
   }
  },
  {
   "cell_type": "markdown",
   "source": [
    "### Syntax\n",
    "def func_name(param1, param2.....) -> return type:\n",
    "    function body\n",
    "\n",
    "\n",
    "''' calling function\n",
    "func_name(arg1, arg2)"
   ],
   "metadata": {
    "collapsed": false
   }
  },
  {
   "cell_type": "code",
   "execution_count": null,
   "outputs": [],
   "source": [
    "a: int = len(\"Pakistan\")\n",
    "a"
   ],
   "metadata": {
    "collapsed": false
   }
  },
  {
   "cell_type": "code",
   "execution_count": null,
   "outputs": [],
   "source": [
    "def piaic() -> None:\n",
    "    print(\"PIAIC Generative AI Course\")\n",
    "\n",
    "\n",
    "piaic()"
   ],
   "metadata": {
    "collapsed": false
   }
  },
  {
   "cell_type": "markdown",
   "source": [
    "# Required Parameters in function"
   ],
   "metadata": {
    "collapsed": false
   }
  },
  {
   "cell_type": "code",
   "execution_count": null,
   "outputs": [],
   "source": [
    "def add_two_num(num1: int, num2: int) -> int:\n",
    "    return num1 + num2\n",
    "\n",
    "\n",
    "add_two_num(2, 5)\n"
   ],
   "metadata": {
    "collapsed": false
   }
  },
  {
   "cell_type": "markdown",
   "source": [
    "# Optional parameters/values"
   ],
   "metadata": {
    "collapsed": false
   }
  },
  {
   "cell_type": "code",
   "execution_count": null,
   "outputs": [],
   "source": [
    "def add_two_num_op(num1: int, num2: int = 0) -> int:\n",
    "    return num1 + num2\n",
    "\n",
    "\n",
    "add_two_num_op(7, 5)"
   ],
   "metadata": {
    "collapsed": false
   }
  },
  {
   "cell_type": "markdown",
   "source": [
    "# Lambda Function"
   ],
   "metadata": {
    "collapsed": false
   }
  },
  {
   "cell_type": "code",
   "execution_count": null,
   "outputs": [],
   "source": [
    "a = lambda num3, num4: num3 + num4\n",
    "a(7, 8)"
   ],
   "metadata": {
    "collapsed": false
   }
  },
  {
   "cell_type": "code",
   "execution_count": null,
   "outputs": [],
   "source": [
    "data: list[int] = [1, 2, 3, 4, 5, 6, 7, 8, 9, 10]\n",
    "\n",
    "data = list(map(lambda x: x ** 2, data))  #iterative type return, so need to convert to list\n",
    "print(data)"
   ],
   "metadata": {
    "collapsed": false
   }
  },
  {
   "cell_type": "code",
   "execution_count": null,
   "outputs": [],
   "source": [
    "data: list[int] = [1, 2, 3, 4, 5, 6, 7, 8, 9, 10]\n",
    "\n",
    "data = list(filter(lambda x: x % 2 == 0, data))  #iterative type return, so need to convert to list\n",
    "print(data)"
   ],
   "metadata": {
    "collapsed": false
   }
  },
  {
   "cell_type": "markdown",
   "source": [
    "from typing import Callable\n",
    "\n",
    "add:  #%% md\n",
    "# Function\n",
    "*Pre - defined\n",
    "function\n",
    "*provided\n",
    "by\n",
    "builtin\n",
    "language\n",
    "*user\n",
    "defined\n",
    "function\n",
    "*custom\n",
    "function\n",
    "made\n",
    "by\n",
    "user / programmer\n",
    "*Return and non -\n",
    "return functions\n",
    "*Return\n",
    "*we\n",
    "can\n",
    "assign\n",
    "this\n",
    "function\n",
    "return in any\n",
    "variable\n",
    "*Non -\n",
    "return\n",
    "*Only\n",
    "perform\n",
    "it\n",
    "'s task, doesn'\n",
    "t\n",
    "return anything\n",
    "\n",
    "## function component\n",
    "*function\n",
    "declaration\n",
    "*function\n",
    "body\n",
    "*function\n",
    "calling\n",
    "\n",
    "## Lambda function\n",
    "*1\n",
    "line\n",
    "function\n",
    "*without\n",
    "name\n",
    "*only\n",
    "use\n",
    "with 1 time"
   ],
   "metadata": {
    "collapsed": false
   }
  },
  {
   "cell_type": "markdown",
   "source": [
    "### Syntax\n",
    "def func_name(param1, param2.....) -> return type:\n",
    "    function body\n",
    "\n",
    "\n",
    "''' calling function\n",
    "func_name(arg1, arg2)"
   ],
   "metadata": {
    "collapsed": false
   }
  },
  {
   "cell_type": "code",
   "execution_count": null,
   "outputs": [],
   "source": [
    "a: int = len(\"Pakistan\")\n",
    "a"
   ],
   "metadata": {
    "collapsed": false
   }
  },
  {
   "cell_type": "code",
   "execution_count": null,
   "outputs": [],
   "source": [
    "def piaic() -> None:\n",
    "    print(\"PIAIC Generative AI Course\")\n",
    "\n",
    "\n",
    "piaic()"
   ],
   "metadata": {
    "collapsed": false
   }
  },
  {
   "cell_type": "markdown",
   "source": [
    "# Required Parameters in function"
   ],
   "metadata": {
    "collapsed": false
   }
  },
  {
   "cell_type": "code",
   "execution_count": null,
   "outputs": [],
   "source": [
    "def add_two_num(num1: int, num2: int) -> int:\n",
    "    return num1 + num2\n",
    "\n",
    "\n",
    "add_two_num(2, 5)\n"
   ],
   "metadata": {
    "collapsed": false
   }
  },
  {
   "cell_type": "markdown",
   "source": [
    "# Optional parameters/values"
   ],
   "metadata": {
    "collapsed": false
   }
  },
  {
   "cell_type": "code",
   "execution_count": null,
   "outputs": [],
   "source": [
    "def add_two_num_op(num1: int, num2: int = 0) -> int:\n",
    "    return num1 + num2\n",
    "\n",
    "\n",
    "add_two_num_op(7, 5)"
   ],
   "metadata": {
    "collapsed": false
   }
  },
  {
   "cell_type": "markdown",
   "source": [
    "# Lambda Function"
   ],
   "metadata": {
    "collapsed": false
   }
  },
  {
   "cell_type": "code",
   "execution_count": null,
   "outputs": [],
   "source": [
    "a = lambda num3, num4: num3 + num4\n",
    "a(7, 8)"
   ],
   "metadata": {
    "collapsed": false
   }
  },
  {
   "cell_type": "code",
   "execution_count": null,
   "outputs": [],
   "source": [
    "data: list[int] = [1, 2, 3, 4, 5, 6, 7, 8, 9, 10]\n",
    "\n",
    "data = list(map(lambda x: x ** 2, data))  #iterative type return, so need to convert to list\n",
    "print(data)"
   ],
   "metadata": {
    "collapsed": false
   }
  },
  {
   "cell_type": "code",
   "execution_count": null,
   "outputs": [],
   "source": [
    "data: list[int] = [1, 2, 3, 4, 5, 6, 7, 8, 9, 10]\n",
    "\n",
    "data = list(filter(lambda x: x % 2 == 0, data))  #iterative type return, so need to convert to list\n",
    "print(data)"
   ],
   "metadata": {
    "collapsed": false
   }
  },
  {
   "cell_type": "code",
   "execution_count": null,
   "outputs": [],
   "source": [
    "from typing import Callable\n",
    "\n",
    "add: Callable[[int, int], int] = lambda x, y:  #%% md\n",
    "# Function\n"
   ],
   "metadata": {
    "collapsed": false
   }
  },
  {
   "cell_type": "markdown",
   "source": [
    "### Syntax\n",
    "def func_name(param1, param2.....) -> return type:\n",
    "    function body\n",
    "\n",
    "\n",
    "''' calling function\n",
    "func_name(arg1, arg2)"
   ],
   "metadata": {
    "collapsed": false
   }
  },
  {
   "cell_type": "code",
   "execution_count": null,
   "outputs": [],
   "source": [
    "a: int = len(\"Pakistan\")\n",
    "a"
   ],
   "metadata": {
    "collapsed": false
   }
  },
  {
   "cell_type": "code",
   "execution_count": null,
   "outputs": [],
   "source": [
    "def piaic() -> None:\n",
    "    print(\"PIAIC Generative AI Course\")\n",
    "\n",
    "\n",
    "piaic()"
   ],
   "metadata": {
    "collapsed": false
   }
  },
  {
   "cell_type": "markdown",
   "source": [
    "# Required Parameters in function"
   ],
   "metadata": {
    "collapsed": false
   }
  },
  {
   "cell_type": "code",
   "execution_count": null,
   "outputs": [],
   "source": [
    "def add_two_num(num1: int, num2: int) -> int:\n",
    "    return num1 + num2\n",
    "\n",
    "\n",
    "add_two_num(2, 5)\n"
   ],
   "metadata": {
    "collapsed": false
   }
  },
  {
   "cell_type": "markdown",
   "source": [
    "# Optional parameters/values"
   ],
   "metadata": {
    "collapsed": false
   }
  },
  {
   "cell_type": "code",
   "execution_count": null,
   "outputs": [],
   "source": [
    "def add_two_num_op(num1: int, num2: int = 0) -> int:\n",
    "    return num1 + num2\n",
    "\n",
    "\n",
    "add_two_num_op(7, 5)"
   ],
   "metadata": {
    "collapsed": false
   }
  },
  {
   "cell_type": "markdown",
   "source": [
    "# Lambda Function"
   ],
   "metadata": {
    "collapsed": false
   }
  },
  {
   "cell_type": "code",
   "execution_count": null,
   "outputs": [],
   "source": [
    "a = lambda num3, num4: num3 + num4\n",
    "a(7, 8)"
   ],
   "metadata": {
    "collapsed": false
   }
  },
  {
   "cell_type": "code",
   "execution_count": null,
   "outputs": [],
   "source": [
    "data: list[int] = [1, 2, 3, 4, 5, 6, 7, 8, 9, 10]\n",
    "\n",
    "data = list(map(lambda x: x ** 2, data))  #iterative type return, so need to convert to list\n",
    "print(data)"
   ],
   "metadata": {
    "collapsed": false
   }
  },
  {
   "cell_type": "code",
   "execution_count": null,
   "outputs": [],
   "source": [
    "data: list[int] = [1, 2, 3, 4, 5, 6, 7, 8, 9, 10]\n",
    "\n",
    "data = list(filter(lambda x: x % 2 == 0, data))  #iterative type return, so need to convert to list\n",
    "print(data)"
   ],
   "metadata": {
    "collapsed": false
   }
  },
  {
   "cell_type": "markdown",
   "source": [
    "### Syntax\n",
    "def func_name(param1, param2.....) -> return type:\n",
    "    function body\n",
    "\n",
    "\n",
    "''' calling function\n",
    "func_name(arg1, arg2)"
   ],
   "metadata": {
    "collapsed": false
   }
  },
  {
   "cell_type": "code",
   "execution_count": null,
   "outputs": [],
   "source": [
    "a: int = len(\"Pakistan\")\n",
    "a"
   ],
   "metadata": {
    "collapsed": false
   }
  },
  {
   "cell_type": "code",
   "execution_count": null,
   "outputs": [],
   "source": [
    "def piaic() -> None:\n",
    "    print(\"PIAIC Generative AI Course\")\n",
    "\n",
    "\n",
    "piaic()"
   ],
   "metadata": {
    "collapsed": false
   }
  },
  {
   "cell_type": "markdown",
   "source": [
    "# Required Parameters in function"
   ],
   "metadata": {
    "collapsed": false
   }
  },
  {
   "cell_type": "code",
   "execution_count": null,
   "outputs": [],
   "source": [
    "def add_two_num(num1: int, num2: int) -> int:\n",
    "    return num1 + num2\n",
    "\n",
    "\n",
    "add_two_num(2, 5)\n"
   ],
   "metadata": {
    "collapsed": false
   }
  },
  {
   "cell_type": "markdown",
   "source": [
    "# Optional parameters/values"
   ],
   "metadata": {
    "collapsed": false
   }
  },
  {
   "cell_type": "code",
   "execution_count": null,
   "outputs": [],
   "source": [
    "def add_two_num_op(num1: int, num2: int = 0) -> int:\n",
    "    return num1 + num2\n",
    "\n",
    "\n",
    "add_two_num_op(7, 5)"
   ],
   "metadata": {
    "collapsed": false
   }
  },
  {
   "cell_type": "markdown",
   "source": [
    "# Lambda Function"
   ],
   "metadata": {
    "collapsed": false
   }
  },
  {
   "cell_type": "code",
   "execution_count": null,
   "outputs": [],
   "source": [
    "a = lambda num3, num4: num3 + num4\n",
    "a(7, 8)"
   ],
   "metadata": {
    "collapsed": false
   }
  },
  {
   "cell_type": "code",
   "execution_count": null,
   "outputs": [],
   "source": [
    "data: list[int] = [1, 2, 3, 4, 5, 6, 7, 8, 9, 10]\n",
    "\n",
    "data = list(map(lambda x: x ** 2, data))  #iterative type return, so need to convert to list\n",
    "print(data)"
   ],
   "metadata": {
    "collapsed": false
   }
  },
  {
   "cell_type": "code",
   "execution_count": null,
   "outputs": [],
   "source": [
    "data: list[int] = [1, 2, 3, 4, 5, 6, 7, 8, 9, 10]\n",
    "\n",
    "data = list(filter(lambda x: x % 2 == 0, data))  #iterative type return, so need to convert to list\n",
    "print(data)"
   ],
   "metadata": {
    "collapsed": false
   }
  },
  {
   "cell_type": "code",
   "execution_count": null,
   "outputs": [],
   "source": [
    "from typing import Callable\n",
    "\n",
    "add: Callable[[int, int], int] = lambda x, y: x + y\n"
   ],
   "metadata": {
    "collapsed": false
   }
  },
  {
   "cell_type": "markdown",
   "source": [
    "# Generator Functions\n",
    "* iterate over element one-by-one\n",
    "* stop after each iteration\n",
    "* Store/remember old value from last iterate\n",
    "* next iterate:\n",
    "    * go forward from last iteration\n"
   ],
   "metadata": {
    "collapsed": false
   }
  },
  {
   "cell_type": "markdown",
   "source": [
    "### Syntax\n",
    "def func_name(param1, param2.....) -> return type:\n",
    "    function body\n",
    "\n",
    "\n",
    "''' calling function\n",
    "func_name(arg1, arg2)"
   ],
   "metadata": {
    "collapsed": false
   }
  },
  {
   "cell_type": "code",
   "execution_count": null,
   "outputs": [],
   "source": [
    "a: int = len(\"Pakistan\")\n",
    "a"
   ],
   "metadata": {
    "collapsed": false
   }
  },
  {
   "cell_type": "code",
   "execution_count": null,
   "outputs": [],
   "source": [
    "def piaic() -> None:\n",
    "    print(\"PIAIC Generative AI Course\")\n",
    "\n",
    "\n",
    "piaic()"
   ],
   "metadata": {
    "collapsed": false
   }
  },
  {
   "cell_type": "markdown",
   "source": [
    "# Required Parameters in function"
   ],
   "metadata": {
    "collapsed": false
   }
  },
  {
   "cell_type": "code",
   "execution_count": null,
   "outputs": [],
   "source": [
    "def add_two_num(num1: int, num2: int) -> int:\n",
    "    return num1 + num2\n",
    "\n",
    "\n",
    "add_two_num(2, 5)\n"
   ],
   "metadata": {
    "collapsed": false
   }
  },
  {
   "cell_type": "markdown",
   "source": [
    "# Optional parameters/values"
   ],
   "metadata": {
    "collapsed": false
   }
  },
  {
   "cell_type": "code",
   "execution_count": null,
   "outputs": [],
   "source": [
    "def add_two_num_op(num1: int, num2: int = 0) -> int:\n",
    "    return num1 + num2\n",
    "\n",
    "\n",
    "add_two_num_op(7, 5)"
   ],
   "metadata": {
    "collapsed": false
   }
  },
  {
   "cell_type": "markdown",
   "source": [
    "# Lambda Function"
   ],
   "metadata": {
    "collapsed": false
   }
  },
  {
   "cell_type": "code",
   "execution_count": null,
   "outputs": [],
   "source": [
    "a = lambda num3, num4: num3 + num4\n",
    "a(7, 8)"
   ],
   "metadata": {
    "collapsed": false
   }
  },
  {
   "cell_type": "code",
   "execution_count": null,
   "outputs": [],
   "source": [
    "data: list[int] = [1, 2, 3, 4, 5, 6, 7, 8, 9, 10]\n",
    "\n",
    "data = list(map(lambda x: x ** 2, data))  #iterative type return, so need to convert to list\n",
    "print(data)"
   ],
   "metadata": {
    "collapsed": false
   }
  },
  {
   "cell_type": "code",
   "execution_count": null,
   "outputs": [],
   "source": [
    "data: list[int] = [1, 2, 3, 4, 5, 6, 7, 8, 9, 10]\n",
    "\n",
    "data = list(filter(lambda x: x % 2 == 0, data))  #iterative type return, so need to convert to list\n",
    "print(data)"
   ],
   "metadata": {
    "collapsed": false
   }
  },
  {
   "cell_type": "markdown",
   "source": [
    "### Syntax\n",
    "def func_name(param1, param2.....) -> return type:\n",
    "    function body\n",
    "\n",
    "\n",
    "''' calling function\n",
    "func_name(arg1, arg2)"
   ],
   "metadata": {
    "collapsed": false
   }
  },
  {
   "cell_type": "code",
   "execution_count": null,
   "outputs": [],
   "source": [
    "a: int = len(\"Pakistan\")\n",
    "a"
   ],
   "metadata": {
    "collapsed": false
   }
  },
  {
   "cell_type": "code",
   "execution_count": null,
   "outputs": [],
   "source": [
    "def piaic() -> None:\n",
    "    print(\"PIAIC Generative AI Course\")\n",
    "\n",
    "\n",
    "piaic()"
   ],
   "metadata": {
    "collapsed": false
   }
  },
  {
   "cell_type": "markdown",
   "source": [
    "# Required Parameters in function"
   ],
   "metadata": {
    "collapsed": false
   }
  },
  {
   "cell_type": "code",
   "execution_count": null,
   "outputs": [],
   "source": [
    "def add_two_num(num1: int, num2: int) -> int:\n",
    "    return num1 + num2\n",
    "\n",
    "\n",
    "add_two_num(2, 5)\n"
   ],
   "metadata": {
    "collapsed": false
   }
  },
  {
   "cell_type": "markdown",
   "source": [
    "# Optional parameters/values"
   ],
   "metadata": {
    "collapsed": false
   }
  },
  {
   "cell_type": "code",
   "execution_count": null,
   "outputs": [],
   "source": [
    "def add_two_num_op(num1: int, num2: int = 0) -> int:\n",
    "    return num1 + num2\n",
    "\n",
    "\n",
    "add_two_num_op(7, 5)"
   ],
   "metadata": {
    "collapsed": false
   }
  },
  {
   "cell_type": "markdown",
   "source": [
    "# Lambda Function"
   ],
   "metadata": {
    "collapsed": false
   }
  },
  {
   "cell_type": "code",
   "execution_count": null,
   "outputs": [],
   "source": [
    "a = lambda num3, num4: num3 + num4\n",
    "a(7, 8)"
   ],
   "metadata": {
    "collapsed": false
   }
  },
  {
   "cell_type": "code",
   "execution_count": null,
   "outputs": [],
   "source": [
    "data: list[int] = [1, 2, 3, 4, 5, 6, 7, 8, 9, 10]\n",
    "\n",
    "data = list(map(lambda x: x ** 2, data))  #iterative type return, so need to convert to list\n",
    "print(data)"
   ],
   "metadata": {
    "collapsed": false
   }
  },
  {
   "cell_type": "code",
   "execution_count": null,
   "outputs": [],
   "source": [
    "data: list[int] = [1, 2, 3, 4, 5, 6, 7, 8, 9, 10]\n",
    "\n",
    "data = list(filter(lambda x: x % 2 == 0, data))  #iterative type return, so need to convert to list\n",
    "print(data)"
   ],
   "metadata": {
    "collapsed": false
   }
  },
  {
   "cell_type": "code",
   "execution_count": null,
   "outputs": [],
   "source": [
    "from typing import Callable\n",
    "\n",
    "add: Callable[[int, int], int] = lambda x, y:  #%% md\n",
    "# Function\n"
   ],
   "metadata": {
    "collapsed": false
   }
  },
  {
   "cell_type": "markdown",
   "source": [
    "### Syntax\n",
    "def func_name(param1, param2.....) -> return type:\n",
    "    function body\n",
    "\n",
    "\n",
    "''' calling function\n",
    "func_name(arg1, arg2)"
   ],
   "metadata": {
    "collapsed": false
   }
  },
  {
   "cell_type": "code",
   "execution_count": null,
   "outputs": [],
   "source": [
    "a: int = len(\"Pakistan\")\n",
    "a"
   ],
   "metadata": {
    "collapsed": false
   }
  },
  {
   "cell_type": "code",
   "execution_count": null,
   "outputs": [],
   "source": [
    "def piaic() -> None:\n",
    "    print(\"PIAIC Generative AI Course\")\n",
    "\n",
    "\n",
    "piaic()"
   ],
   "metadata": {
    "collapsed": false
   }
  },
  {
   "cell_type": "markdown",
   "source": [
    "# Required Parameters in function"
   ],
   "metadata": {
    "collapsed": false
   }
  },
  {
   "cell_type": "code",
   "execution_count": null,
   "outputs": [],
   "source": [
    "def add_two_num(num1: int, num2: int) -> int:\n",
    "    return num1 + num2\n",
    "\n",
    "\n",
    "add_two_num(2, 5)\n"
   ],
   "metadata": {
    "collapsed": false
   }
  },
  {
   "cell_type": "markdown",
   "source": [
    "# Optional parameters/values"
   ],
   "metadata": {
    "collapsed": false
   }
  },
  {
   "cell_type": "code",
   "execution_count": null,
   "outputs": [],
   "source": [
    "def add_two_num_op(num1: int, num2: int = 0) -> int:\n",
    "    return num1 + num2\n",
    "\n",
    "\n",
    "add_two_num_op(7, 5)"
   ],
   "metadata": {
    "collapsed": false
   }
  },
  {
   "cell_type": "markdown",
   "source": [
    "# Lambda Function"
   ],
   "metadata": {
    "collapsed": false
   }
  },
  {
   "cell_type": "code",
   "execution_count": null,
   "outputs": [],
   "source": [
    "a = lambda num3, num4: num3 + num4\n",
    "a(7, 8)"
   ],
   "metadata": {
    "collapsed": false
   }
  },
  {
   "cell_type": "code",
   "execution_count": null,
   "outputs": [],
   "source": [
    "data: list[int] = [1, 2, 3, 4, 5, 6, 7, 8, 9, 10]\n",
    "\n",
    "data = list(map(lambda x: x ** 2, data))  #iterative type return, so need to convert to list\n",
    "print(data)"
   ],
   "metadata": {
    "collapsed": false
   }
  },
  {
   "cell_type": "code",
   "execution_count": null,
   "outputs": [],
   "source": [
    "data: list[int] = [1, 2, 3, 4, 5, 6, 7, 8, 9, 10]\n",
    "\n",
    "data = list(filter(lambda x: x % 2 == 0, data))  #iterative type return, so need to convert to list\n",
    "print(data)"
   ],
   "metadata": {
    "collapsed": false
   }
  },
  {
   "cell_type": "markdown",
   "source": [
    "### Syntax\n",
    "def func_name(param1, param2.....) -> return type:\n",
    "    function body\n",
    "\n",
    "\n",
    "''' calling function\n",
    "func_name(arg1, arg2)"
   ],
   "metadata": {
    "collapsed": false
   }
  },
  {
   "cell_type": "code",
   "execution_count": null,
   "outputs": [],
   "source": [
    "a: int = len(\"Pakistan\")\n",
    "a"
   ],
   "metadata": {
    "collapsed": false
   }
  },
  {
   "cell_type": "code",
   "execution_count": null,
   "outputs": [],
   "source": [
    "def piaic() -> None:\n",
    "    print(\"PIAIC Generative AI Course\")\n",
    "\n",
    "\n",
    "piaic()"
   ],
   "metadata": {
    "collapsed": false
   }
  },
  {
   "cell_type": "markdown",
   "source": [
    "# Required Parameters in function"
   ],
   "metadata": {
    "collapsed": false
   }
  },
  {
   "cell_type": "code",
   "execution_count": null,
   "outputs": [],
   "source": [
    "def add_two_num(num1: int, num2: int) -> int:\n",
    "    return num1 + num2\n",
    "\n",
    "\n",
    "add_two_num(2, 5)\n"
   ],
   "metadata": {
    "collapsed": false
   }
  },
  {
   "cell_type": "markdown",
   "source": [
    "# Optional parameters/values"
   ],
   "metadata": {
    "collapsed": false
   }
  },
  {
   "cell_type": "code",
   "execution_count": null,
   "outputs": [],
   "source": [
    "def add_two_num_op(num1: int, num2: int = 0) -> int:\n",
    "    return num1 + num2\n",
    "\n",
    "\n",
    "add_two_num_op(7, 5)"
   ],
   "metadata": {
    "collapsed": false
   }
  },
  {
   "cell_type": "markdown",
   "source": [
    "# Lambda Function"
   ],
   "metadata": {
    "collapsed": false
   }
  },
  {
   "cell_type": "code",
   "execution_count": null,
   "outputs": [],
   "source": [
    "a = lambda num3, num4: num3 + num4\n",
    "a(7, 8)"
   ],
   "metadata": {
    "collapsed": false
   }
  },
  {
   "cell_type": "code",
   "execution_count": null,
   "outputs": [],
   "source": [
    "data: list[int] = [1, 2, 3, 4, 5, 6, 7, 8, 9, 10]\n",
    "\n",
    "data = list(map(lambda x: x ** 2, data))  #iterative type return, so need to convert to list\n",
    "print(data)"
   ],
   "metadata": {
    "collapsed": false
   }
  },
  {
   "cell_type": "code",
   "execution_count": null,
   "outputs": [],
   "source": [
    "data: list[int] = [1, 2, 3, 4, 5, 6, 7, 8, 9, 10]\n",
    "\n",
    "data = list(filter(lambda x: x % 2 == 0, data))  #iterative type return, so need to convert to list\n",
    "print(data)"
   ],
   "metadata": {
    "collapsed": false
   }
  },
  {
   "cell_type": "code",
   "execution_count": null,
   "outputs": [],
   "source": [
    "from typing import Callable\n",
    "\n",
    "add: Callable[[int, int], int] = lambda x, y: x + y\n"
   ],
   "metadata": {
    "collapsed": false
   }
  },
  {
   "cell_type": "markdown",
   "source": [
    "# Generator Functions\n",
    "* iterate over element one-by-one\n",
    "* stop after each iteration\n",
    "* Store/remember old value from last iterate\n",
    "* next iterate:\n",
    "    * go forward from last iteration\n"
   ],
   "metadata": {
    "collapsed": false
   }
  },
  {
   "cell_type": "markdown",
   "source": [],
   "metadata": {
    "collapsed": false
   }
  },
  {
   "cell_type": "markdown",
   "source": [],
   "metadata": {
    "collapsed": false
   }
  }
 ],
 "metadata": {
  "kernelspec": {
   "display_name": "Python 3",
   "language": "python",
   "name": "python3"
  },
  "language_info": {
   "codemirror_mode": {
    "name": "ipython",
    "version": 2
   },
   "file_extension": ".py",
   "mimetype": "text/x-python",
   "name": "python",
   "nbconvert_exporter": "python",
   "pygments_lexer": "ipython2",
   "version": "2.7.6"
  }
 },
 "nbformat": 4,
 "nbformat_minor": 0
}
