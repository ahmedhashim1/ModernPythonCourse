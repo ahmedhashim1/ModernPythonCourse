{
 "cells": [
  {
   "cell_type": "markdown",
   "source": [
    "# List Tuples For loop"
   ],
   "metadata": {
    "collapsed": false
   }
  },
  {
   "cell_type": "code",
   "execution_count": 2,
   "metadata": {
    "collapsed": true,
    "ExecuteTime": {
     "end_time": "2024-02-27T07:53:34.888194Z",
     "start_time": "2024-02-27T07:53:34.886193900Z"
    }
   },
   "outputs": [
    {
     "name": "stdout",
     "output_type": "stream",
     "text": [
      "['Ahmed', 'Maheen']\n"
     ]
    }
   ],
   "source": [
    "names : list[str] = ['Ahmed', 'Maheen']\n",
    "print(names)"
   ]
  },
  {
   "cell_type": "code",
   "execution_count": 4,
   "outputs": [
    {
     "name": "stdout",
     "output_type": "stream",
     "text": [
      "Ahmed\n",
      "Maheen\n",
      "Saba\n"
     ]
    }
   ],
   "source": [
    "names : list[str] = ['Ahmed', 'Maheen', 'Saba']\n",
    "\n",
    "for name in names:\n",
    "    print(name)"
   ],
   "metadata": {
    "collapsed": false,
    "ExecuteTime": {
     "end_time": "2024-02-27T07:55:46.966013300Z",
     "start_time": "2024-02-27T07:55:46.948354600Z"
    }
   }
  },
  {
   "cell_type": "markdown",
   "source": [
    "# Syntax"
   ],
   "metadata": {
    "collapsed": false
   }
  },
  {
   "cell_type": "code",
   "execution_count": 9,
   "outputs": [
    {
     "name": "stdout",
     "output_type": "stream",
     "text": [
      "Welcome Ahmed! to the team.\n",
      "Welcome Maheen! to the team.\n",
      "Welcome Saba! to the team.\n"
     ]
    }
   ],
   "source": [
    "names : list[str] = ['ahmed', 'Maheen', 'Saba']\n",
    "\n",
    "for name in names:\n",
    "    print(f'Welcome {name.title()}! to the team.')"
   ],
   "metadata": {
    "collapsed": false,
    "ExecuteTime": {
     "end_time": "2024-02-27T08:13:44.905638300Z",
     "start_time": "2024-02-27T08:13:44.896641300Z"
    }
   }
  },
  {
   "cell_type": "code",
   "execution_count": 11,
   "outputs": [
    {
     "name": "stdout",
     "output_type": "stream",
     "text": [
      "Welcome Ahmed! to the team.\n",
      "Welcome Maheen! to the team.\n",
      "Welcome Saba! to the team.\n",
      "PIAIC Modern python course\n"
     ]
    }
   ],
   "source": [
    "names : list[str] = ['ahmed', 'Maheen', 'Saba']\n",
    "\n",
    "for name in names:\n",
    "    print(f'Welcome {name.title()}! to the team.')\n",
    "\n",
    "    print(\"PIAIC Modern python course\") #indented code will be part of body"
   ],
   "metadata": {
    "collapsed": false,
    "ExecuteTime": {
     "end_time": "2024-02-27T08:15:25.940702Z",
     "start_time": "2024-02-27T08:15:25.918183300Z"
    }
   }
  },
  {
   "cell_type": "code",
   "execution_count": 15,
   "outputs": [
    {
     "name": "stdout",
     "output_type": "stream",
     "text": [
      "('Ahmed', '123')\n",
      "('Maheen', '456')\n",
      "('Saba', '789')\n"
     ]
    }
   ],
   "source": [
    "data_base : list[tuple[str, str]] = [(\"Ahmed\", \"123\"),\n",
    "                                     (\"Maheen\", \"456\"),\n",
    "                                     (\"Saba\", \"789\"),\n",
    "\n",
    "]\n",
    "\n",
    "for row in data_base:\n",
    "    print(row)"
   ],
   "metadata": {
    "collapsed": false,
    "ExecuteTime": {
     "end_time": "2024-02-27T08:41:09.415884600Z",
     "start_time": "2024-02-27T08:41:09.410883500Z"
    }
   }
  },
  {
   "cell_type": "code",
   "execution_count": 23,
   "outputs": [
    {
     "name": "stdout",
     "output_type": "stream",
     "text": [
      "Ahmed 123\n",
      "Maheen 456\n",
      "Saba 789\n"
     ]
    }
   ],
   "source": [
    "data_base : list[tuple[str, str]] = [(\"Ahmed\", \"123\"),\n",
    "                                     (\"Maheen\", \"456\"),\n",
    "                                     (\"Saba\", \"789\"),\n",
    "\n",
    "]\n",
    "\n",
    "for row in data_base:\n",
    "    (user_name, passw) = row\n",
    "    print(user_name, passw)"
   ],
   "metadata": {
    "collapsed": false,
    "ExecuteTime": {
     "end_time": "2024-02-27T09:06:34.416686600Z",
     "start_time": "2024-02-27T09:06:34.402719900Z"
    }
   }
  },
  {
   "cell_type": "code",
   "execution_count": 26,
   "outputs": [
    {
     "name": "stdout",
     "output_type": "stream",
     "text": [
      "Invalid User\n",
      "Saba 789\n"
     ]
    }
   ],
   "source": [
    "data_base : list[tuple[str, str]] = [(\"Ahmed\", \"123\"),\n",
    "                                     (\"Maheen\", \"456\"),\n",
    "                                     (\"Saba\", \"789\"),\n",
    "\n",
    "]\n",
    "input_user : str = input(\"Enter username: \")\n",
    "input_pass : str = input(\"Enter password: \")\n",
    "\n",
    "for row in data_base:\n",
    "    (user_name, passw) = row\n",
    "    if input_user == user_name and input_pass == passw:\n",
    "        print(\"User validated\")\n",
    "        break\n",
    "else: # this else belongs to For loop not If block\n",
    "    print(\"Invalid User\")\n",
    "#print(user_name, passw)"
   ],
   "metadata": {
    "collapsed": false,
    "ExecuteTime": {
     "end_time": "2024-02-27T09:13:57.414504600Z",
     "start_time": "2024-02-27T09:13:54.169847600Z"
    }
   }
  },
  {
   "cell_type": "code",
   "execution_count": 1,
   "outputs": [
    {
     "name": "stdout",
     "output_type": "stream",
     "text": [
      "alice\n",
      "david\n",
      "carolina\n"
     ]
    }
   ],
   "source": [
    "magicians = ['alice', 'david', 'carolina']\n",
    "for magician in magicians:\n",
    "    print(magician)"
   ],
   "metadata": {
    "collapsed": false
   }
  },
  {
   "cell_type": "code",
   "execution_count": 4,
   "outputs": [
    {
     "name": "stdout",
     "output_type": "stream",
     "text": [
      "Alice, that was a great trick!\n",
      "I can't wait to see your next trick, Alice.\n",
      "\n",
      "Thank you everyone, that was a great magic show!\n",
      "David, that was a great trick!\n",
      "I can't wait to see your next trick, David.\n",
      "\n",
      "Thank you everyone, that was a great magic show!\n",
      "Carolina, that was a great trick!\n",
      "I can't wait to see your next trick, Carolina.\n",
      "\n",
      "Thank you everyone, that was a great magic show!\n"
     ]
    }
   ],
   "source": [
    "magicians = ['alice', 'david', 'carolina']\n",
    "for magician in magicians:\n",
    "    print(magician.title() + \", that was a great trick!\")\n",
    "    print(\"I can't wait to see your next trick, \" + magician.title() + \".\\n\")\n",
    "\n",
    "    print(\"Thank you everyone, that was a great magic show!\") #unnecessary indentation will print in every iteration instead of just 1 time"
   ],
   "metadata": {
    "collapsed": false,
    "ExecuteTime": {
     "end_time": "2024-02-28T13:33:43.136602200Z",
     "start_time": "2024-02-28T13:33:43.124600200Z"
    }
   }
  },
  {
   "cell_type": "code",
   "execution_count": 3,
   "outputs": [
    {
     "name": "stdout",
     "output_type": "stream",
     "text": [
      "Alice, that was a great trick!\n",
      "David, that was a great trick!\n",
      "Carolina, that was a great trick!\n",
      "I can't wait to see your next trick, Carolina.\n",
      "\n"
     ]
    }
   ],
   "source": [
    "magicians = ['alice', 'david', 'carolina']\n",
    "for magician in magicians:\n",
    "    print(magician.title() + \", that was a great trick!\")\n",
    "print(\"I can't wait to see your next trick, \" + magician.title() + \".\\n\")"
   ],
   "metadata": {
    "collapsed": false,
    "ExecuteTime": {
     "end_time": "2024-02-28T13:31:08.750707Z",
     "start_time": "2024-02-28T13:31:08.733726600Z"
    }
   }
  },
  {
   "cell_type": "markdown",
   "source": [
    "# Range function"
   ],
   "metadata": {
    "collapsed": false
   }
  },
  {
   "cell_type": "code",
   "execution_count": 6,
   "outputs": [
    {
     "name": "stdout",
     "output_type": "stream",
     "text": [
      "range(0, 10)\n"
     ]
    }
   ],
   "source": [
    "range(10)"
   ],
   "metadata": {
    "collapsed": false,
    "ExecuteTime": {
     "end_time": "2024-02-28T13:36:10.906557500Z",
     "start_time": "2024-02-28T13:36:10.895540300Z"
    }
   }
  },
  {
   "cell_type": "code",
   "execution_count": 14,
   "outputs": [
    {
     "data": {
      "text/plain": "[2, 4, 6, 8, 10, 12, 14, 16, 18, 20]"
     },
     "execution_count": 14,
     "metadata": {},
     "output_type": "execute_result"
    }
   ],
   "source": [
    "list(range(2,21,2))"
   ],
   "metadata": {
    "collapsed": false,
    "ExecuteTime": {
     "end_time": "2024-02-28T13:39:51.895160200Z",
     "start_time": "2024-02-28T13:39:51.853159Z"
    }
   }
  },
  {
   "cell_type": "code",
   "execution_count": 16,
   "outputs": [
    {
     "name": "stdout",
     "output_type": "stream",
     "text": [
      "2\n",
      "4\n",
      "6\n",
      "8\n",
      "10\n",
      "12\n",
      "14\n",
      "16\n",
      "18\n",
      "20\n"
     ]
    }
   ],
   "source": [
    "for n in range(2,21,2):\n",
    "    print(n)"
   ],
   "metadata": {
    "collapsed": false,
    "ExecuteTime": {
     "end_time": "2024-02-28T13:40:38.793320600Z",
     "start_time": "2024-02-28T13:40:38.786019Z"
    }
   }
  },
  {
   "cell_type": "code",
   "execution_count": 17,
   "outputs": [
    {
     "name": "stdout",
     "output_type": "stream",
     "text": [
      "0 alice\n",
      "1 david\n",
      "2 carolina\n"
     ]
    }
   ],
   "source": [
    "magicians = ['alice', 'david', 'carolina']\n",
    "for index,magic in enumerate(magicians):\n",
    "    print(index, magic)"
   ],
   "metadata": {
    "collapsed": false,
    "ExecuteTime": {
     "end_time": "2024-02-28T13:51:53.907944200Z",
     "start_time": "2024-02-28T13:51:53.891938500Z"
    }
   }
  },
  {
   "cell_type": "code",
   "execution_count": 19,
   "outputs": [
    {
     "name": "stdout",
     "output_type": "stream",
     "text": [
      "2 x 1 = 2\n",
      "2 x 2 = 4\n",
      "2 x 3 = 6\n",
      "2 x 4 = 8\n",
      "2 x 5 = 10\n",
      "2 x 6 = 12\n",
      "2 x 7 = 14\n",
      "2 x 8 = 16\n",
      "2 x 9 = 18\n",
      "2 x 10 = 20\n"
     ]
    }
   ],
   "source": [
    "for index,tab in enumerate(range(2,21,2)):\n",
    "    print(f'2 x {index+1} = {tab}')"
   ],
   "metadata": {
    "collapsed": false,
    "ExecuteTime": {
     "end_time": "2024-02-28T13:53:18.779532400Z",
     "start_time": "2024-02-28T13:53:18.756966600Z"
    }
   }
  },
  {
   "cell_type": "code",
   "execution_count": 23,
   "outputs": [
    {
     "name": "stdout",
     "output_type": "stream",
     "text": [
      "2 x 1 = 2\n",
      "2 x 2 = 4\n",
      "2 x 3 = 6\n",
      "2 x 4 = 8\n",
      "2 x 5 = 10\n",
      "2 x 6 = 12\n",
      "2 x 7 = 14\n",
      "2 x 8 = 16\n",
      "2 x 9 = 18\n",
      "2 x 10 = 20\n",
      "2 x 11 = 22\n",
      "2 x 12 = 24\n",
      "2 x 13 = 26\n",
      "2 x 14 = 28\n",
      "2 x 15 = 30\n",
      "2 x 16 = 32\n",
      "2 x 17 = 34\n",
      "2 x 18 = 36\n",
      "2 x 19 = 38\n",
      "2 x 20 = 40\n"
     ]
    }
   ],
   "source": [
    "# without Enum\n",
    "for n in range(1,21):\n",
    "    print(f'{2} x {n} = {n*2}')"
   ],
   "metadata": {
    "collapsed": false,
    "ExecuteTime": {
     "end_time": "2024-02-28T13:56:38.560634700Z",
     "start_time": "2024-02-28T13:56:38.553638600Z"
    }
   }
  },
  {
   "cell_type": "code",
   "execution_count": 25,
   "outputs": [
    {
     "name": "stdout",
     "output_type": "stream",
     "text": [
      "[1, 4, 9, 16, 25, 36, 49, 64, 81, 100]\n"
     ]
    }
   ],
   "source": [
    "squares :list[int] = []\n",
    "for value in range(1,11):\n",
    " square = value**2\n",
    " squares.append(square)\n",
    "print(squares)"
   ],
   "metadata": {
    "collapsed": false,
    "ExecuteTime": {
     "end_time": "2024-02-28T13:58:59.008442900Z",
     "start_time": "2024-02-28T13:58:59.002452900Z"
    }
   }
  },
  {
   "cell_type": "markdown",
   "source": [
    "# List Comprehension"
   ],
   "metadata": {
    "collapsed": false
   }
  },
  {
   "cell_type": "code",
   "execution_count": 26,
   "outputs": [
    {
     "data": {
      "text/plain": "[1, 4, 9, 16, 25, 36, 49, 64, 81, 100]"
     },
     "execution_count": 26,
     "metadata": {},
     "output_type": "execute_result"
    }
   ],
   "source": [
    "[i**2 for i in range(1,11)]"
   ],
   "metadata": {
    "collapsed": false,
    "ExecuteTime": {
     "end_time": "2024-02-28T14:04:49.138961200Z",
     "start_time": "2024-02-28T14:04:49.118838100Z"
    }
   }
  },
  {
   "cell_type": "code",
   "execution_count": 29,
   "outputs": [
    {
     "name": "stdout",
     "output_type": "stream",
     "text": [
      "[1, 2, 3, 4, 5, 6, 7, 8, 9]\n",
      "9\n",
      "1\n",
      "45\n"
     ]
    }
   ],
   "source": [
    "digits : list[int] = [1,2,3,4,5,6,7,8,9]\n",
    "print(digits)\n",
    "print(max(digits))\n",
    "print(min(digits))\n",
    "print(sum(digits))"
   ],
   "metadata": {
    "collapsed": false,
    "ExecuteTime": {
     "end_time": "2024-02-28T14:10:13.393873600Z",
     "start_time": "2024-02-28T14:10:13.378701700Z"
    }
   }
  },
  {
   "cell_type": "markdown",
   "source": [
    "# Tuple immutable"
   ],
   "metadata": {
    "collapsed": false
   }
  },
  {
   "cell_type": "code",
   "execution_count": 31,
   "outputs": [
    {
     "name": "stdout",
     "output_type": "stream",
     "text": [
      "('A', 'B', 'C')\n",
      "A\n",
      "('A', 'B')\n"
     ]
    }
   ],
   "source": [
    "name_tup : tuple[str] = ('A', 'B', 'C')\n",
    "\n",
    "print(name_tup)\n",
    "print(name_tup[0])\n",
    "print(name_tup[0:2])"
   ],
   "metadata": {
    "collapsed": false,
    "ExecuteTime": {
     "end_time": "2024-02-28T14:15:24.100185700Z",
     "start_time": "2024-02-28T14:15:24.088747800Z"
    }
   }
  },
  {
   "cell_type": "code",
   "execution_count": 32,
   "outputs": [
    {
     "name": "stdout",
     "output_type": "stream",
     "text": [
      "('A', 'B', 'C')\n"
     ]
    },
    {
     "ename": "TypeError",
     "evalue": "'tuple' object does not support item assignment",
     "output_type": "error",
     "traceback": [
      "\u001B[1;31m---------------------------------------------------------------------------\u001B[0m",
      "\u001B[1;31mTypeError\u001B[0m                                 Traceback (most recent call last)",
      "Cell \u001B[1;32mIn[32], line 5\u001B[0m\n\u001B[0;32m      2\u001B[0m name_tup : \u001B[38;5;28mtuple\u001B[39m[\u001B[38;5;28mstr\u001B[39m] \u001B[38;5;241m=\u001B[39m (\u001B[38;5;124m'\u001B[39m\u001B[38;5;124mA\u001B[39m\u001B[38;5;124m'\u001B[39m, \u001B[38;5;124m'\u001B[39m\u001B[38;5;124mB\u001B[39m\u001B[38;5;124m'\u001B[39m, \u001B[38;5;124m'\u001B[39m\u001B[38;5;124mC\u001B[39m\u001B[38;5;124m'\u001B[39m)\n\u001B[0;32m      4\u001B[0m \u001B[38;5;28mprint\u001B[39m(name_tup)\n\u001B[1;32m----> 5\u001B[0m \u001B[43mname_tup\u001B[49m\u001B[43m[\u001B[49m\u001B[38;5;241;43m0\u001B[39;49m\u001B[43m]\u001B[49m \u001B[38;5;241m=\u001B[39m \u001B[38;5;124m'\u001B[39m\u001B[38;5;124mAhmed\u001B[39m\u001B[38;5;124m'\u001B[39m\n",
      "\u001B[1;31mTypeError\u001B[0m: 'tuple' object does not support item assignment"
     ]
    }
   ],
   "source": [
    "#doesn't allow any update/modification\n",
    "name_tup : tuple[str] = ('A', 'B', 'C')\n",
    "\n",
    "print(name_tup)\n",
    "name_tup[0] = 'Ahmed'"
   ],
   "metadata": {
    "collapsed": false,
    "ExecuteTime": {
     "end_time": "2024-02-28T14:15:56.490281800Z",
     "start_time": "2024-02-28T14:15:55.686324Z"
    }
   }
  },
  {
   "cell_type": "code",
   "execution_count": 33,
   "outputs": [
    {
     "name": "stdout",
     "output_type": "stream",
     "text": [
      "('A', 'B', 'C')\n",
      "('Pakistan', 'B', 'C')\n"
     ]
    }
   ],
   "source": [
    "#update via reassigned\n",
    "name_tup : tuple[str] = ('A', 'B', 'C')\n",
    "\n",
    "print(name_tup)\n",
    "name_tup : tuple[str] = ('Pakistan', 'B', 'C')\n",
    "print(name_tup)"
   ],
   "metadata": {
    "collapsed": false,
    "ExecuteTime": {
     "end_time": "2024-02-28T14:17:16.499433400Z",
     "start_time": "2024-02-28T14:17:16.465402500Z"
    }
   }
  },
  {
   "cell_type": "code",
   "execution_count": 36,
   "outputs": [
    {
     "name": "stdout",
     "output_type": "stream",
     "text": [
      "('A', [1, 2, 3], True)\n",
      "('A', [1, 2, 3, 20], True)\n"
     ]
    }
   ],
   "source": [
    "from typing import Any\n",
    "\n",
    "data : tuple[Any] = ('A', [1,2,3], True)\n",
    "print(data)\n",
    "\n",
    "data[1].append(20)  # appending the list inside the tuple\n",
    "print(data)"
   ],
   "metadata": {
    "collapsed": false,
    "ExecuteTime": {
     "end_time": "2024-02-28T14:20:13.530707100Z",
     "start_time": "2024-02-28T14:20:13.521648Z"
    }
   }
  }
 ],
 "metadata": {
  "kernelspec": {
   "display_name": "Python 3",
   "language": "python",
   "name": "python3"
  },
  "language_info": {
   "codemirror_mode": {
    "name": "ipython",
    "version": 2
   },
   "file_extension": ".py",
   "mimetype": "text/x-python",
   "name": "python",
   "nbconvert_exporter": "python",
   "pygments_lexer": "ipython2",
   "version": "2.7.6"
  }
 },
 "nbformat": 4,
 "nbformat_minor": 0
}
