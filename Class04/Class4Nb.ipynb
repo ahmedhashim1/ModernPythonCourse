{
 "cells": [
  {
   "cell_type": "markdown",
   "source": [
    "# List and list methods\n",
    "* dynamic length\n",
    "* heterogeneous data types (Multiple Type)\n",
    "* index\n",
    "  * positive (0 to n-1)\n",
    "  * negative -1 to length\n",
    "* Slicing\n",
    "   *  variable --- names[start, end, step]\n",
    "   * [start (include), end(exclude), step (sequence))\n",
    "   Slicing is extracting part of List"
   ],
   "metadata": {
    "collapsed": false
   }
  },
  {
   "cell_type": "code",
   "execution_count": 7,
   "outputs": [
    {
     "name": "stdout",
     "output_type": "stream",
     "text": [
      "Maheen\n",
      "3\n"
     ]
    }
   ],
   "source": [
    "#pos        0         1         2\n",
    "names = [\"Ahmed\", \"Maheen\", \"Saba\"]\n",
    "#neg     -3         -2          -1\n",
    "\n",
    "print(names[-2])\n",
    "print(len(names))"
   ],
   "metadata": {
    "collapsed": false,
    "ExecuteTime": {
     "end_time": "2024-02-20T07:50:38.753696900Z",
     "start_time": "2024-02-20T07:50:38.746699900Z"
    }
   }
  },
  {
   "cell_type": "code",
   "execution_count": 15,
   "outputs": [
    {
     "name": "stdout",
     "output_type": "stream",
     "text": [
      "['Ahmed', 'Saba', 'Maheen', 12]\n",
      "MAHEEN is a expert Python Programmer\n",
      "<class 'list'>\n",
      "<class 'str'>\n"
     ]
    }
   ],
   "source": [
    "from typing import Any\n",
    "\n",
    "names : list[Any] = [\"Ahmed\", \"Saba\", \"Maheen\", 12]\n",
    "print(names)\n",
    "\n",
    "print(f'{names[2].upper()} is a expert Python Programmer')\n",
    "print(type(names))\n",
    "print(type(names[0]))"
   ],
   "metadata": {
    "collapsed": false,
    "ExecuteTime": {
     "end_time": "2024-02-20T08:00:08.404391700Z",
     "start_time": "2024-02-20T08:00:08.388392500Z"
    }
   }
  },
  {
   "cell_type": "code",
   "execution_count": 31,
   "outputs": [
    {
     "name": "stdout",
     "output_type": "stream",
     "text": [
      "['A', 'B']\n",
      "['A', 'B']\n",
      "['A', 'B']\n",
      "['A', 'B']\n"
     ]
    }
   ],
   "source": [
    "# default slicing is left-to-right\n",
    "characters : list[Any] = list(\"ABCDEFGHIJKLMNOPQRSTUVWXYZ\")\n",
    "print(characters[0:2])\n",
    "print(characters[:2])\n",
    "print(characters[-26:-24])\n",
    "print(characters[0:2:])"
   ],
   "metadata": {
    "collapsed": false,
    "ExecuteTime": {
     "end_time": "2024-02-20T09:24:51.281350100Z",
     "start_time": "2024-02-20T09:24:51.241602200Z"
    }
   }
  },
  {
   "cell_type": "code",
   "execution_count": 38,
   "outputs": [
    {
     "name": "stdout",
     "output_type": "stream",
     "text": [
      "['Z', 'Y', 'X', 'W', 'V', 'U', 'T', 'S', 'R', 'Q', 'P', 'O', 'N', 'M', 'L', 'K', 'J', 'I', 'H', 'G', 'F', 'E', 'D', 'C', 'B', 'A']\n"
     ]
    }
   ],
   "source": [
    "characters : list[str] = list(\"ABCDEFGHIJKLMNOPQRSTUVWXYZ\")\n",
    "\n",
    "print(characters[::-1])"
   ],
   "metadata": {
    "collapsed": false,
    "ExecuteTime": {
     "end_time": "2024-02-20T09:30:31.660915Z",
     "start_time": "2024-02-20T09:30:31.580343300Z"
    }
   }
  },
  {
   "cell_type": "code",
   "execution_count": 3,
   "outputs": [
    {
     "name": "stdout",
     "output_type": "stream",
     "text": [
      "[]\n"
     ]
    }
   ],
   "source": [
    "characters : list[str] = list(\"ABCDEFGH\")\n",
    "print(characters[-2:-5])"
   ],
   "metadata": {
    "collapsed": false,
    "ExecuteTime": {
     "end_time": "2024-02-20T15:34:58.796869300Z",
     "start_time": "2024-02-20T15:34:58.789519800Z"
    }
   }
  },
  {
   "cell_type": "code",
   "execution_count": 4,
   "outputs": [
    {
     "name": "stdout",
     "output_type": "stream",
     "text": [
      "['G', 'F', 'E']\n"
     ]
    }
   ],
   "source": [
    "characters : list[str] = list(\"ABCDEFGH\")\n",
    "print(characters[-2:-5:-1])"
   ],
   "metadata": {
    "collapsed": false,
    "ExecuteTime": {
     "end_time": "2024-02-20T15:35:31.152560500Z",
     "start_time": "2024-02-20T15:35:31.092562100Z"
    }
   }
  },
  {
   "cell_type": "code",
   "execution_count": 3,
   "outputs": [
    {
     "name": "stdout",
     "output_type": "stream",
     "text": [
      "['Ahmed', 'Maheen', 'Saba', 20, True]\n",
      "['Ahmed', 'Maheen', 20, True]\n",
      "Saba\n"
     ]
    }
   ],
   "source": [
    "#deleting items from List\n",
    "from typing import Any\n",
    "names : list[Any] = ['Ahmed', 'Maheen', 'Saba', 20,True]\n",
    "print(names)\n",
    "\n",
    "#del function does not return or save the deleted item\n",
    "#pop function does return or save the deleted item\n",
    "a : str = names.pop(2)\n",
    "\n",
    "print(names)\n",
    "print(a)"
   ],
   "metadata": {
    "collapsed": false,
    "ExecuteTime": {
     "end_time": "2024-02-21T15:57:06.833716Z",
     "start_time": "2024-02-21T15:57:06.689736100Z"
    }
   }
  },
  {
   "cell_type": "code",
   "execution_count": null,
   "outputs": [],
   "source": [
    "#Insert\n",
    "names :list[str] = []\n"
   ],
   "metadata": {
    "collapsed": false
   }
  }
 ],
 "metadata": {
  "kernelspec": {
   "display_name": "Python 3",
   "language": "python",
   "name": "python3"
  },
  "language_info": {
   "codemirror_mode": {
    "name": "ipython",
    "version": 2
   },
   "file_extension": ".py",
   "mimetype": "text/x-python",
   "name": "python",
   "nbconvert_exporter": "python",
   "pygments_lexer": "ipython2",
   "version": "2.7.6"
  }
 },
 "nbformat": 4,
 "nbformat_minor": 0
}
