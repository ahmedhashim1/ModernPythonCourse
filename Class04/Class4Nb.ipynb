{
 "cells": [
  {
   "cell_type": "markdown",
   "source": [
    "# List and list methods\n",
    "* dynamic length\n",
    "* heterogeneous data types (Multiple Type)\n",
    "* index\n",
    "  * positive (0 to n-1)\n",
    "  * negative -1 to length\n",
    "* Slicing\n",
    "   *  variable --- names[start, end, step]\n",
    "   * [start (include), end(exclude), step (sequence))\n",
    "   Slicing is extracting part of List"
   ],
   "metadata": {
    "collapsed": false
   }
  },
  {
   "cell_type": "code",
   "execution_count": 7,
   "outputs": [
    {
     "name": "stdout",
     "output_type": "stream",
     "text": [
      "Maheen\n",
      "3\n"
     ]
    }
   ],
   "source": [
    "#pos        0         1         2\n",
    "names = [\"Ahmed\", \"Maheen\", \"Saba\"]\n",
    "#neg     -3         -2          -1\n",
    "\n",
    "print(names[-2])\n",
    "print(len(names))"
   ],
   "metadata": {
    "collapsed": false,
    "ExecuteTime": {
     "end_time": "2024-02-20T07:50:38.753696900Z",
     "start_time": "2024-02-20T07:50:38.746699900Z"
    }
   }
  },
  {
   "cell_type": "code",
   "execution_count": 15,
   "outputs": [
    {
     "name": "stdout",
     "output_type": "stream",
     "text": [
      "['Ahmed', 'Saba', 'Maheen', 12]\n",
      "MAHEEN is a expert Python Programmer\n",
      "<class 'list'>\n",
      "<class 'str'>\n"
     ]
    }
   ],
   "source": [
    "from typing import Any\n",
    "\n",
    "names : list[Any] = [\"Ahmed\", \"Saba\", \"Maheen\", 12]\n",
    "print(names)\n",
    "\n",
    "print(f'{names[2].upper()} is a expert Python Programmer')\n",
    "print(type(names))\n",
    "print(type(names[0]))"
   ],
   "metadata": {
    "collapsed": false,
    "ExecuteTime": {
     "end_time": "2024-02-20T08:00:08.404391700Z",
     "start_time": "2024-02-20T08:00:08.388392500Z"
    }
   }
  },
  {
   "cell_type": "code",
   "execution_count": 31,
   "outputs": [
    {
     "name": "stdout",
     "output_type": "stream",
     "text": [
      "['A', 'B']\n",
      "['A', 'B']\n",
      "['A', 'B']\n",
      "['A', 'B']\n"
     ]
    }
   ],
   "source": [
    "# default slicing is left-to-right\n",
    "characters : list[Any] = list(\"ABCDEFGHIJKLMNOPQRSTUVWXYZ\")\n",
    "print(characters[0:2])\n",
    "print(characters[:2])\n",
    "print(characters[-26:-24])\n",
    "print(characters[0:2:])"
   ],
   "metadata": {
    "collapsed": false,
    "ExecuteTime": {
     "end_time": "2024-02-20T09:24:51.281350100Z",
     "start_time": "2024-02-20T09:24:51.241602200Z"
    }
   }
  },
  {
   "cell_type": "code",
   "execution_count": 38,
   "outputs": [
    {
     "name": "stdout",
     "output_type": "stream",
     "text": [
      "['Z', 'Y', 'X', 'W', 'V', 'U', 'T', 'S', 'R', 'Q', 'P', 'O', 'N', 'M', 'L', 'K', 'J', 'I', 'H', 'G', 'F', 'E', 'D', 'C', 'B', 'A']\n"
     ]
    }
   ],
   "source": [
    "characters : list[str] = list(\"ABCDEFGHIJKLMNOPQRSTUVWXYZ\")\n",
    "\n",
    "print(characters[::-1])"
   ],
   "metadata": {
    "collapsed": false,
    "ExecuteTime": {
     "end_time": "2024-02-20T09:30:31.660915Z",
     "start_time": "2024-02-20T09:30:31.580343300Z"
    }
   }
  },
  {
   "cell_type": "code",
   "execution_count": 3,
   "outputs": [
    {
     "name": "stdout",
     "output_type": "stream",
     "text": [
      "[]\n"
     ]
    }
   ],
   "source": [
    "characters : list[str] = list(\"ABCDEFGH\")\n",
    "print(characters[-2:-5])"
   ],
   "metadata": {
    "collapsed": false,
    "ExecuteTime": {
     "end_time": "2024-02-20T15:34:58.796869300Z",
     "start_time": "2024-02-20T15:34:58.789519800Z"
    }
   }
  },
  {
   "cell_type": "code",
   "execution_count": 4,
   "outputs": [
    {
     "name": "stdout",
     "output_type": "stream",
     "text": [
      "['G', 'F', 'E']\n"
     ]
    }
   ],
   "source": [
    "characters : list[str] = list(\"ABCDEFGH\")\n",
    "print(characters[-2:-5:-1])"
   ],
   "metadata": {
    "collapsed": false,
    "ExecuteTime": {
     "end_time": "2024-02-20T15:35:31.152560500Z",
     "start_time": "2024-02-20T15:35:31.092562100Z"
    }
   }
  },
  {
   "cell_type": "code",
   "execution_count": 3,
   "outputs": [
    {
     "name": "stdout",
     "output_type": "stream",
     "text": [
      "['Ahmed', 'Maheen', 'Saba', 20, True]\n",
      "['Ahmed', 'Maheen', 20, True]\n",
      "Saba\n"
     ]
    }
   ],
   "source": [
    "#deleting items from List\n",
    "from typing import Any\n",
    "names : list[Any] = ['Ahmed', 'Maheen', 'Saba', 20,True]\n",
    "print(names)\n",
    "\n",
    "#del function does not return or save the deleted item\n",
    "#pop function does return or save the deleted item\n",
    "a : str = names.pop(2)\n",
    "\n",
    "print(names)\n",
    "print(a)"
   ],
   "metadata": {
    "collapsed": false,
    "ExecuteTime": {
     "end_time": "2024-02-21T15:57:06.833716Z",
     "start_time": "2024-02-21T15:57:06.689736100Z"
    }
   }
  },
  {
   "cell_type": "code",
   "execution_count": 2,
   "outputs": [
    {
     "name": "stdout",
     "output_type": "stream",
     "text": [
      "['a', 'b', 'Sir Zia', 'Ahmed Hashim', 'Maheen Ahmed']\n"
     ]
    }
   ],
   "source": [
    "#Append add element at last position\n",
    "names : list[str] = ['a', 'b']\n",
    "names.append(\"Sir Zia\")\n",
    "names.append(\"Ahmed Hashim\")\n",
    "names.append(\"Maheen Ahmed\")\n",
    "\n",
    "print(names)"
   ],
   "metadata": {
    "collapsed": false,
    "ExecuteTime": {
     "end_time": "2024-02-21T16:02:06.025829Z",
     "start_time": "2024-02-21T16:02:06.015831500Z"
    }
   }
  },
  {
   "cell_type": "code",
   "execution_count": 4,
   "outputs": [
    {
     "name": "stdout",
     "output_type": "stream",
     "text": [
      "['a', 'b', 'Saba', 'Ahmed', 'Maheen']\n",
      "[]\n"
     ]
    }
   ],
   "source": [
    "#Insert add element at specific index\n",
    "names : list[str] = ['a', 'b', 'Ahmed', 'Maheen']\n",
    "names.insert(2, 'Saba')\n",
    "print(names)\n",
    "names.clear() #remove all elements but variable/object remains\n",
    "#whereas Del function delete object/variable\n",
    "print(names)"
   ],
   "metadata": {
    "collapsed": false,
    "ExecuteTime": {
     "end_time": "2024-02-21T16:07:08.943363200Z",
     "start_time": "2024-02-21T16:07:08.933735600Z"
    }
   }
  },
  {
   "cell_type": "code",
   "execution_count": 5,
   "outputs": [
    {
     "name": "stdout",
     "output_type": "stream",
     "text": [
      "['a', 'b', 'c']\n",
      "['a', 'b', 'c']\n"
     ]
    }
   ],
   "source": [
    "#Copy method\n",
    "a : list[str] = ['a','b','c']\n",
    "\n",
    "b = a\n",
    "\n",
    "print(a)\n",
    "print(b)"
   ],
   "metadata": {
    "collapsed": false,
    "ExecuteTime": {
     "end_time": "2024-02-21T16:09:09.873749100Z",
     "start_time": "2024-02-21T16:09:09.865906800Z"
    }
   }
  },
  {
   "cell_type": "code",
   "execution_count": 8,
   "outputs": [
    {
     "name": "stdout",
     "output_type": "stream",
     "text": [
      "['a', 'b', 'c']\n",
      "['a', 'b', 'c']\n",
      "['a', 'b', 'c']\n",
      "['Pakistan', 'b', 'c']\n"
     ]
    }
   ],
   "source": [
    "#above example continue...\n",
    "a : list[str] = ['a','b','c']\n",
    "\n",
    "b = a.copy()  #deep copy\n",
    "print(a)\n",
    "print(b)\n",
    "\n",
    "b[0] = \"Pakistan\"\n",
    "\n",
    "print(a)\n",
    "print(b)"
   ],
   "metadata": {
    "collapsed": false,
    "ExecuteTime": {
     "end_time": "2024-02-21T16:12:01.466259500Z",
     "start_time": "2024-02-21T16:12:01.443424400Z"
    }
   }
  },
  {
   "cell_type": "code",
   "execution_count": 12,
   "outputs": [
    {
     "name": "stdout",
     "output_type": "stream",
     "text": [
      "3\n",
      "2\n",
      "1\n"
     ]
    }
   ],
   "source": [
    "#count\n",
    "a :list[str] = ['a', 'a', 'a', 'b', 'c', 'c']\n",
    "\n",
    "print(a.count(\"a\"))\n",
    "print(a.count(\"c\"))\n",
    "print(a.count(\"b\"))"
   ],
   "metadata": {
    "collapsed": false,
    "ExecuteTime": {
     "end_time": "2024-02-21T16:19:28.851412Z",
     "start_time": "2024-02-21T16:19:28.832562500Z"
    }
   }
  },
  {
   "cell_type": "code",
   "execution_count": 13,
   "outputs": [
    {
     "name": "stdout",
     "output_type": "stream",
     "text": [
      "['Ahmed', 'Saba', 'Ambreen', 'Maheen', ['Rehan', 'Hashir', 'Hania']]\n"
     ]
    }
   ],
   "source": [
    "#extend vs append\n",
    "names :list[str] = ['Ahmed', 'Saba', 'Ambreen', 'Maheen']\n",
    "new_names :list[str] = ['Rehan', 'Hashir', 'Hania']\n",
    "\n",
    "names.append(new_names)\n",
    "print(names)\n"
   ],
   "metadata": {
    "collapsed": false,
    "ExecuteTime": {
     "end_time": "2024-02-21T16:21:49.826852100Z",
     "start_time": "2024-02-21T16:21:49.817126900Z"
    }
   }
  },
  {
   "cell_type": "code",
   "execution_count": 14,
   "outputs": [
    {
     "name": "stdout",
     "output_type": "stream",
     "text": [
      "['Ahmed', 'Saba', 'Ambreen', 'Maheen', 'Rehan', 'Hashir', 'Hania']\n"
     ]
    }
   ],
   "source": [
    "names :list[str] = ['Ahmed', 'Saba', 'Ambreen', 'Maheen']\n",
    "new_names :list[str] = ['Rehan', 'Hashir', 'Hania']\n",
    "\n",
    "names.extend(new_names)\n",
    "print(names)\n"
   ],
   "metadata": {
    "collapsed": false,
    "ExecuteTime": {
     "end_time": "2024-02-21T16:23:03.524241100Z",
     "start_time": "2024-02-21T16:23:03.513711400Z"
    }
   }
  },
  {
   "cell_type": "code",
   "execution_count": 19,
   "outputs": [
    {
     "name": "stdout",
     "output_type": "stream",
     "text": [
      "['Saba', 'Ambreen', 'Maheen', 'Rehan', 'Hashir', 'Hania']\n"
     ]
    }
   ],
   "source": [
    "#remove with text value\n",
    "names: list [str] = ['Ahmed', 'Saba', 'Ambreen', 'Maheen', 'Rehan', 'Hashir', 'Hania']\n",
    "\n",
    "names.remove('Ahmed')\n",
    "\n",
    "print(names)"
   ],
   "metadata": {
    "collapsed": false,
    "ExecuteTime": {
     "end_time": "2024-02-21T16:26:48.677717900Z",
     "start_time": "2024-02-21T16:26:48.626166300Z"
    }
   }
  },
  {
   "cell_type": "code",
   "execution_count": 22,
   "outputs": [
    {
     "data": {
      "text/plain": "0"
     },
     "execution_count": 22,
     "metadata": {},
     "output_type": "execute_result"
    }
   ],
   "source": [
    "#index for finding\n",
    "names: list [str] = ['Ahmed', 'Saba', 'Ambreen', 'Maheen', 'Rehan', 'Hashir', 'Hania', 'Ahmed']\n",
    "\n",
    "names.index('Ahmed')\n",
    "\n",
    "#print(names)"
   ],
   "metadata": {
    "collapsed": false,
    "ExecuteTime": {
     "end_time": "2024-02-21T16:27:47.253355300Z",
     "start_time": "2024-02-21T16:27:47.242480800Z"
    }
   }
  },
  {
   "cell_type": "code",
   "execution_count": 24,
   "outputs": [
    {
     "data": {
      "text/plain": "7"
     },
     "execution_count": 24,
     "metadata": {},
     "output_type": "execute_result"
    }
   ],
   "source": [
    "#index for finding with choice of index after\n",
    "names: list [str] = ['Ahmed', 'Saba', 'Ambreen', 'Maheen', 'Rehan', 'Hashir', 'Hania', 'Ahmed']\n",
    "\n",
    "names.index('Ahmed', 1)"
   ],
   "metadata": {
    "collapsed": false,
    "ExecuteTime": {
     "end_time": "2024-02-21T16:34:37.189851900Z",
     "start_time": "2024-02-21T16:34:37.148851100Z"
    }
   }
  },
  {
   "cell_type": "code",
   "execution_count": 26,
   "outputs": [
    {
     "name": "stdout",
     "output_type": "stream",
     "text": [
      "['Ahmed', 'Saba', 'Ambreen', 'Maheen', 'Rehan', 'Hashir', 'Hania', 'Ahmed']\n",
      "['Ahmed', 'Hania', 'Hashir', 'Rehan', 'Maheen', 'Ambreen', 'Saba', 'Ahmed']\n"
     ]
    }
   ],
   "source": [
    "#reverse\n",
    "names: list [str] = ['Ahmed', 'Saba', 'Ambreen', 'Maheen', 'Rehan', 'Hashir', 'Hania', 'Ahmed']\n",
    "\n",
    "print(names)\n",
    "names.reverse()\n",
    "print(names)\n"
   ],
   "metadata": {
    "collapsed": false,
    "ExecuteTime": {
     "end_time": "2024-02-21T16:35:14.761588600Z",
     "start_time": "2024-02-21T16:35:14.750592800Z"
    }
   }
  },
  {
   "cell_type": "code",
   "execution_count": 28,
   "outputs": [
    {
     "name": "stdout",
     "output_type": "stream",
     "text": [
      "['Ahmed', 'Saba', 'Ambreen', 'Maheen', 'Rehan', 'Hashir', 'Hania', 'Ahmed']\n",
      "['Ahmed', 'Ahmed', 'Ambreen', 'Hania', 'Hashir', 'Maheen', 'Rehan', 'Saba']\n"
     ]
    }
   ],
   "source": [
    "#sort\n",
    "names: list [str] = ['Ahmed', 'Saba', 'Ambreen', 'Maheen', 'Rehan', 'Hashir', 'Hania', 'Ahmed']\n",
    "\n",
    "print(names)\n",
    "names.sort() #in-memory sorting\n",
    "print(names)"
   ],
   "metadata": {
    "collapsed": false,
    "ExecuteTime": {
     "end_time": "2024-02-21T16:38:00.804441200Z",
     "start_time": "2024-02-21T16:38:00.767440300Z"
    }
   }
  },
  {
   "cell_type": "code",
   "execution_count": 1,
   "outputs": [
    {
     "name": "stdout",
     "output_type": "stream",
     "text": [
      "['Ahmed', 'Saba', 'Ambreen', 'Maheen', 'Rehan', 'Hashir', 'Hania', 'Ahmed']\n",
      "['Saba', 'Rehan', 'Maheen', 'Hashir', 'Hania', 'Ambreen', 'Ahmed', 'Ahmed']\n"
     ]
    }
   ],
   "source": [
    "#sort reversed\n",
    "names: list [str] = ['Ahmed', 'Saba', 'Ambreen', 'Maheen', 'Rehan', 'Hashir', 'Hania', 'Ahmed']\n",
    "\n",
    "print(names)\n",
    "names.sort(reverse=True) #in-memory sorting\n",
    "print(names)"
   ],
   "metadata": {
    "collapsed": false,
    "ExecuteTime": {
     "end_time": "2024-02-22T04:53:41.629649400Z",
     "start_time": "2024-02-22T04:53:41.618307700Z"
    }
   }
  }
 ],
 "metadata": {
  "kernelspec": {
   "display_name": "Python 3",
   "language": "python",
   "name": "python3"
  },
  "language_info": {
   "codemirror_mode": {
    "name": "ipython",
    "version": 2
   },
   "file_extension": ".py",
   "mimetype": "text/x-python",
   "name": "python",
   "nbconvert_exporter": "python",
   "pygments_lexer": "ipython2",
   "version": "2.7.6"
  }
 },
 "nbformat": 4,
 "nbformat_minor": 0
}
