{
 "cells": [
  {
   "cell_type": "markdown",
   "source": [
    "#Python Operators\n",
    "* Arithmatic\n",
    "* Assignment\n",
    "* Comparision\n",
    "* Logical\n",
    "* identity\n",
    "* Membership\n",
    "* Bitwise"
   ],
   "metadata": {
    "collapsed": false
   }
  },
  {
   "cell_type": "code",
   "execution_count": 10,
   "metadata": {
    "collapsed": true,
    "ExecuteTime": {
     "end_time": "2024-02-03T16:13:42.391706Z",
     "start_time": "2024-02-03T16:13:42.094547500Z"
    }
   },
   "outputs": [
    {
     "data": {
      "text/plain": "  Operator            Name Example    Try it\n0        +        Addition   x + y  Try it »\n1        -     Subtraction   x - y  Try it »\n2        *  Multiplication   x * y  Try it »\n3        /        Division   x / y  Try it »\n4        %         Modulus   x % y  Try it »\n5       **  Exponentiation  x ** y  Try it »\n6       //  Floor division  x // y  Try it »",
      "text/html": "<div>\n<style scoped>\n    .dataframe tbody tr th:only-of-type {\n        vertical-align: middle;\n    }\n\n    .dataframe tbody tr th {\n        vertical-align: top;\n    }\n\n    .dataframe thead th {\n        text-align: right;\n    }\n</style>\n<table border=\"1\" class=\"dataframe\">\n  <thead>\n    <tr style=\"text-align: right;\">\n      <th></th>\n      <th>Operator</th>\n      <th>Name</th>\n      <th>Example</th>\n      <th>Try it</th>\n    </tr>\n  </thead>\n  <tbody>\n    <tr>\n      <th>0</th>\n      <td>+</td>\n      <td>Addition</td>\n      <td>x + y</td>\n      <td>Try it »</td>\n    </tr>\n    <tr>\n      <th>1</th>\n      <td>-</td>\n      <td>Subtraction</td>\n      <td>x - y</td>\n      <td>Try it »</td>\n    </tr>\n    <tr>\n      <th>2</th>\n      <td>*</td>\n      <td>Multiplication</td>\n      <td>x * y</td>\n      <td>Try it »</td>\n    </tr>\n    <tr>\n      <th>3</th>\n      <td>/</td>\n      <td>Division</td>\n      <td>x / y</td>\n      <td>Try it »</td>\n    </tr>\n    <tr>\n      <th>4</th>\n      <td>%</td>\n      <td>Modulus</td>\n      <td>x % y</td>\n      <td>Try it »</td>\n    </tr>\n    <tr>\n      <th>5</th>\n      <td>**</td>\n      <td>Exponentiation</td>\n      <td>x ** y</td>\n      <td>Try it »</td>\n    </tr>\n    <tr>\n      <th>6</th>\n      <td>//</td>\n      <td>Floor division</td>\n      <td>x // y</td>\n      <td>Try it »</td>\n    </tr>\n  </tbody>\n</table>\n</div>"
     },
     "execution_count": 10,
     "metadata": {},
     "output_type": "execute_result"
    }
   ],
   "source": [
    "#import pandas as pd\n",
    "\n",
    "table = pd.read_html('https://www.w3schools.com/python/python_operators.asp')\n",
    "table[0]"
   ]
  }
 ],
 "metadata": {
  "kernelspec": {
   "display_name": "Python 3",
   "language": "python",
   "name": "python3"
  },
  "language_info": {
   "codemirror_mode": {
    "name": "ipython",
    "version": 2
   },
   "file_extension": ".py",
   "mimetype": "text/x-python",
   "name": "python",
   "nbconvert_exporter": "python",
   "pygments_lexer": "ipython2",
   "version": "2.7.6"
  }
 },
 "nbformat": 4,
 "nbformat_minor": 0
}
