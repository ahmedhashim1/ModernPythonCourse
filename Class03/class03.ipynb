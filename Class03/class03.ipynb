{
 "cells": [
  {
   "cell_type": "markdown",
   "source": [
    "# Python Operators\n",
    "* Arithmatic\n",
    "* Assignment\n",
    "* Comparision\n",
    "* Logical\n",
    "* identity\n",
    "* Membership\n",
    "* Bitwise"
   ],
   "metadata": {
    "collapsed": false
   }
  },
  {
   "cell_type": "code",
   "execution_count": 3,
   "metadata": {
    "collapsed": true,
    "ExecuteTime": {
     "end_time": "2024-02-11T08:32:23.156006900Z",
     "start_time": "2024-02-11T08:32:22.877293300Z"
    }
   },
   "outputs": [
    {
     "data": {
      "text/plain": "  Operator            Name Example    Try it\n0        +        Addition   x + y  Try it »\n1        -     Subtraction   x - y  Try it »\n2        *  Multiplication   x * y  Try it »\n3        /        Division   x / y  Try it »\n4        %         Modulus   x % y  Try it »\n5       **  Exponentiation  x ** y  Try it »\n6       //  Floor division  x // y  Try it »",
      "text/html": "<div>\n<style scoped>\n    .dataframe tbody tr th:only-of-type {\n        vertical-align: middle;\n    }\n\n    .dataframe tbody tr th {\n        vertical-align: top;\n    }\n\n    .dataframe thead th {\n        text-align: right;\n    }\n</style>\n<table border=\"1\" class=\"dataframe\">\n  <thead>\n    <tr style=\"text-align: right;\">\n      <th></th>\n      <th>Operator</th>\n      <th>Name</th>\n      <th>Example</th>\n      <th>Try it</th>\n    </tr>\n  </thead>\n  <tbody>\n    <tr>\n      <th>0</th>\n      <td>+</td>\n      <td>Addition</td>\n      <td>x + y</td>\n      <td>Try it »</td>\n    </tr>\n    <tr>\n      <th>1</th>\n      <td>-</td>\n      <td>Subtraction</td>\n      <td>x - y</td>\n      <td>Try it »</td>\n    </tr>\n    <tr>\n      <th>2</th>\n      <td>*</td>\n      <td>Multiplication</td>\n      <td>x * y</td>\n      <td>Try it »</td>\n    </tr>\n    <tr>\n      <th>3</th>\n      <td>/</td>\n      <td>Division</td>\n      <td>x / y</td>\n      <td>Try it »</td>\n    </tr>\n    <tr>\n      <th>4</th>\n      <td>%</td>\n      <td>Modulus</td>\n      <td>x % y</td>\n      <td>Try it »</td>\n    </tr>\n    <tr>\n      <th>5</th>\n      <td>**</td>\n      <td>Exponentiation</td>\n      <td>x ** y</td>\n      <td>Try it »</td>\n    </tr>\n    <tr>\n      <th>6</th>\n      <td>//</td>\n      <td>Floor division</td>\n      <td>x // y</td>\n      <td>Try it »</td>\n    </tr>\n  </tbody>\n</table>\n</div>"
     },
     "execution_count": 3,
     "metadata": {},
     "output_type": "execute_result"
    }
   ],
   "source": [
    "import pandas as pd\n",
    "\n",
    "table = pd.read_html('https://www.w3schools.com/python/python_operators.asp')\n",
    "table[0]"
   ]
  },
  {
   "cell_type": "code",
   "execution_count": 7,
   "outputs": [
    {
     "name": "stdout",
     "output_type": "stream",
     "text": [
      "4\n",
      "16\n"
     ]
    }
   ],
   "source": [
    "print(2**2)\n",
    "print(2**4)"
   ],
   "metadata": {
    "collapsed": false,
    "ExecuteTime": {
     "end_time": "2024-02-11T08:37:10.209532900Z",
     "start_time": "2024-02-11T08:37:10.150524900Z"
    }
   }
  },
  {
   "cell_type": "code",
   "execution_count": 9,
   "outputs": [
    {
     "name": "stdout",
     "output_type": "stream",
     "text": [
      "4.666666666666667\n",
      "4\n"
     ]
    }
   ],
   "source": [
    "print(14 / 3)    #simple division\n",
    "print(14 // 3)   #floor division"
   ],
   "metadata": {
    "collapsed": false,
    "ExecuteTime": {
     "end_time": "2024-02-11T08:37:24.093813700Z",
     "start_time": "2024-02-11T08:37:24.041797200Z"
    }
   }
  },
  {
   "cell_type": "markdown",
   "source": [
    "# **Python Assignment Operators**"
   ],
   "metadata": {
    "collapsed": false
   }
  },
  {
   "cell_type": "code",
   "execution_count": 11,
   "outputs": [
    {
     "data": {
      "text/plain": "   Operator  Example     Same As    Try it\n0         =    x = 5       x = 5  Try it »\n1        +=   x += 3   x = x + 3  Try it »\n2        -=   x -= 3   x = x - 3  Try it »\n3        *=   x *= 3   x = x * 3  Try it »\n4        /=   x /= 3   x = x / 3  Try it »\n5        %=   x %= 3   x = x % 3  Try it »\n6       //=  x //= 3  x = x // 3  Try it »\n7       **=  x **= 3  x = x ** 3  Try it »\n8        &=   x &= 3   x = x & 3  Try it »\n9        |=   x |= 3   x = x | 3  Try it »\n10       ^=   x ^= 3   x = x ^ 3  Try it »\n11      >>=  x >>= 3  x = x >> 3  Try it »\n12      <<=  x <<= 3  x = x << 3  Try it »",
      "text/html": "<div>\n<style scoped>\n    .dataframe tbody tr th:only-of-type {\n        vertical-align: middle;\n    }\n\n    .dataframe tbody tr th {\n        vertical-align: top;\n    }\n\n    .dataframe thead th {\n        text-align: right;\n    }\n</style>\n<table border=\"1\" class=\"dataframe\">\n  <thead>\n    <tr style=\"text-align: right;\">\n      <th></th>\n      <th>Operator</th>\n      <th>Example</th>\n      <th>Same As</th>\n      <th>Try it</th>\n    </tr>\n  </thead>\n  <tbody>\n    <tr>\n      <th>0</th>\n      <td>=</td>\n      <td>x = 5</td>\n      <td>x = 5</td>\n      <td>Try it »</td>\n    </tr>\n    <tr>\n      <th>1</th>\n      <td>+=</td>\n      <td>x += 3</td>\n      <td>x = x + 3</td>\n      <td>Try it »</td>\n    </tr>\n    <tr>\n      <th>2</th>\n      <td>-=</td>\n      <td>x -= 3</td>\n      <td>x = x - 3</td>\n      <td>Try it »</td>\n    </tr>\n    <tr>\n      <th>3</th>\n      <td>*=</td>\n      <td>x *= 3</td>\n      <td>x = x * 3</td>\n      <td>Try it »</td>\n    </tr>\n    <tr>\n      <th>4</th>\n      <td>/=</td>\n      <td>x /= 3</td>\n      <td>x = x / 3</td>\n      <td>Try it »</td>\n    </tr>\n    <tr>\n      <th>5</th>\n      <td>%=</td>\n      <td>x %= 3</td>\n      <td>x = x % 3</td>\n      <td>Try it »</td>\n    </tr>\n    <tr>\n      <th>6</th>\n      <td>//=</td>\n      <td>x //= 3</td>\n      <td>x = x // 3</td>\n      <td>Try it »</td>\n    </tr>\n    <tr>\n      <th>7</th>\n      <td>**=</td>\n      <td>x **= 3</td>\n      <td>x = x ** 3</td>\n      <td>Try it »</td>\n    </tr>\n    <tr>\n      <th>8</th>\n      <td>&amp;=</td>\n      <td>x &amp;= 3</td>\n      <td>x = x &amp; 3</td>\n      <td>Try it »</td>\n    </tr>\n    <tr>\n      <th>9</th>\n      <td>|=</td>\n      <td>x |= 3</td>\n      <td>x = x | 3</td>\n      <td>Try it »</td>\n    </tr>\n    <tr>\n      <th>10</th>\n      <td>^=</td>\n      <td>x ^= 3</td>\n      <td>x = x ^ 3</td>\n      <td>Try it »</td>\n    </tr>\n    <tr>\n      <th>11</th>\n      <td>&gt;&gt;=</td>\n      <td>x &gt;&gt;= 3</td>\n      <td>x = x &gt;&gt; 3</td>\n      <td>Try it »</td>\n    </tr>\n    <tr>\n      <th>12</th>\n      <td>&lt;&lt;=</td>\n      <td>x &lt;&lt;= 3</td>\n      <td>x = x &lt;&lt; 3</td>\n      <td>Try it »</td>\n    </tr>\n  </tbody>\n</table>\n</div>"
     },
     "execution_count": 11,
     "metadata": {},
     "output_type": "execute_result"
    }
   ],
   "source": [
    "table = pd.read_html('https://www.w3schools.com/python/python_operators.asp')\n",
    "table[1]"
   ],
   "metadata": {
    "collapsed": false,
    "ExecuteTime": {
     "end_time": "2024-02-11T08:39:41.783111900Z",
     "start_time": "2024-02-11T08:39:40.744761700Z"
    }
   }
  },
  {
   "cell_type": "code",
   "execution_count": 13,
   "outputs": [
    {
     "name": "stdout",
     "output_type": "stream",
     "text": [
      "7\n",
      "9\n"
     ]
    }
   ],
   "source": [
    "a : int = 7\n",
    "print(a)\n",
    "a += 2\n",
    "print(a)"
   ],
   "metadata": {
    "collapsed": false,
    "ExecuteTime": {
     "end_time": "2024-02-11T08:46:07.768539Z",
     "start_time": "2024-02-11T08:46:07.744487900Z"
    }
   }
  },
  {
   "cell_type": "code",
   "execution_count": 19,
   "outputs": [
    {
     "name": "stdout",
     "output_type": "stream",
     "text": [
      "\u0000\n",
      "\u0001\n",
      "\u0002\n",
      "\u0003\n",
      "\u0004\n",
      "\u0005\n",
      "\u0006\n",
      "\u0007\n",
      "\n",
      "\t\n",
      "\n",
      "\n",
      "\u000B\n",
      "\f\n",
      "\r\n",
      "\u000E\n",
      "\u000F\n",
      "\u0010\n",
      "\u0011\n",
      "\u0012\n",
      "\u0013\n",
      "\u0014\n",
      "\u0015\n",
      "\u0016\n",
      "\u0017\n",
      "\u0018\n",
      "\u0019\n",
      "\u001A\n",
      "\u001B\n",
      "\u001C\n",
      "\u001D\n",
      "\u001E\n",
      "\u001F\n",
      " \n",
      "!\n",
      "\"\n",
      "#\n",
      "$\n",
      "%\n",
      "&\n",
      "'\n",
      "(\n",
      ")\n",
      "*\n",
      "+\n",
      ",\n",
      "-\n",
      ".\n",
      "/\n",
      "0\n",
      "1\n",
      "2\n",
      "3\n",
      "4\n",
      "5\n",
      "6\n",
      "7\n",
      "8\n",
      "9\n",
      ":\n",
      ";\n",
      "<\n",
      "=\n",
      ">\n",
      "?\n",
      "@\n",
      "A\n",
      "B\n",
      "C\n",
      "D\n",
      "E\n",
      "F\n",
      "G\n",
      "H\n",
      "I\n",
      "J\n",
      "K\n",
      "L\n",
      "M\n",
      "N\n",
      "O\n",
      "P\n",
      "Q\n",
      "R\n",
      "S\n",
      "T\n",
      "U\n",
      "V\n",
      "W\n",
      "X\n",
      "Y\n",
      "Z\n"
     ]
    }
   ],
   "source": [
    "for i in range(0,91):\n",
    "    print(chr(i))\n"
   ],
   "metadata": {
    "collapsed": false,
    "ExecuteTime": {
     "end_time": "2024-02-11T08:56:38.055905Z",
     "start_time": "2024-02-11T08:56:38.027898800Z"
    }
   }
  },
  {
   "cell_type": "code",
   "execution_count": 21,
   "outputs": [
    {
     "data": {
      "text/plain": "97"
     },
     "execution_count": 21,
     "metadata": {},
     "output_type": "execute_result"
    }
   ],
   "source": [
    "ord('a')"
   ],
   "metadata": {
    "collapsed": false,
    "ExecuteTime": {
     "end_time": "2024-02-11T08:57:01.474956900Z",
     "start_time": "2024-02-11T08:57:01.416018600Z"
    }
   }
  },
  {
   "cell_type": "markdown",
   "source": [
    "# Python Logical Operators\n",
    "AND OR NOT"
   ],
   "metadata": {
    "collapsed": false
   }
  },
  {
   "cell_type": "code",
   "execution_count": null,
   "outputs": [],
   "source": [],
   "metadata": {
    "collapsed": false
   }
  },
  {
   "cell_type": "code",
   "execution_count": 25,
   "outputs": [
    {
     "name": "stdout",
     "output_type": "stream",
     "text": [
      "True\n",
      "True\n",
      "False\n",
      "True\n"
     ]
    }
   ],
   "source": [
    "#and\n",
    "x = 10\n",
    "print(x > 5 and x < 15)\n",
    "\n",
    "#This returns True because 10 is greater than 5 AND 10 is less than 15.\n",
    "\n",
    "\n",
    "#or\n",
    "x = 10\n",
    "print(x > 5 or x < 2)\n",
    "\n",
    "#This returns True because one of the conditions are true.\n",
    "#10 is greater than 5, but 10 is not less than 2.\n",
    "\n",
    "\n",
    "#not\n",
    "x = 10\n",
    "print(not(x > 5 and x < 15))\n",
    "#This returns False because not reverses the result of and.\n",
    "name : str = \"Ahmed\"\n",
    "print(name != \"Ahmed Hashim\")"
   ],
   "metadata": {
    "collapsed": false,
    "ExecuteTime": {
     "end_time": "2024-02-11T09:25:20.292747400Z",
     "start_time": "2024-02-11T09:25:20.281254700Z"
    }
   }
  },
  {
   "cell_type": "markdown",
   "source": [
    "# Python Identity Operators\n",
    "is\n",
    "is not"
   ],
   "metadata": {
    "collapsed": false
   }
  },
  {
   "cell_type": "code",
   "execution_count": 29,
   "outputs": [
    {
     "name": "stdout",
     "output_type": "stream",
     "text": [
      "140732998985776\n",
      "140732998985776\n"
     ]
    }
   ],
   "source": [
    "x : str = 'abc'\n",
    "y : str ='abc'\n",
    "\n",
    "print(id(x))\n",
    "print(id(y))\n"
   ],
   "metadata": {
    "collapsed": false,
    "ExecuteTime": {
     "end_time": "2024-02-11T09:26:17.491597900Z",
     "start_time": "2024-02-11T09:26:17.458600700Z"
    }
   }
  },
  {
   "cell_type": "code",
   "execution_count": 30,
   "outputs": [
    {
     "data": {
      "text/plain": "True"
     },
     "execution_count": 30,
     "metadata": {},
     "output_type": "execute_result"
    }
   ],
   "source": [
    "x is y"
   ],
   "metadata": {
    "collapsed": false,
    "ExecuteTime": {
     "end_time": "2024-02-11T09:26:24.098264300Z",
     "start_time": "2024-02-11T09:26:24.056326300Z"
    }
   }
  },
  {
   "cell_type": "markdown",
   "source": [
    "# Python Membership Operators\n",
    "in\n",
    "not in"
   ],
   "metadata": {
    "collapsed": false
   }
  },
  {
   "cell_type": "code",
   "execution_count": 31,
   "outputs": [
    {
     "data": {
      "text/plain": "  Operator                                        Description     Example  \\\n0       in  Returns True if a sequence with the specified ...      x in y   \n1   not in  Returns True if a sequence with the specified ...  x not in y   \n\n     Try it  \n0  Try it »  \n1  Try it »  ",
      "text/html": "<div>\n<style scoped>\n    .dataframe tbody tr th:only-of-type {\n        vertical-align: middle;\n    }\n\n    .dataframe tbody tr th {\n        vertical-align: top;\n    }\n\n    .dataframe thead th {\n        text-align: right;\n    }\n</style>\n<table border=\"1\" class=\"dataframe\">\n  <thead>\n    <tr style=\"text-align: right;\">\n      <th></th>\n      <th>Operator</th>\n      <th>Description</th>\n      <th>Example</th>\n      <th>Try it</th>\n    </tr>\n  </thead>\n  <tbody>\n    <tr>\n      <th>0</th>\n      <td>in</td>\n      <td>Returns True if a sequence with the specified ...</td>\n      <td>x in y</td>\n      <td>Try it »</td>\n    </tr>\n    <tr>\n      <th>1</th>\n      <td>not in</td>\n      <td>Returns True if a sequence with the specified ...</td>\n      <td>x not in y</td>\n      <td>Try it »</td>\n    </tr>\n  </tbody>\n</table>\n</div>"
     },
     "execution_count": 31,
     "metadata": {},
     "output_type": "execute_result"
    }
   ],
   "source": [
    "table[5]"
   ],
   "metadata": {
    "collapsed": false,
    "ExecuteTime": {
     "end_time": "2024-02-11T09:30:05.950657200Z",
     "start_time": "2024-02-11T09:30:05.940658100Z"
    }
   }
  },
  {
   "cell_type": "code",
   "execution_count": 33,
   "outputs": [
    {
     "name": "stdout",
     "output_type": "stream",
     "text": [
      "0 A\n",
      "1 B\n",
      "2 C\n",
      "3 D\n",
      "4 E\n",
      "5 F\n",
      "6 G\n",
      "7 H\n",
      "8 I\n",
      "9 J\n",
      "10 K\n",
      "11 L\n",
      "12 M\n",
      "13 N\n",
      "14 O\n",
      "15 P\n",
      "16 Q\n",
      "17 R\n",
      "18 S\n",
      "19 T\n",
      "20 U\n",
      "21 V\n",
      "22 W\n",
      "23 X\n",
      "24 Y\n",
      "25 Z\n"
     ]
    }
   ],
   "source": [
    "names : list[str] = [chr(i) for i in range(65,91)]\n",
    "#names\n",
    "for i in range(len(names)):\n",
    "    print(i, names[i])"
   ],
   "metadata": {
    "collapsed": false,
    "ExecuteTime": {
     "end_time": "2024-02-11T09:34:34.059395700Z",
     "start_time": "2024-02-11T09:34:34.046984800Z"
    }
   }
  }
 ],
 "metadata": {
  "kernelspec": {
   "display_name": "Python 3",
   "language": "python",
   "name": "python3"
  },
  "language_info": {
   "codemirror_mode": {
    "name": "ipython",
    "version": 2
   },
   "file_extension": ".py",
   "mimetype": "text/x-python",
   "name": "python",
   "nbconvert_exporter": "python",
   "pygments_lexer": "ipython2",
   "version": "2.7.6"
  }
 },
 "nbformat": 4,
 "nbformat_minor": 0
}
