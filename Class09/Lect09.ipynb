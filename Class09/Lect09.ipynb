{
 "cells": [
  {
   "cell_type": "markdown",
   "source": [
    "# Loop and Input from user\n",
    "* While loop\n",
    "* for\n",
    "* Controls\n",
    "  * break\n",
    "  * continue\n",
    "  * pass\n",
    "* input with input function\n",
    "* input from console"
   ],
   "metadata": {
    "collapsed": false
   }
  },
  {
   "cell_type": "markdown",
   "source": [
    "# Loop performed on iterative data types\n",
    "* List\n",
    "* dictionary\n",
    "* tuple\n",
    "* string"
   ],
   "metadata": {
    "collapsed": false
   }
  },
  {
   "cell_type": "code",
   "execution_count": 1,
   "metadata": {
    "collapsed": true,
    "ExecuteTime": {
     "end_time": "2024-03-05T08:09:09.789656300Z",
     "start_time": "2024-03-05T08:09:09.729774800Z"
    }
   },
   "outputs": [
    {
     "data": {
      "text/plain": "[1, 2, 3, 4, 5, 6]"
     },
     "execution_count": 1,
     "metadata": {},
     "output_type": "execute_result"
    }
   ],
   "source": [
    "l1: list[int] = [1, 2, 3, 4, 5, 6]\n",
    "l1\n"
   ]
  },
  {
   "cell_type": "code",
   "execution_count": 2,
   "outputs": [
    {
     "name": "stdout",
     "output_type": "stream",
     "text": [
      "1\n",
      "2\n",
      "3\n",
      "4\n",
      "5\n",
      "6\n"
     ]
    }
   ],
   "source": [
    "l1: list[int] = [1, 2, 3, 4, 5, 6]\n",
    "\n",
    "for n in l1:\n",
    "    print(n)"
   ],
   "metadata": {
    "collapsed": false,
    "ExecuteTime": {
     "end_time": "2024-03-05T08:09:32.320669200Z",
     "start_time": "2024-03-05T08:09:32.309212700Z"
    }
   }
  },
  {
   "cell_type": "code",
   "execution_count": 5,
   "outputs": [
    {
     "name": "stdout",
     "output_type": "stream",
     "text": [
      "current iteration: 1\n",
      "current iteration: 2\n",
      "current iteration: 3\n",
      "current iteration: 4\n",
      "current iteration: 5\n",
      "current iteration: 6\n"
     ]
    }
   ],
   "source": [
    "#iteration on tuple\n",
    "t1: tuple[int] = (1, 2, 3, 4, 5, 6)\n",
    "\n",
    "for n in t1:\n",
    "    print(f'current iteration: {n}')"
   ],
   "metadata": {
    "collapsed": false,
    "ExecuteTime": {
     "end_time": "2024-03-05T08:13:27.881476100Z",
     "start_time": "2024-03-05T08:13:27.881476100Z"
    }
   }
  },
  {
   "cell_type": "code",
   "execution_count": 6,
   "outputs": [
    {
     "name": "stdout",
     "output_type": "stream",
     "text": [
      "current iteration: P\n",
      "current iteration: a\n",
      "current iteration: k\n",
      "current iteration: i\n",
      "current iteration: s\n",
      "current iteration: t\n",
      "current iteration: a\n",
      "current iteration: n\n"
     ]
    }
   ],
   "source": [
    "#iteration on string\n",
    "s1: str = \"Pakistan\"\n",
    "\n",
    "for n in s1:\n",
    "    print(f'current iteration: {n}')"
   ],
   "metadata": {
    "collapsed": false,
    "ExecuteTime": {
     "end_time": "2024-03-05T08:14:38.417756600Z",
     "start_time": "2024-03-05T08:14:38.417756600Z"
    }
   }
  },
  {
   "cell_type": "code",
   "execution_count": 2,
   "outputs": [
    {
     "name": "stdout",
     "output_type": "stream",
     "text": [
      "name Ahmed\n",
      "edu MBA\n"
     ]
    }
   ],
   "source": [
    "d1: dict[str, str] = {'name': \"Ahmed\",\n",
    "                      'edu': 'MBA'\n",
    "\n",
    "                      }\n",
    "\n",
    "for k in d1:\n",
    "    print(k, d1[k])"
   ],
   "metadata": {
    "collapsed": false,
    "ExecuteTime": {
     "end_time": "2024-03-05T13:28:07.123115Z",
     "start_time": "2024-03-05T13:28:07.071771300Z"
    }
   }
  },
  {
   "cell_type": "code",
   "execution_count": 3,
   "outputs": [
    {
     "name": "stdout",
     "output_type": "stream",
     "text": [
      "1\n",
      "2\n",
      "3\n",
      "4\n"
     ]
    }
   ],
   "source": [
    "#set is not iterable type, to interate through sets, we need to type-cast it to list\n",
    "s1: list[set[int]] = {1, 2, 3, 4, 1, 2, 3, 4}\n",
    "\n",
    "for s in s1:\n",
    "    print(s)\n",
    "\n",
    "\n",
    "\n"
   ],
   "metadata": {
    "collapsed": false,
    "ExecuteTime": {
     "end_time": "2024-03-05T13:32:00.369334500Z",
     "start_time": "2024-03-05T13:32:00.338090900Z"
    }
   }
  },
  {
   "cell_type": "markdown",
   "source": [
    "# Input from user\n",
    "* using input function\n",
    "    * default type will be string\n",
    "* using sys.argv for conosle input of python program\n",
    "    * default type will be object"
   ],
   "metadata": {
    "collapsed": false
   }
  },
  {
   "cell_type": "markdown",
   "source": [
    "# While Loop\n"
   ],
   "metadata": {
    "collapsed": false
   }
  },
  {
   "cell_type": "code",
   "execution_count": 5,
   "outputs": [
    {
     "name": "stdout",
     "output_type": "stream",
     "text": [
      "curren number is 0\n",
      "curren number is 1\n",
      "curren number is 2\n",
      "curren number is 3\n",
      "curren number is 4\n",
      "curren number is 5\n",
      "curren number is 6\n",
      "curren number is 7\n",
      "curren number is 8\n",
      "curren number is 9\n"
     ]
    }
   ],
   "source": [
    "flag: bool = True\n",
    "\n",
    "current_num = 0\n",
    "\n",
    "while flag:\n",
    "    print(f'curren number is {current_num}')\n",
    "    current_num += 1\n",
    "\n",
    "    if current_num == 10:\n",
    "        break\n"
   ],
   "metadata": {
    "collapsed": false,
    "ExecuteTime": {
     "end_time": "2024-03-05T14:12:46.450753100Z",
     "start_time": "2024-03-05T14:12:46.435112100Z"
    }
   }
  },
  {
   "cell_type": "code",
   "execution_count": 7,
   "outputs": [
    {
     "name": "stdout",
     "output_type": "stream",
     "text": [
      "current index is 0 and list value is 100\n",
      "current index is 1 and list value is 200\n",
      "current index is 2 and list value is 300\n",
      "current index is 3 and list value is 400\n"
     ]
    }
   ],
   "source": [
    "l1: list[int] = [100, 200, 300, 400]\n",
    "\n",
    "index: int = 0\n",
    "\n",
    "while index < len(l1):\n",
    "    print(f'current index is {index} and list value is {l1[index]}')\n",
    "    index += 1\n",
    "\n"
   ],
   "metadata": {
    "collapsed": false,
    "ExecuteTime": {
     "end_time": "2024-03-05T14:19:16.489206400Z",
     "start_time": "2024-03-05T14:19:16.473564400Z"
    }
   }
  },
  {
   "cell_type": "code",
   "execution_count": 9,
   "outputs": [
    {
     "name": "stdout",
     "output_type": "stream",
     "text": [
      "Enter quit/exit/stop to close this program\n"
     ]
    },
    {
     "data": {
      "text/plain": "[{'name': 'Ahmed', 'edu': 'MBA'}]"
     },
     "metadata": {},
     "output_type": "display_data"
    },
    {
     "name": "stdout",
     "output_type": "stream",
     "text": [
      "Enter quit/exit/stop to close this program\n"
     ]
    },
    {
     "data": {
      "text/plain": "[{'name': 'Ahmed', 'edu': 'MBA'}, {'name': 'Maheen', 'edu': 'PHD'}]"
     },
     "metadata": {},
     "output_type": "display_data"
    },
    {
     "name": "stdout",
     "output_type": "stream",
     "text": [
      "Enter quit/exit/stop to close this program\n"
     ]
    },
    {
     "data": {
      "text/plain": "[{'name': 'Ahmed', 'edu': 'MBA'},\n {'name': 'Maheen', 'edu': 'PHD'},\n {'name': 'Saba', 'edu': 'MSc'}]"
     },
     "metadata": {},
     "output_type": "display_data"
    },
    {
     "name": "stdout",
     "output_type": "stream",
     "text": [
      "Enter quit/exit/stop to close this program\n"
     ]
    }
   ],
   "source": [
    "data: list[dict[str, str]] = []\n",
    "quit_prog: list = ['exit', 'quit', 'stop', 'close']\n",
    "flag: bool = True\n",
    "\n",
    "while flag:\n",
    "    print(\"Enter quit/exit/stop to close this program\")\n",
    "    name: str = input(\"Enter Name: \")\n",
    "    edu: str = input(\"Enter Education: \")\n",
    "\n",
    "    if name.lower() in quit_prog or edu.lower() in quit_prog:\n",
    "        flag = False\n",
    "        break\n",
    "    data.append({\"name\": name, \"edu\": edu})\n",
    "    display(data)"
   ],
   "metadata": {
    "collapsed": false,
    "ExecuteTime": {
     "end_time": "2024-03-05T14:29:32.714300200Z",
     "start_time": "2024-03-05T14:29:17.204735800Z"
    }
   }
  },
  {
   "cell_type": "code",
   "execution_count": 10,
   "outputs": [
    {
     "data": {
      "text/plain": "[6, 18]"
     },
     "execution_count": 10,
     "metadata": {},
     "output_type": "execute_result"
    }
   ],
   "source": [
    "data: list[int] = [1, 3, 5, 6, 3, 15, 18]\n",
    "#extract even numbers\n",
    "\n",
    "[i for i in data if i % 2 == 0]"
   ],
   "metadata": {
    "collapsed": false,
    "ExecuteTime": {
     "end_time": "2024-03-05T14:49:01.009114400Z",
     "start_time": "2024-03-05T14:49:00.972867500Z"
    }
   }
  },
  {
   "cell_type": "code",
   "execution_count": 11,
   "outputs": [
    {
     "data": {
      "text/plain": "[1, 3, 5, 3, 15]"
     },
     "execution_count": 11,
     "metadata": {},
     "output_type": "execute_result"
    }
   ],
   "source": [
    "data: list[int] = [1, 3, 5, 6, 3, 15, 18]\n",
    "#extract even numbers\n",
    "\n",
    "[i for i in data if i % 2 != 0]"
   ],
   "metadata": {
    "collapsed": false,
    "ExecuteTime": {
     "end_time": "2024-03-05T14:49:30.481549Z",
     "start_time": "2024-03-05T14:49:30.465910400Z"
    }
   }
  },
  {
   "cell_type": "code",
   "execution_count": 12,
   "outputs": [
    {
     "name": "stdout",
     "output_type": "stream",
     "text": [
      "Verifying user: Candace\n",
      "Verifying user: Brian\n",
      "Verifying user: Alice\n",
      "\n",
      "The following users have been confirmed:\n",
      "Candace\n",
      "Brian\n",
      "Alice\n"
     ]
    }
   ],
   "source": [
    "unconfirmed_users = ['alice', 'brian', 'candace']\n",
    "confirmed_users = []\n",
    "# Verify each user until there are no more unconfirmed users.\n",
    "# Move each verified user into the list of confirmed users.\n",
    "while unconfirmed_users:\n",
    "    current_user = unconfirmed_users.pop()\n",
    "\n",
    "    print(\"Verifying user: \" + current_user.title())\n",
    "    confirmed_users.append(current_user)\n",
    "\n",
    "# Display all confirmed users.\n",
    "print(\"\\nThe following users have been confirmed:\")\n",
    "for confirmed_user in confirmed_users:\n",
    "    print(confirmed_user.title())"
   ],
   "metadata": {
    "collapsed": false,
    "ExecuteTime": {
     "end_time": "2024-03-05T14:55:34.591749Z",
     "start_time": "2024-03-05T14:55:34.591749Z"
    }
   }
  }
 ],
 "metadata": {
  "kernelspec": {
   "display_name": "Python 3",
   "language": "python",
   "name": "python3"
  },
  "language_info": {
   "codemirror_mode": {
    "name": "ipython",
    "version": 2
   },
   "file_extension": ".py",
   "mimetype": "text/x-python",
   "name": "python",
   "nbconvert_exporter": "python",
   "pygments_lexer": "ipython2",
   "version": "2.7.6"
  }
 },
 "nbformat": 4,
 "nbformat_minor": 0
}
