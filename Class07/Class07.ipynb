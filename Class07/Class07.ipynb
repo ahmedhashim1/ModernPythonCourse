{
 "cells": [
  {
   "cell_type": "markdown",
   "source": [
    "# Dictionary Sets Tulips"
   ],
   "metadata": {
    "collapsed": false
   }
  },
  {
   "cell_type": "code",
   "execution_count": 10,
   "metadata": {
    "collapsed": true,
    "ExecuteTime": {
     "end_time": "2024-03-02T14:14:23.146608700Z",
     "start_time": "2024-03-02T14:14:23.143609Z"
    }
   },
   "outputs": [
    {
     "name": "stdout",
     "output_type": "stream",
     "text": [
      "-  -  -\n",
      "A  M  M\n",
      "h  a  S\n",
      "m  h  -\n",
      "e  e  D\n",
      "d  e  S\n",
      "   n\n",
      "H\n",
      "a  A\n",
      "s  h\n",
      "h  m\n",
      "i  e\n",
      "m  d\n",
      "-  -  -\n"
     ]
    }
   ],
   "source": [
    "from typing import Dict, Union, Optional\n",
    "\n",
    "# from tabulate import tabulate\n",
    "\n",
    "Key = Union[int, str]\n",
    "Value = Union[int, str, list, dict, tuple, set]\n",
    "\n",
    "data: Dict[Key, Value] = {\n",
    "    \"fname\": \"Ahmed Hashim\",\n",
    "    \"name\": \"Maheen Ahmed\",\n",
    "    1: \"MS-DS\"\n",
    "}\n",
    "# print(tabulate(data))"
   ]
  },
  {
   "cell_type": "code",
   "execution_count": null,
   "outputs": [],
   "source": [
    "from typing import Dict, Union, Optional\n",
    "\n",
    "# from tabulate import tabulate\n",
    "\n",
    "Key = Union[int, str]\n",
    "Value = Union[int, str, list, dict, tuple, set]\n",
    "\n",
    "data: Dict[Key, Value] = {\n",
    "    \"fname\": \"Ahmed Hashim\",\n",
    "    \"name\": \"Maheen Ahmed\",\n",
    "    1: \"MS-DS\",\n",
    "    \"abc\": [1, 2, 3],\n",
    "    \"xyz\": (1, 2, 3),\n",
    "    \"efg\": {1, 2, 3},\n",
    "    \"cde\": {\"a\": 1, \"b\": 2}\n",
    "}"
   ],
   "metadata": {
    "collapsed": false
   }
  },
  {
   "cell_type": "code",
   "execution_count": 1,
   "outputs": [
    {
     "name": "stdout",
     "output_type": "stream",
     "text": [
      "{1, 2, 3, 4, 5}\n",
      "[1, 2, 3, 4, 5]\n"
     ]
    }
   ],
   "source": [
    "abc: set = {1, 2, 3, 4, 5, 1, 2, 3, 4}\n",
    "print(abc)\n",
    "\n",
    "xyz: list = list(abc)\n",
    "print(xyz)"
   ],
   "metadata": {
    "collapsed": false,
    "ExecuteTime": {
     "end_time": "2024-03-03T07:04:41.007105300Z",
     "start_time": "2024-03-03T07:04:40.987437800Z"
    }
   }
  },
  {
   "cell_type": "code",
   "execution_count": 2,
   "outputs": [
    {
     "data": {
      "text/plain": "2"
     },
     "execution_count": 2,
     "metadata": {},
     "output_type": "execute_result"
    }
   ],
   "source": [
    "from typing import Dict, Union, Optional\n",
    "\n",
    "# from tabulate import tabulate\n",
    "\n",
    "Key = Union[int, str]\n",
    "Value = Union[int, str, list, dict, tuple, set]\n",
    "\n",
    "data: Dict[Key, Value] = {\n",
    "    \"fname\": \"Ahmed Hashim\",\n",
    "    \"name\": \"Maheen Ahmed\",\n",
    "    1: \"MS-DS\",\n",
    "    \"abc\": [1, 2, 3],\n",
    "    \"xyz\": (1, 2, 3),\n",
    "    \"efg\": {1, 2, 3},\n",
    "    \"cde\": {\"a\": 1, \"b\": 2}\n",
    "}\n",
    "\n",
    "data['cde']['b']"
   ],
   "metadata": {
    "collapsed": false,
    "ExecuteTime": {
     "end_time": "2024-03-03T07:08:07.733613300Z",
     "start_time": "2024-03-03T07:08:07.719613Z"
    }
   }
  },
  {
   "cell_type": "code",
   "execution_count": 3,
   "outputs": [
    {
     "data": {
      "text/plain": "{'name': 'Ahmed Hashim', 'Edu': 'MBA'}"
     },
     "execution_count": 3,
     "metadata": {},
     "output_type": "execute_result"
    }
   ],
   "source": [
    "from typing import Dict, Union, Optional\n",
    "\n",
    "# from tabulate import tabulate\n",
    "\n",
    "Key = Union[int, str]\n",
    "Value = Union[int, str, list, dict, tuple, set]\n",
    "\n",
    "data: dict[Key, Value] = {}  #initialize empty dictionry\n",
    "\n",
    "data['name'] = 'Ahmed Hashim'\n",
    "data['Edu'] = 'MBA'\n",
    "\n",
    "data"
   ],
   "metadata": {
    "collapsed": false,
    "ExecuteTime": {
     "end_time": "2024-03-03T07:10:16.638737600Z",
     "start_time": "2024-03-03T07:10:16.610477600Z"
    }
   }
  },
  {
   "cell_type": "code",
   "execution_count": 2,
   "outputs": [
    {
     "name": "stdout",
     "output_type": "stream",
     "text": [
      "{'fname': 'Ahmed Hashim', 'name': 'Maheen Ahmed', 'Edu': 'MS-DS'}\n",
      "{'fname': 'Ahmed-H', 'name': 'Maheen Ahmed', 'Edu': 'MS-DS'}\n"
     ]
    }
   ],
   "source": [
    "from typing import Dict, Union, Optional\n",
    "\n",
    "# from tabulate import tabulate\n",
    "\n",
    "Key = Union[int, str]\n",
    "Value = Union[int, str, list, dict, tuple, set]\n",
    "\n",
    "data: Dict[Key, Value] = {\n",
    "    \"fname\": \"Ahmed Hashim\",\n",
    "    \"name\": \"Maheen Ahmed\",\n",
    "    \"Edu\": \"MS-DS\",\n",
    "\n",
    "}\n",
    "\n",
    "print(data)\n",
    "data['fname'] = 'Ahmed-H'\n",
    "print(data)"
   ],
   "metadata": {
    "collapsed": false,
    "ExecuteTime": {
     "end_time": "2024-03-03T08:36:33.913378400Z",
     "start_time": "2024-03-03T08:36:33.884374900Z"
    }
   }
  },
  {
   "cell_type": "code",
   "execution_count": 3,
   "outputs": [
    {
     "data": {
      "text/plain": "['clear',\n 'copy',\n 'fromkeys',\n 'get',\n 'items',\n 'keys',\n 'pop',\n 'popitem',\n 'setdefault',\n 'update',\n 'values']"
     },
     "execution_count": 3,
     "metadata": {},
     "output_type": "execute_result"
    }
   ],
   "source": [
    "from typing import Dict, Union, Optional\n",
    "\n",
    "# from tabulate import tabulate\n",
    "\n",
    "Key = Union[int, str]\n",
    "Value = Union[int, str, list, dict, tuple, set]\n",
    "\n",
    "data: Dict[Key, Value] = {\n",
    "    \"fname\": \"Ahmed Hashim\",\n",
    "    \"name\": \"Maheen Ahmed\",\n",
    "    \"Edu\": \"MS-DS\",\n",
    "\n",
    "}\n",
    "\n",
    "[i for i in dir(data) if \"__\" not in i]"
   ],
   "metadata": {
    "collapsed": false,
    "ExecuteTime": {
     "end_time": "2024-03-03T08:38:38.427800900Z",
     "start_time": "2024-03-03T08:38:38.361804400Z"
    }
   }
  },
  {
   "cell_type": "code",
   "execution_count": 5,
   "outputs": [
    {
     "name": "stdout",
     "output_type": "stream",
     "text": [
      "Key not defined\n",
      "Maheen Ahmed\n"
     ]
    }
   ],
   "source": [
    "from typing import Dict, Union, Optional\n",
    "\n",
    "# from tabulate import tabulate\n",
    "\n",
    "Key = Union[int, str]\n",
    "Value = Union[int, str, list, dict, tuple, set]\n",
    "\n",
    "data: Dict[Key, Value] = {\n",
    "    \"fname\": \"Ahmed Hashim\",\n",
    "    \"name\": \"Maheen Ahmed\",\n",
    "    \"Edu\": \"MS-DS\",\n",
    "\n",
    "}\n",
    "# get method use if there is no key then can return custom error or msg\n",
    "print(data.get('Pakistan', \"Key not defined\"))\n",
    "\n",
    "#if key available\n",
    "print(data.get('name', \"Key not defined\"))\n",
    "\n"
   ],
   "metadata": {
    "collapsed": false,
    "ExecuteTime": {
     "end_time": "2024-03-03T08:41:25.731215700Z",
     "start_time": "2024-03-03T08:41:25.670216900Z"
    }
   }
  },
  {
   "cell_type": "code",
   "execution_count": 6,
   "outputs": [
    {
     "name": "stdout",
     "output_type": "stream",
     "text": [
      "fname\n",
      "name\n",
      "Edu\n"
     ]
    }
   ],
   "source": [
    "from typing import Dict, Union, Optional\n",
    "\n",
    "# from tabulate import tabulate\n",
    "\n",
    "Key = Union[int, str]\n",
    "Value = Union[int, str, list, dict, tuple, set]\n",
    "\n",
    "data: Dict[Key, Value] = {\n",
    "    \"fname\": \"Ahmed Hashim\",\n",
    "    \"name\": \"Maheen Ahmed\",\n",
    "    \"Edu\": \"MS-DS\",\n",
    "\n",
    "}\n",
    "\n",
    "for key in data:\n",
    "    print(key)\n"
   ],
   "metadata": {
    "collapsed": false,
    "ExecuteTime": {
     "end_time": "2024-03-03T08:42:37.674865900Z",
     "start_time": "2024-03-03T08:42:37.601505Z"
    }
   }
  },
  {
   "cell_type": "code",
   "execution_count": 9,
   "outputs": [
    {
     "name": "stdout",
     "output_type": "stream",
     "text": [
      "dict_keys(['fname', 'name', 'Edu'])\n",
      "dict_values(['Ahmed Hashim', 'Maheen Ahmed', 'MS-DS'])\n",
      "dict_items([('fname', 'Ahmed Hashim'), ('name', 'Maheen Ahmed'), ('Edu', 'MS-DS')])\n"
     ]
    }
   ],
   "source": [
    "from typing import Dict, Union, Optional\n",
    "\n",
    "# from tabulate import tabulate\n",
    "\n",
    "Key = Union[int, str]\n",
    "Value = Union[int, str, list, dict, tuple, set]\n",
    "\n",
    "data: Dict[Key, Value] = {\n",
    "    \"fname\": \"Ahmed Hashim\",\n",
    "    \"name\": \"Maheen Ahmed\",\n",
    "    \"Edu\": \"MS-DS\",\n",
    "\n",
    "}\n",
    "\n",
    "print(data.keys())  #return keys\n",
    "print(data.values())  #return values\n",
    "print(data.items())  # return both"
   ],
   "metadata": {
    "collapsed": false,
    "ExecuteTime": {
     "end_time": "2024-03-03T08:44:11.874777600Z",
     "start_time": "2024-03-03T08:44:11.793777100Z"
    }
   }
  },
  {
   "cell_type": "code",
   "execution_count": 11,
   "outputs": [
    {
     "name": "stdout",
     "output_type": "stream",
     "text": [
      "fname Ahmed Hashim\n",
      "name Maheen Ahmed\n",
      "Edu MS-DS\n"
     ]
    }
   ],
   "source": [
    "from typing import Dict, Union, Optional\n",
    "\n",
    "# from tabulate import tabulate\n",
    "\n",
    "Key = Union[int, str]\n",
    "Value = Union[int, str, list, dict, tuple, set]\n",
    "\n",
    "data: Dict[Key, Value] = {\n",
    "    \"fname\": \"Ahmed Hashim\",\n",
    "    \"name\": \"Maheen Ahmed\",\n",
    "    \"Edu\": \"MS-DS\",\n",
    "\n",
    "}\n",
    "\n",
    "for key, value in data.items():\n",
    "    print(key, value)"
   ],
   "metadata": {
    "collapsed": false,
    "ExecuteTime": {
     "end_time": "2024-03-03T08:54:54.960269600Z",
     "start_time": "2024-03-03T08:54:54.955163500Z"
    }
   }
  }
 ],
 "metadata": {
  "kernelspec": {
   "display_name": "Python 3",
   "language": "python",
   "name": "python3"
  },
  "language_info": {
   "codemirror_mode": {
    "name": "ipython",
    "version": 2
   },
   "file_extension": ".py",
   "mimetype": "text/x-python",
   "name": "python",
   "nbconvert_exporter": "python",
   "pygments_lexer": "ipython2",
   "version": "2.7.6"
  }
 },
 "nbformat": 4,
 "nbformat_minor": 0
}
