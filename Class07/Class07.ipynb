{
 "cells": [
  {
   "cell_type": "markdown",
   "source": [
    "# Dictionary Sets Tulips"
   ],
   "metadata": {
    "collapsed": false
   }
  },
  {
   "cell_type": "code",
   "execution_count": 10,
   "metadata": {
    "collapsed": true,
    "ExecuteTime": {
     "end_time": "2024-03-02T14:14:23.146608700Z",
     "start_time": "2024-03-02T14:14:23.143609Z"
    }
   },
   "outputs": [
    {
     "name": "stdout",
     "output_type": "stream",
     "text": [
      "-  -  -\n",
      "A  M  M\n",
      "h  a  S\n",
      "m  h  -\n",
      "e  e  D\n",
      "d  e  S\n",
      "   n\n",
      "H\n",
      "a  A\n",
      "s  h\n",
      "h  m\n",
      "i  e\n",
      "m  d\n",
      "-  -  -\n"
     ]
    }
   ],
   "source": [
    "from typing import Dict, Union, Optional\n",
    "\n",
    "# from tabulate import tabulate\n",
    "\n",
    "Key = Union[int, str]\n",
    "Value = Union[int, str, list, dict, tuple, set]\n",
    "\n",
    "data: Dict[Key, Value] = {\n",
    "    \"fname\": \"Ahmed Hashim\",\n",
    "    \"name\": \"Maheen Ahmed\",\n",
    "    1: \"MS-DS\"\n",
    "}\n",
    "# print(tabulate(data))"
   ]
  },
  {
   "cell_type": "code",
   "execution_count": null,
   "outputs": [],
   "source": [
    "from typing import Dict, Union, Optional\n",
    "\n",
    "# from tabulate import tabulate\n",
    "\n",
    "Key = Union[int, str]\n",
    "Value = Union[int, str, list, dict, tuple, set]\n",
    "\n",
    "data: Dict[Key, Value] = {\n",
    "    \"fname\": \"Ahmed Hashim\",\n",
    "    \"name\": \"Maheen Ahmed\",\n",
    "    1: \"MS-DS\",\n",
    "    \"abc\": [1, 2, 3],\n",
    "    \"xyz\": (1, 2, 3),\n",
    "    \"efg\": {1, 2, 3},\n",
    "    \"cde\": {\"a\": 1, \"b\": 2}\n",
    "}"
   ],
   "metadata": {
    "collapsed": false
   }
  },
  {
   "cell_type": "code",
   "execution_count": 1,
   "outputs": [
    {
     "name": "stdout",
     "output_type": "stream",
     "text": [
      "{1, 2, 3, 4, 5}\n",
      "[1, 2, 3, 4, 5]\n"
     ]
    }
   ],
   "source": [
    "abc: set = {1, 2, 3, 4, 5, 1, 2, 3, 4}\n",
    "print(abc)\n",
    "\n",
    "xyz: list = list(abc)\n",
    "print(xyz)"
   ],
   "metadata": {
    "collapsed": false,
    "ExecuteTime": {
     "end_time": "2024-03-03T07:04:41.007105300Z",
     "start_time": "2024-03-03T07:04:40.987437800Z"
    }
   }
  },
  {
   "cell_type": "code",
   "execution_count": 2,
   "outputs": [
    {
     "data": {
      "text/plain": "2"
     },
     "execution_count": 2,
     "metadata": {},
     "output_type": "execute_result"
    }
   ],
   "source": [
    "from typing import Dict, Union, Optional\n",
    "\n",
    "# from tabulate import tabulate\n",
    "\n",
    "Key = Union[int, str]\n",
    "Value = Union[int, str, list, dict, tuple, set]\n",
    "\n",
    "data: Dict[Key, Value] = {\n",
    "    \"fname\": \"Ahmed Hashim\",\n",
    "    \"name\": \"Maheen Ahmed\",\n",
    "    1: \"MS-DS\",\n",
    "    \"abc\": [1, 2, 3],\n",
    "    \"xyz\": (1, 2, 3),\n",
    "    \"efg\": {1, 2, 3},\n",
    "    \"cde\": {\"a\": 1, \"b\": 2}\n",
    "}\n",
    "\n",
    "data['cde']['b']"
   ],
   "metadata": {
    "collapsed": false,
    "ExecuteTime": {
     "end_time": "2024-03-03T07:08:07.733613300Z",
     "start_time": "2024-03-03T07:08:07.719613Z"
    }
   }
  },
  {
   "cell_type": "code",
   "execution_count": 3,
   "outputs": [
    {
     "data": {
      "text/plain": "{'name': 'Ahmed Hashim', 'Edu': 'MBA'}"
     },
     "execution_count": 3,
     "metadata": {},
     "output_type": "execute_result"
    }
   ],
   "source": [
    "from typing import Dict, Union, Optional\n",
    "\n",
    "# from tabulate import tabulate\n",
    "\n",
    "Key = Union[int, str]\n",
    "Value = Union[int, str, list, dict, tuple, set]\n",
    "\n",
    "data: dict[Key, Value] = {}  #initialize empty dictionry\n",
    "\n",
    "data['name'] = 'Ahmed Hashim'\n",
    "data['Edu'] = 'MBA'\n",
    "\n",
    "data"
   ],
   "metadata": {
    "collapsed": false,
    "ExecuteTime": {
     "end_time": "2024-03-03T07:10:16.638737600Z",
     "start_time": "2024-03-03T07:10:16.610477600Z"
    }
   }
  },
  {
   "cell_type": "code",
   "execution_count": 4,
   "outputs": [
    {
     "name": "stdout",
     "output_type": "stream",
     "text": [
      "{'fname': 'Ahmed Hashim', 'name': 'Maheen Ahmed', 'Edu': 'MS-DS'}\n"
     ]
    }
   ],
   "source": [
    "from typing import Dict, Union, Optional\n",
    "\n",
    "# from tabulate import tabulate\n",
    "\n",
    "Key = Union[int, str]\n",
    "Value = Union[int, str, list, dict, tuple, set]\n",
    "\n",
    "data: Dict[Key, Value] = {\n",
    "    \"fname\": \"Ahmed Hashim\",\n",
    "    \"name\": \"Maheen Ahmed\",\n",
    "    \"Edu\": \"MS-DS\",\n",
    "\n",
    "}\n",
    "\n",
    "print(data)"
   ],
   "metadata": {
    "collapsed": false,
    "ExecuteTime": {
     "end_time": "2024-03-03T07:17:10.509362400Z",
     "start_time": "2024-03-03T07:17:10.426427500Z"
    }
   }
  }
 ],
 "metadata": {
  "kernelspec": {
   "display_name": "Python 3",
   "language": "python",
   "name": "python3"
  },
  "language_info": {
   "codemirror_mode": {
    "name": "ipython",
    "version": 2
   },
   "file_extension": ".py",
   "mimetype": "text/x-python",
   "name": "python",
   "nbconvert_exporter": "python",
   "pygments_lexer": "ipython2",
   "version": "2.7.6"
  }
 },
 "nbformat": 4,
 "nbformat_minor": 0
}
