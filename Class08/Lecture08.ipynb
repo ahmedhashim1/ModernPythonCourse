{
 "cells": [
  {
   "cell_type": "markdown",
   "source": [
    "# Dictionary Continued"
   ],
   "metadata": {
    "collapsed": false
   }
  },
  {
   "cell_type": "code",
   "execution_count": 9,
   "metadata": {
    "collapsed": true,
    "ExecuteTime": {
     "end_time": "2024-03-04T14:26:42.310746900Z",
     "start_time": "2024-03-04T14:26:42.261150200Z"
    }
   },
   "outputs": [
    {
     "data": {
      "text/plain": "['clear',\n 'copy',\n 'fromkeys',\n 'get',\n 'items',\n 'keys',\n 'pop',\n 'popitem',\n 'setdefault',\n 'update',\n 'values']"
     },
     "execution_count": 9,
     "metadata": {},
     "output_type": "execute_result"
    }
   ],
   "source": [
    "from typing import Dict, Union, Optional\n",
    "\n",
    "# from tabulate import tabulate\n",
    "\n",
    "Key = Union[int, str]\n",
    "Value = Union[int, str, list, dict, tuple, set]\n",
    "\n",
    "data: Dict[Key, Value] = {\n",
    "    \"fname\": \"Ahmed Hashim\",\n",
    "    \"name\": \"Maheen Ahmed\",\n",
    "    \"Edu\": \"MS-DS\",\n",
    "\n",
    "}\n",
    "\n",
    "methods: list[str] = [m for m in dir(data) if \"__\" not in m]\n",
    "methods"
   ]
  },
  {
   "cell_type": "code",
   "execution_count": 6,
   "outputs": [
    {
     "name": "stdout",
     "output_type": "stream",
     "text": [
      "Before {'fname': 'Ahmed Hashim', 'name': 'Maheen Ahmed', 'Edu': 'MS-DS'}\n",
      "After {}\n"
     ]
    }
   ],
   "source": [
    "print(\"Before\", data)\n",
    "data.clear()\n",
    "print(\"After\", data)"
   ],
   "metadata": {
    "collapsed": false,
    "ExecuteTime": {
     "end_time": "2024-03-04T14:24:38.901598900Z",
     "start_time": "2024-03-04T14:24:38.876422Z"
    }
   }
  },
  {
   "cell_type": "code",
   "execution_count": 10,
   "outputs": [
    {
     "name": "stdout",
     "output_type": "stream",
     "text": [
      "Before {'fname': 'Ahmed Hashim', 'name': 'Maheen Ahmed', 'Edu': 'MS-DS'}\n",
      "After {'fname': 'Ahmed Hashim', 'name': 'Maheen Ahmed'}\n"
     ]
    }
   ],
   "source": [
    "print(\"Before\", data)\n",
    "data.pop(\"Edu\")\n",
    "print(\"After\", data)"
   ],
   "metadata": {
    "collapsed": false,
    "ExecuteTime": {
     "end_time": "2024-03-04T14:26:45.606396600Z",
     "start_time": "2024-03-04T14:26:45.605399400Z"
    }
   }
  },
  {
   "cell_type": "code",
   "execution_count": 11,
   "outputs": [
    {
     "name": "stdout",
     "output_type": "stream",
     "text": [
      "Before {'fname': 'Ahmed Hashim', 'name': 'Maheen Ahmed'}\n",
      "After {'fname': 'Ahmed Hashim'}\n"
     ]
    }
   ],
   "source": [
    "print(\"Before\", data)\n",
    "data.popitem()\n",
    "print(\"After\", data)"
   ],
   "metadata": {
    "collapsed": false,
    "ExecuteTime": {
     "end_time": "2024-03-04T14:27:43.774059200Z",
     "start_time": "2024-03-04T14:27:43.745980300Z"
    }
   }
  },
  {
   "cell_type": "code",
   "execution_count": 19,
   "outputs": [
    {
     "data": {
      "text/plain": "['clear',\n 'copy',\n 'fromkeys',\n 'get',\n 'items',\n 'keys',\n 'pop',\n 'popitem',\n 'setdefault',\n 'update',\n 'values']"
     },
     "execution_count": 19,
     "metadata": {},
     "output_type": "execute_result"
    }
   ],
   "source": [
    "from typing import Dict, Union, Optional\n",
    "\n",
    "# from tabulate import tabulate\n",
    "\n",
    "Key = Union[int, str]\n",
    "Value = Union[int, str, list, dict, tuple, set]\n",
    "\n",
    "data: Dict[Key, Value] = {\n",
    "    \"fname\": \"Ahmed Hashim\",\n",
    "    \"name\": \"Maheen Ahmed\",\n",
    "    \"Edu\": \"MS-DS\",\n",
    "\n",
    "}\n",
    "\n",
    "methods: list[str] = [m for m in dir(data) if \"__\" not in m]\n",
    "methods"
   ],
   "metadata": {
    "collapsed": false,
    "ExecuteTime": {
     "end_time": "2024-03-04T14:32:24.761022600Z",
     "start_time": "2024-03-04T14:32:24.700532Z"
    }
   }
  },
  {
   "cell_type": "code",
   "execution_count": 13,
   "outputs": [
    {
     "data": {
      "text/plain": "'Key not found!'"
     },
     "execution_count": 13,
     "metadata": {},
     "output_type": "execute_result"
    }
   ],
   "source": [
    "a: str = data.get(\"Pakistan\", \"Key not found!\")\n",
    "a"
   ],
   "metadata": {
    "collapsed": false,
    "ExecuteTime": {
     "end_time": "2024-03-04T14:28:53.807181900Z",
     "start_time": "2024-03-04T14:28:53.803911500Z"
    }
   }
  },
  {
   "cell_type": "code",
   "execution_count": 16,
   "outputs": [
    {
     "name": "stdout",
     "output_type": "stream",
     "text": [
      "{'fname': 'Ahmed Hashim', 'name': 'Maheen Ahmed', 'Edu': 'MS-DS', 'Pakistan': None}\n"
     ]
    }
   ],
   "source": [
    "a: str = data.setdefault(\"Pakistan\")  # it will add Pakistan as a new key and assign None as value\n",
    "print(data)\n"
   ],
   "metadata": {
    "collapsed": false,
    "ExecuteTime": {
     "end_time": "2024-03-04T14:30:44.254382Z",
     "start_time": "2024-03-04T14:30:44.184425100Z"
    }
   }
  },
  {
   "cell_type": "code",
   "execution_count": 20,
   "outputs": [
    {
     "name": "stdout",
     "output_type": "stream",
     "text": [
      "{'fname': 'Ahmed Hashim', 'name': 'Maheen Ahmed', 'Edu': 'MS-DS', 'Pakistan': 'Initial value'}\n"
     ]
    }
   ],
   "source": [
    "a: str = data.setdefault(\"Pakistan\",\n",
    "                         \"Initial value\")  # it will add Pakistan as a new key and assign \"Initial value\" as default\n",
    "print(data)"
   ],
   "metadata": {
    "collapsed": false,
    "ExecuteTime": {
     "end_time": "2024-03-04T14:32:28.363947300Z",
     "start_time": "2024-03-04T14:32:28.330443400Z"
    }
   }
  },
  {
   "cell_type": "code",
   "execution_count": 24,
   "outputs": [
    {
     "data": {
      "text/plain": "{'fname': 'Ahmed Hashim',\n 'name': 'Ahmed-h',\n 'Edu': 'MS-DS',\n 'age': 40,\n 'height': '6 ft'}"
     },
     "execution_count": 24,
     "metadata": {},
     "output_type": "execute_result"
    }
   ],
   "source": [
    "\n",
    "Key = Union[int, str]\n",
    "Value = Union[int, str, list, dict, tuple, set]\n",
    "\n",
    "data: Dict[Key, Value] = {\n",
    "    \"fname\": \"Ahmed Hashim\",\n",
    "    \"name\": \"Maheen Ahmed\",\n",
    "    \"Edu\": \"MS-DS\",\n",
    "\n",
    "}\n",
    "data1: Dict[Key, Value] = {\"name\": \"Ahmed-h\",\n",
    "                           \"age\": 40,\n",
    "                           \"height\": \"6 ft\"\n",
    "                           }\n",
    "\n",
    "data.update(data1)\n",
    "data"
   ],
   "metadata": {
    "collapsed": false,
    "ExecuteTime": {
     "end_time": "2024-03-04T14:35:44.555171600Z",
     "start_time": "2024-03-04T14:35:44.517692400Z"
    }
   }
  },
  {
   "cell_type": "code",
   "execution_count": 27,
   "outputs": [
    {
     "data": {
      "text/plain": "   roll_no    name  edu\n0        1   Ahmed   MS\n1        2  Maheen  MBA\n2        3    Saba  BBA",
      "text/html": "<div>\n<style scoped>\n    .dataframe tbody tr th:only-of-type {\n        vertical-align: middle;\n    }\n\n    .dataframe tbody tr th {\n        vertical-align: top;\n    }\n\n    .dataframe thead th {\n        text-align: right;\n    }\n</style>\n<table border=\"1\" class=\"dataframe\">\n  <thead>\n    <tr style=\"text-align: right;\">\n      <th></th>\n      <th>roll_no</th>\n      <th>name</th>\n      <th>edu</th>\n    </tr>\n  </thead>\n  <tbody>\n    <tr>\n      <th>0</th>\n      <td>1</td>\n      <td>Ahmed</td>\n      <td>MS</td>\n    </tr>\n    <tr>\n      <th>1</th>\n      <td>2</td>\n      <td>Maheen</td>\n      <td>MBA</td>\n    </tr>\n    <tr>\n      <th>2</th>\n      <td>3</td>\n      <td>Saba</td>\n      <td>BBA</td>\n    </tr>\n  </tbody>\n</table>\n</div>"
     },
     "execution_count": 27,
     "metadata": {},
     "output_type": "execute_result"
    }
   ],
   "source": [
    "import pandas as pd\n",
    "from typing import Any\n",
    "\n",
    "student_data: Dict[str, list[Any]] = {\n",
    "    \"roll_no\": [1, 2, 3],\n",
    "    \"name\": ['Ahmed', 'Maheen', 'Saba'],\n",
    "    \"edu\": [\"MS\", \"MBA\", \"BBA\"]\n",
    "}\n",
    "\n",
    "df: pd.DataFrame = pd.DataFrame(student_data)\n",
    "df"
   ],
   "metadata": {
    "collapsed": false,
    "ExecuteTime": {
     "end_time": "2024-03-04T14:41:54.044201100Z",
     "start_time": "2024-03-04T14:41:53.991275Z"
    }
   }
  },
  {
   "cell_type": "code",
   "execution_count": 30,
   "outputs": [
    {
     "name": "stdout",
     "output_type": "stream",
     "text": [
      "Original x-position: 0\n",
      "New x-position: 2\n"
     ]
    }
   ],
   "source": [
    "alien_0 = {'x_position': 0, 'y_position': 25, 'speed': 'medium'}\n",
    "print(\"Original x-position: \" + str(alien_0['x_position']))\n",
    "# Move the alien to the right.\n",
    "# Determine how far to move the alien based on its current speed.\n",
    "if alien_0['speed'] == 'slow':\n",
    "    x_increment = 1\n",
    "elif alien_0['speed'] == 'medium':\n",
    "    x_increment = 2\n",
    "else:\n",
    "    # This must be a fast alien.\n",
    "    x_increment = 3\n",
    "# The new position is the old position plus the increment.\n",
    "alien_0['x_position'] = alien_0['x_position'] + x_increment\n",
    "\n",
    "print(\"New x-position: \" + str(alien_0['x_position']))"
   ],
   "metadata": {
    "collapsed": false,
    "ExecuteTime": {
     "end_time": "2024-03-04T14:49:53.139937900Z",
     "start_time": "2024-03-04T14:49:53.137712700Z"
    }
   }
  },
  {
   "cell_type": "code",
   "execution_count": 32,
   "outputs": [
    {
     "name": "stdout",
     "output_type": "stream",
     "text": [
      "Original x-position: 0\n",
      "New x-position: 2\n",
      "New x-position: 4\n"
     ]
    }
   ],
   "source": [
    "alien_0 = {'x_position': 0, 'y_position': 25, 'speed': 'medium'}\n",
    "print(\"Original x-position: \" + str(alien_0['x_position']))\n",
    "# Move the alien to the right.\n",
    "# Determine how far to move the alien based on its current speed.\n",
    "if alien_0['speed'] == 'slow':\n",
    "    x_increment = 1\n",
    "elif alien_0['speed'] == 'medium':\n",
    "    x_increment = 2\n",
    "else:\n",
    "    # This must be a fast alien.\n",
    "    x_increment = 3\n",
    "# The new position is the old position plus the increment.\n",
    "\n",
    "alien_0['x_position'] = alien_0['x_position'] + x_increment\n",
    "\n",
    "print(\"New x-position: \" + str(alien_0['x_position']))\n",
    "alien_0['speed'] = 'fast'\n",
    "alien_0['x_position'] = alien_0['x_position'] + x_increment\n",
    "print(\"New x-position: \" + str(alien_0['x_position']))"
   ],
   "metadata": {
    "collapsed": false,
    "ExecuteTime": {
     "end_time": "2024-03-04T14:54:37.932136800Z",
     "start_time": "2024-03-04T14:54:37.932136800Z"
    }
   }
  },
  {
   "cell_type": "code",
   "execution_count": 33,
   "outputs": [
    {
     "name": "stdout",
     "output_type": "stream",
     "text": [
      "Jen\n",
      "Sarah\n",
      " Hi Sarah, I see your favorite language is C!\n",
      "Edward\n",
      "Phil\n",
      " Hi Phil, I see your favorite language is Python!\n"
     ]
    }
   ],
   "source": [
    "favorite_languages = {\n",
    "    'jen': 'python',\n",
    "    'sarah': 'c',\n",
    "    'edward': 'ruby',\n",
    "    'phil': 'python',\n",
    "}\n",
    "friends = ['phil', 'sarah']\n",
    "for name in favorite_languages.keys():\n",
    "    print(name.title())\n",
    "    if name in friends:\n",
    "        print(\" Hi \" + name.title() + \", I see your favorite language is \" + favorite_languages[name].title() + \"!\")"
   ],
   "metadata": {
    "collapsed": false,
    "ExecuteTime": {
     "end_time": "2024-03-04T15:30:25.760550100Z",
     "start_time": "2024-03-04T15:30:25.756551400Z"
    }
   }
  },
  {
   "cell_type": "code",
   "execution_count": 39,
   "outputs": [
    {
     "name": "stdout",
     "output_type": "stream",
     "text": [
      "{'color': 'yellow', 'points': 10, 'speed': 'medium'}\n",
      "{'color': 'yellow', 'points': 10, 'speed': 'medium'}\n",
      "{'color': 'yellow', 'points': 10, 'speed': 'medium'}\n",
      "{'color': 'green', 'points': 5, 'speed': 'slow'}\n",
      "{'color': 'green', 'points': 5, 'speed': 'slow'}\n",
      "{'color': 'green', 'points': 5, 'speed': 'slow'}\n",
      "{'color': 'green', 'points': 5, 'speed': 'slow'}\n",
      "{'color': 'green', 'points': 5, 'speed': 'slow'}\n",
      "{'color': 'green', 'points': 5, 'speed': 'slow'}\n",
      "{'color': 'green', 'points': 5, 'speed': 'slow'}\n",
      "...\n",
      "Total number of aliens: 30\n"
     ]
    }
   ],
   "source": [
    "# Make an empty list for storing aliens.\n",
    "aliens = []\n",
    "# Make 30 green aliens.\n",
    "for alien_number in range(30):\n",
    "    new_alien = {'color': 'green', 'points': 5, 'speed': 'slow'}\n",
    "    aliens.append(new_alien)\n",
    "\n",
    "for alien in aliens[0:3]:\n",
    "    if alien['color'] == 'green':\n",
    "        alien['color'] = 'yellow'\n",
    "        alien['speed'] = 'medium'\n",
    "        alien['points'] = 10\n",
    "\n",
    "# Show the first 5 aliens:\n",
    "for alien in aliens[:10]:\n",
    "    print(alien)\n",
    "print(\"...\")\n",
    "\n",
    "# Show how many aliens have been created.\n",
    "print(\"Total number of aliens: \" + str(len(aliens)))\n",
    "# aliens"
   ],
   "metadata": {
    "collapsed": false,
    "ExecuteTime": {
     "end_time": "2024-03-04T15:57:33.371495800Z",
     "start_time": "2024-03-04T15:57:33.355871Z"
    }
   }
  },
  {
   "cell_type": "code",
   "execution_count": 45,
   "outputs": [
    {
     "name": "stdout",
     "output_type": "stream",
     "text": [
      "{'color': 'green', 'points': 5, 'speed': 'slow'}\n",
      "{'color': 'green', 'points': 5, 'speed': 'slow'}\n",
      "{'color': 'green', 'points': 5, 'speed': 'slow'}\n",
      "{'color': 'green', 'points': 5, 'speed': 'slow'}\n",
      "{'color': 'yellow', 'points': 10, 'speed': 'medium'}\n",
      "{'color': 'yellow', 'points': 10, 'speed': 'medium'}\n",
      "{'color': 'yellow', 'points': 10, 'speed': 'medium'}\n",
      "{'color': 'yellow', 'points': 10, 'speed': 'medium'}\n",
      "{'color': 'green', 'points': 5, 'speed': 'slow'}\n",
      "{'color': 'green', 'points': 5, 'speed': 'slow'}\n",
      "...\n",
      "Total number of aliens: 30\n"
     ]
    }
   ],
   "source": [
    "aliens = []\n",
    "# Make 30 green aliens.\n",
    "for alien_number in range(30):\n",
    "    new_alien = {'color': 'green', 'points': 5, 'speed': 'slow'}\n",
    "    aliens.append(new_alien)\n",
    "\n",
    "for alien in aliens[4:8]:\n",
    "    if alien['color'] == 'green':\n",
    "        alien['color'] = 'yellow'\n",
    "        alien['speed'] = 'medium'\n",
    "        alien['points'] = 10\n",
    "    elif alien['color'] == 'yellow':\n",
    "        alien['color'] = 'red'\n",
    "        alien['speed'] = 'fast'\n",
    "        alien['points'] = 15\n",
    "\n",
    "# Show the first 5 aliens:\n",
    "for alien in aliens[:10]:\n",
    "    print(alien)\n",
    "print(\"...\")\n",
    "\n",
    "# Show how many aliens have been created.\n",
    "print(\"Total number of aliens: \" + str(len(aliens)))"
   ],
   "metadata": {
    "collapsed": false,
    "ExecuteTime": {
     "end_time": "2024-03-04T16:05:52.232739500Z",
     "start_time": "2024-03-04T16:05:52.201436200Z"
    }
   }
  },
  {
   "cell_type": "code",
   "execution_count": 46,
   "outputs": [
    {
     "data": {
      "text/plain": "dict"
     },
     "execution_count": 46,
     "metadata": {},
     "output_type": "execute_result"
    }
   ],
   "source": [
    "type(alien)"
   ],
   "metadata": {
    "collapsed": false,
    "ExecuteTime": {
     "end_time": "2024-03-04T16:08:39.041247900Z",
     "start_time": "2024-03-04T16:08:39.005010100Z"
    }
   }
  },
  {
   "cell_type": "code",
   "execution_count": 48,
   "outputs": [
    {
     "data": {
      "text/plain": "{'fname': 'Ahmed Hashim', 'name': 'Maheen Ahmed', 'Edu': 'MS-DS'}"
     },
     "execution_count": 48,
     "metadata": {},
     "output_type": "execute_result"
    }
   ],
   "source": [
    "Key = Union[int, str]\n",
    "Value = Union[int, str, list, dict, tuple, set]\n",
    "\n",
    "data: Dict[Key, Value] = {\n",
    "    \"fname\": \"Ahmed Hashim\",\n",
    "    \"name\": \"Maheen Ahmed\",\n",
    "    \"Edu\": \"MS-DS\",\n",
    "\n",
    "}\n",
    "\n"
   ],
   "metadata": {
    "collapsed": false,
    "ExecuteTime": {
     "end_time": "2024-03-04T16:10:09.327891700Z",
     "start_time": "2024-03-04T16:10:09.292852Z"
    }
   }
  },
  {
   "cell_type": "code",
   "execution_count": 53,
   "outputs": [
    {
     "data": {
      "text/plain": "'{\"fname\": \"Ahmed Hashim\", \"name\": \"Maheen Ahmed\", \"Edu\": \"MS-DS\"}'"
     },
     "execution_count": 53,
     "metadata": {},
     "output_type": "execute_result"
    }
   ],
   "source": [
    "import json\n",
    "\n",
    "json_data = json.dumps(data)\n",
    "json_data"
   ],
   "metadata": {
    "collapsed": false,
    "ExecuteTime": {
     "end_time": "2024-03-04T16:13:44.195978500Z",
     "start_time": "2024-03-04T16:13:44.158749400Z"
    }
   }
  }
 ],
 "metadata": {
  "kernelspec": {
   "display_name": "Python 3",
   "language": "python",
   "name": "python3"
  },
  "language_info": {
   "codemirror_mode": {
    "name": "ipython",
    "version": 2
   },
   "file_extension": ".py",
   "mimetype": "text/x-python",
   "name": "python",
   "nbconvert_exporter": "python",
   "pygments_lexer": "ipython2",
   "version": "2.7.6"
  }
 },
 "nbformat": 4,
 "nbformat_minor": 0
}
