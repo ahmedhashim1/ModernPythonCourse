{
 "cells": [
  {
   "cell_type": "markdown",
   "metadata": {},
   "source": [
    "#String data type\n"
   ]
  },
  {
   "cell_type": "code",
   "execution_count": 4,
   "metadata": {},
   "outputs": [
    {
     "name": "stdout",
     "output_type": "stream",
     "text": [
      "Ahmed Hashim\n",
      "Hashim Muhammad\n"
     ]
    }
   ],
   "source": [
    "name : str = \"Ahmed Hashim\"\n",
    "fname : str = \"Hashim Muhammad\"\n",
    "print(name)\n",
    "print(fname)"
   ]
  },
  {
   "cell_type": "code",
   "execution_count": 8,
   "metadata": {},
   "outputs": [
    {
     "name": "stdout",
     "output_type": "stream",
     "text": [
      "PIAIC Student Card \n",
      " Father's Name\n"
     ]
    }
   ],
   "source": [
    "message : str = \"PIAIC Student Card \\n Father's Name\"\n",
    "print(message)"
   ]
  },
  {
   "cell_type": "code",
   "execution_count": 10,
   "metadata": {},
   "outputs": [
    {
     "name": "stdout",
     "output_type": "stream",
     "text": [
      "PIAIC Student Card \n",
      " Father's Name\n"
     ]
    }
   ],
   "source": [
    "#place backslash \\ before special char to print\n",
    "message : str = 'PIAIC Student Card \\n Father\\'s Name'\n",
    "print(message)"
   ]
  },
  {
   "cell_type": "code",
   "execution_count": 16,
   "metadata": {},
   "outputs": [
    {
     "name": "stdout",
     "output_type": "stream",
     "text": [
      "PIAIC Student Card\n",
      "Student Name: Ahmed Hashim\n",
      "Age: 40\n"
     ]
    }
   ],
   "source": [
    "name : str = \"Ahmed Hashim\"\n",
    "fname : str = \"Hashim Muhammad\"\n",
    "edu : str = \"Master in Data Science and AI\"\n",
    "age : int = 40\n",
    "\n",
    "card : str = \"PIAIC Student Card\\nStudent Name: \" + name + \"\\nAge: \" + str(age)\n",
    "\n",
    "print(card)"
   ]
  },
  {
   "cell_type": "markdown",
   "metadata": {},
   "source": [
    "#define multiline string"
   ]
  },
  {
   "cell_type": "code",
   "execution_count": 18,
   "metadata": {},
   "outputs": [
    {
     "name": "stdout",
     "output_type": "stream",
     "text": [
      "\n",
      "PIAIC Student Card\n",
      "Student Name:  .....\n",
      "Father's Name: .....\n",
      "Education:     .....\n",
      "Age:           .....   \n",
      "\n",
      "\n"
     ]
    }
   ],
   "source": [
    "name : str = \"Ahmed Hashim\"\n",
    "fname : str = \"Hashim Muhammad\"\n",
    "edu : str = \"Master in Data Science and AI\"\n",
    "age : int = 40\n",
    "\n",
    "card : str = \"\"\"\n",
    "PIAIC Student Card\n",
    "Student Name:  .....\n",
    "Father's Name: .....\n",
    "Education:     .....\n",
    "Age:           .....   \n",
    "\n",
    "\"\"\"\n",
    "\n",
    "print(card)"
   ]
  },
  {
   "cell_type": "markdown",
   "metadata": {},
   "source": [
    "#F-string"
   ]
  },
  {
   "cell_type": "code",
   "execution_count": 20,
   "metadata": {},
   "outputs": [
    {
     "name": "stdout",
     "output_type": "stream",
     "text": [
      "\n",
      "PIAIC Student Card\n",
      "Student Name:  Ahmed Hashim\n",
      "Father's Name: Hashim Muhammad\n",
      "Education:     Master in Data Science and AI\n",
      "Age:           40   \n",
      "\n",
      "\n"
     ]
    }
   ],
   "source": [
    "name : str = \"Ahmed Hashim\"\n",
    "fname : str = \"Hashim Muhammad\"\n",
    "edu : str = \"Master in Data Science and AI\"\n",
    "age : int = 40\n",
    "\n",
    "card : str = f\"\"\"\n",
    "PIAIC Student Card\n",
    "Student Name:  {name}\n",
    "Father's Name: {fname}\n",
    "Education:     {edu}\n",
    "Age:           {age}   \n",
    "\n",
    "\"\"\"\n",
    "\n",
    "print(card)"
   ]
  },
  {
   "cell_type": "code",
   "execution_count": 21,
   "metadata": {},
   "outputs": [
    {
     "name": "stdout",
     "output_type": "stream",
     "text": [
      "\n",
      "PIAIC Student Card\n",
      "Student Name:  Ahmed Hashim\n",
      "Father's Name: Hashim Muhammad\n",
      "Education:     Master in Data Science and AI\n",
      "Age:           40   \n",
      "\n",
      "\n"
     ]
    }
   ],
   "source": [
    "name : str = \"Ahmed Hashim\"\n",
    "fname : str = \"Hashim Muhammad\"\n",
    "edu : str = \"Master in Data Science and AI\"\n",
    "age : int = 40\n",
    "\n",
    "card : str = f\"\"\"\n",
    "PIAIC Student Card\n",
    "Student Name:  %s\n",
    "Father's Name: %s\n",
    "Education:     %s\n",
    "Age:           %d   \n",
    "\n",
    "\"\"\" % (name, fname, edu, age)\n",
    "\n",
    "print(card)"
   ]
  },
  {
   "cell_type": "markdown",
   "metadata": {},
   "source": [
    "#String methods"
   ]
  },
  {
   "cell_type": "code",
   "execution_count": 25,
   "metadata": {},
   "outputs": [
    {
     "name": "stdout",
     "output_type": "stream",
     "text": [
      "Ahmed hashim\n",
      "ahmed hashim\n",
      "AHMED HASHIM\n",
      "ahmed hashim\n"
     ]
    }
   ],
   "source": [
    "name : str = \"Ahmed Hashim\"\n",
    "print(name.capitalize())\n",
    "print(name.lower())\n",
    "print(name.upper())\n",
    "print(name.casefold())"
   ]
  },
  {
   "cell_type": "markdown",
   "metadata": {},
   "source": [
    "#Format method"
   ]
  },
  {
   "cell_type": "code",
   "execution_count": 2,
   "metadata": {},
   "outputs": [
    {
     "data": {
      "text/plain": [
       "'Pakistan value a = 75 value b = 8'"
      ]
     },
     "execution_count": 2,
     "metadata": {},
     "output_type": "execute_result"
    }
   ],
   "source": [
    "a = 75\n",
    "b = 8\n",
    "\"Pakistan value a = {} value b = {}\".format(a,b)"
   ]
  },
  {
   "cell_type": "code",
   "execution_count": 4,
   "metadata": {
    "ExecuteTime": {
     "end_time": "2024-02-03T10:19:11.863828600Z",
     "start_time": "2024-02-03T10:19:11.854838100Z"
    }
   },
   "outputs": [
    {
     "name": "stdout",
     "output_type": "stream",
     "text": [
      "\n",
      "PIAIC Student Card\n",
      "Student Name:  Ahmed Hashim\n",
      "Father's Name: Hashim Muhammad\n",
      "Education:     Master in Data Science and AI\n",
      "Age:           40\n",
      "Interest:      \"Learning Python\"\n",
      "\n",
      "\n"
     ]
    }
   ],
   "source": [
    "#format string with variables placeholders\n",
    "name : str = \"Ahmed Hashim\"\n",
    "fname : str = \"Hashim Muhammad\"\n",
    "edu : str = \"Master in Data Science and AI\"\n",
    "age : int = 40\n",
    "\n",
    "card : str = \"\"\"\n",
    "PIAIC Student Card\n",
    "Student Name:  {a}\n",
    "Father's Name: {b}\n",
    "Education:     {c}\n",
    "Age:           {d}\n",
    "Interest:      \"Learning Python\"\n",
    "\n",
    "\"\"\" .format(a=name, b=fname, c=edu, d=age)\n",
    "\n",
    "print(card)"
   ]
  },
  {
   "cell_type": "markdown",
   "metadata": {},
   "source": [
    "#String methods and Attributes"
   ]
  },
  {
   "cell_type": "code",
   "execution_count": 15,
   "metadata": {
    "ExecuteTime": {
     "end_time": "2024-02-03T10:32:03.984356700Z",
     "start_time": "2024-02-03T10:32:03.957380700Z"
    }
   },
   "outputs": [
    {
     "name": "stdout",
     "output_type": "stream",
     "text": [
      "Ahmed hashim\n",
      "ahmed hashim\n",
      "AHMED HASHIM\n",
      "ahmed hashim\n",
      "Ahmed Hashim\n"
     ]
    }
   ],
   "source": [
    "name : str = \"ahmed Hashim\"\n",
    "print(name.capitalize())\n",
    "print(name.lower())\n",
    "print(name.upper())\n",
    "print(name.casefold())\n",
    "print(name.title())"
   ]
  },
  {
   "cell_type": "code",
   "execution_count": 12,
   "outputs": [
    {
     "name": "stdout",
     "output_type": "stream",
     "text": [
      "       ahmed Hashim         \n",
      "ahmed Hashim         \n",
      "       ahmed Hashim\n",
      "ahmed Hashim\n"
     ]
    }
   ],
   "source": [
    "name_sp : str = \"       ahmed Hashim         \"\n",
    "print(name_sp)\n",
    "print(name_sp.lstrip())\n",
    "print(name_sp.rstrip())\n",
    "print(name_sp.strip())"
   ],
   "metadata": {
    "collapsed": false,
    "ExecuteTime": {
     "end_time": "2024-02-03T10:27:40.851284100Z",
     "start_time": "2024-02-03T10:27:40.821282600Z"
    }
   }
  },
  {
   "cell_type": "code",
   "execution_count": 16,
   "outputs": [
    {
     "data": {
      "text/plain": "'     ahmed Hashim            '"
     },
     "metadata": {},
     "output_type": "display_data"
    },
    {
     "data": {
      "text/plain": "'ahmed Hashim'"
     },
     "metadata": {},
     "output_type": "display_data"
    }
   ],
   "source": [
    "import re\n",
    "\n",
    "name : str = \"     ahmed Hashim            \"\n",
    "display(name)\n",
    "\n",
    "name1 :str = re.sub(\" {2,100}\",\" \", name).strip()\n",
    "display(name1)"
   ],
   "metadata": {
    "collapsed": false,
    "ExecuteTime": {
     "end_time": "2024-02-03T10:42:01.725647800Z",
     "start_time": "2024-02-03T10:42:01.712028100Z"
    }
   }
  }
 ],
 "metadata": {
  "kernelspec": {
   "display_name": ".venv",
   "language": "python",
   "name": "python3"
  },
  "language_info": {
   "codemirror_mode": {
    "name": "ipython",
    "version": 3
   },
   "file_extension": ".py",
   "mimetype": "text/x-python",
   "name": "python",
   "nbconvert_exporter": "python",
   "pygments_lexer": "ipython3",
   "version": "3.12.1"
  }
 },
 "nbformat": 4,
 "nbformat_minor": 2
}
